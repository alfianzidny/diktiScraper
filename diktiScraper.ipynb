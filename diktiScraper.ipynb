{
 "cells": [
  {
   "cell_type": "markdown",
   "metadata": {},
   "source": [
    "# Dikti Scraper 0.1"
   ]
  },
  {
   "cell_type": "markdown",
   "metadata": {},
   "source": [
    "## melakukan pengambilan data unstructure dari halaman web"
   ]
  },
  {
   "cell_type": "markdown",
   "metadata": {},
   "source": [
    "##### membuat objek scrape"
   ]
  },
  {
   "cell_type": "code",
   "execution_count": null,
   "metadata": {
    "collapsed": false
   },
   "outputs": [
    {
     "name": "stdout",
     "output_type": "stream",
     "text": [
      "Databases Connected\n"
     ]
    }
   ],
   "source": [
    "from bs4 import BeautifulSoup\n",
    "import urllib\n",
    "import pandas\n",
    "import MySQLdb\n",
    "import os\n",
    "\n",
    "\n",
    "db = MySQLdb.connect(\n",
    "    host = '127.0.0.1',\n",
    "    user = 'root',\n",
    "    passwd = '310116',\n",
    "    db = 'diktiScraperdb'\n",
    ")\n",
    "print \"Databases Connected\"\n",
    "class scrape(object): #membuat objek scrape\n",
    "\n",
    "    def __init__(self, nameOfMachine): #inisiasi objek\n",
    "        self.nameOfMachine = nameOfMachine #pemberian atribut objek pada inisiasi\n",
    "\n",
    "    def getLink(self, addr): #membuat fungsi getLink\n",
    "        dataLink = {  #membuat dictionary\n",
    "        'addt' : [], #teks untuk penambahan\n",
    "        'link' : [] #link yang ada di halaman\n",
    "        }\n",
    "        def scrapePage(addr):\n",
    "            scrapeData = BeautifulSoup(urllib.urlopen(addr), \"html.parser\")\n",
    "            return scrapeData\n",
    "        data = scrapePage(addr)\n",
    "        for recordRow in data.findAll('tr'):\n",
    "            addtText = \"\"\n",
    "            for recordLink in recordRow.findAll('a', href=True):\n",
    "                tempData = recordLink.text.split()\n",
    "                for listOfTempData in tempData:\n",
    "                    addtText = addtText + listOfTempData + \" \"\n",
    "                dataLink['addt'].append(str(addtText))\n",
    "                dataLink['link'].append(str(recordLink['href']))\n",
    "        print \"Get DataLink Scrape HTML Object\"        \n",
    "        return dataLink\n",
    "    def getTextOnly(self,addr):\n",
    "        dataText = {\n",
    "            'addt' : []\n",
    "        }\n",
    "        listText = []\n",
    "        def scrapePage(addr):\n",
    "            scrapeData = BeautifulSoup(urllib.urlopen(addr), \"html.parser\")\n",
    "            return scrapeData\n",
    "        data = scrapePage(addr)\n",
    "        for recordRow in data.findAll('tr'):\n",
    "            for recordText in recordRow.findAll('td'):\n",
    "                listText.append(recordText.text)\n",
    "        for item in listText[2::21]:\n",
    "            addtText = \"\"\n",
    "            tempData = item.split()\n",
    "            for listOfTempData in tempData:\n",
    "                addtText = addtText + listOfTempData + \" \"\n",
    "            dataText['addt'].append(str(addtText))\n",
    "            #print addtText\n",
    "        print \"Get Text Faculty ScrapeHTML Object\"\n",
    "        return dataText\n"
   ]
  },
  {
   "cell_type": "code",
   "execution_count": null,
   "metadata": {
    "collapsed": false,
    "scrolled": true
   },
   "outputs": [
    {
     "name": "stdout",
     "output_type": "stream",
     "text": [
      "Get DataLink Scrape HTML Object\n",
      "Data Layer 0 transfered to SQL, done\n",
      "Data load from SQL layer0_df\n",
      "Get DataLink Scrape HTML Object\n",
      "list00 transfered to SQL, done\n",
      "Data load from SQL list00\n",
      "Get DataLink Scrape HTML Object\n",
      "list0000 transfered to SQL, done\n",
      "Data load from SQL list0000\n",
      "Get DataLink Scrape HTML Object\n",
      "list0001 transfered to SQL, done\n",
      "Data load from SQL list0001\n",
      "Get DataLink Scrape HTML Object\n",
      "list0002 transfered to SQL, done\n",
      "Data load from SQL list0002\n",
      "Get DataLink Scrape HTML Object\n",
      "list0003 transfered to SQL, done\n",
      "Data load from SQL list0003\n",
      "Get DataLink Scrape HTML Object\n",
      "list0004 transfered to SQL, done\n",
      "Data load from SQL list0004\n",
      "Get DataLink Scrape HTML Object\n",
      "list0005 transfered to SQL, done\n",
      "Data load from SQL list0005\n",
      "Get DataLink Scrape HTML Object\n",
      "list0006 transfered to SQL, done\n",
      "Data load from SQL list0006\n",
      "Get DataLink Scrape HTML Object\n",
      "list0007 transfered to SQL, done\n",
      "Data load from SQL list0007\n",
      "Get DataLink Scrape HTML Object\n",
      "list0008 transfered to SQL, done\n",
      "Data load from SQL list0008\n",
      "Get DataLink Scrape HTML Object\n",
      "list0009 transfered to SQL, done\n",
      "Data load from SQL list0009\n",
      "Get DataLink Scrape HTML Object\n",
      "list0010 transfered to SQL, done\n",
      "Data load from SQL list0010\n",
      "Get DataLink Scrape HTML Object\n",
      "list0011 transfered to SQL, done\n",
      "Data load from SQL list0011\n",
      "Get DataLink Scrape HTML Object\n",
      "list0012 transfered to SQL, done\n",
      "Data load from SQL list0012\n",
      "Get DataLink Scrape HTML Object\n",
      "list0013 transfered to SQL, done\n",
      "Data load from SQL list0013\n",
      "Get DataLink Scrape HTML Object\n",
      "list0014 transfered to SQL, done\n",
      "Data load from SQL list0014\n",
      "Get DataLink Scrape HTML Object\n",
      "list0015 transfered to SQL, done\n",
      "Data load from SQL list0015\n",
      "Get DataLink Scrape HTML Object\n",
      "list0016 transfered to SQL, done\n",
      "Data load from SQL list0016\n",
      "Get DataLink Scrape HTML Object\n",
      "list0017 transfered to SQL, done\n",
      "Data load from SQL list0017\n",
      "Get DataLink Scrape HTML Object\n",
      "list0018 transfered to SQL, done\n",
      "Data load from SQL list0018\n",
      "Get DataLink Scrape HTML Object\n",
      "list0019 transfered to SQL, done\n",
      "Data load from SQL list0019\n",
      "Get DataLink Scrape HTML Object\n",
      "list0020 transfered to SQL, done\n",
      "Data load from SQL list0020\n",
      "Get DataLink Scrape HTML Object\n",
      "list0021 transfered to SQL, done\n",
      "Data load from SQL list0021\n",
      "Get DataLink Scrape HTML Object\n",
      "list0022 transfered to SQL, done\n",
      "Data load from SQL list0022\n",
      "Get DataLink Scrape HTML Object\n",
      "list0023 transfered to SQL, done\n",
      "Data load from SQL list0023\n",
      "Get DataLink Scrape HTML Object\n",
      "list0024 transfered to SQL, done\n",
      "Data load from SQL list0024\n",
      "Get DataLink Scrape HTML Object\n",
      "list0025 transfered to SQL, done\n",
      "Data load from SQL list0025\n",
      "Get DataLink Scrape HTML Object\n",
      "list0026 transfered to SQL, done\n",
      "Data load from SQL list0026\n",
      "Get DataLink Scrape HTML Object\n",
      "list0027 transfered to SQL, done\n",
      "Data load from SQL list0027\n",
      "Get DataLink Scrape HTML Object\n",
      "list0028 transfered to SQL, done\n",
      "Data load from SQL list0028\n",
      "Get DataLink Scrape HTML Object\n",
      "list0029 transfered to SQL, done\n",
      "Data load from SQL list0029\n",
      "Get DataLink Scrape HTML Object\n",
      "list0030 transfered to SQL, done\n",
      "Data load from SQL list0030\n",
      "Get DataLink Scrape HTML Object\n",
      "list0031 transfered to SQL, done\n",
      "Data load from SQL list0031\n",
      "Get DataLink Scrape HTML Object\n",
      "list0032 transfered to SQL, done\n",
      "Data load from SQL list0032\n",
      "Get DataLink Scrape HTML Object\n",
      "list0033 transfered to SQL, done\n",
      "Data load from SQL list0033\n",
      "Get DataLink Scrape HTML Object\n",
      "list0034 transfered to SQL, done\n",
      "Data load from SQL list0034\n",
      "Get DataLink Scrape HTML Object\n",
      "list0035 transfered to SQL, done\n",
      "Data load from SQL list0035\n",
      "Get DataLink Scrape HTML Object\n",
      "list0036 transfered to SQL, done\n",
      "Data load from SQL list0036\n",
      "Get DataLink Scrape HTML Object\n",
      "list0037 transfered to SQL, done\n",
      "Data load from SQL list0037\n",
      "Get DataLink Scrape HTML Object\n",
      "list01 transfered to SQL, done\n",
      "Data load from SQL list01\n",
      "Get DataLink Scrape HTML Object\n",
      "list0100 transfered to SQL, done\n",
      "Data load from SQL list0100\n",
      "Get DataLink Scrape HTML Object\n",
      "list0101 transfered to SQL, done\n",
      "Data load from SQL list0101\n",
      "Get Text Faculty ScrapeHTML Object\n",
      "list010100 transfered to SQL, done\n"
     ]
    },
    {
     "name": "stderr",
     "output_type": "stream",
     "text": [
      "/home/alien/anaconda2/lib/python2.7/site-packages/ipykernel/__main__.py:95: Warning: Unknown table 'diktiScraperdb.list010100'\n"
     ]
    },
    {
     "name": "stdout",
     "output_type": "stream",
     "text": [
      "Get Text Faculty ScrapeHTML Object\n",
      "list010101 transfered to SQL, done\n"
     ]
    },
    {
     "name": "stderr",
     "output_type": "stream",
     "text": [
      "/home/alien/anaconda2/lib/python2.7/site-packages/ipykernel/__main__.py:95: Warning: Unknown table 'diktiScraperdb.list010101'\n"
     ]
    },
    {
     "name": "stdout",
     "output_type": "stream",
     "text": [
      "Get Text Faculty ScrapeHTML Object\n",
      "list010102 transfered to SQL, done\n"
     ]
    },
    {
     "name": "stderr",
     "output_type": "stream",
     "text": [
      "/home/alien/anaconda2/lib/python2.7/site-packages/ipykernel/__main__.py:95: Warning: Unknown table 'diktiScraperdb.list010102'\n"
     ]
    },
    {
     "name": "stdout",
     "output_type": "stream",
     "text": [
      "Get Text Faculty ScrapeHTML Object\n",
      "list010103 transfered to SQL, done\n"
     ]
    },
    {
     "name": "stderr",
     "output_type": "stream",
     "text": [
      "/home/alien/anaconda2/lib/python2.7/site-packages/ipykernel/__main__.py:95: Warning: Unknown table 'diktiScraperdb.list010103'\n"
     ]
    },
    {
     "name": "stdout",
     "output_type": "stream",
     "text": [
      "Get Text Faculty ScrapeHTML Object\n",
      "list010104 transfered to SQL, done\n"
     ]
    },
    {
     "name": "stderr",
     "output_type": "stream",
     "text": [
      "/home/alien/anaconda2/lib/python2.7/site-packages/ipykernel/__main__.py:95: Warning: Unknown table 'diktiScraperdb.list010104'\n"
     ]
    },
    {
     "name": "stdout",
     "output_type": "stream",
     "text": [
      "Get Text Faculty ScrapeHTML Object\n",
      "list010105 transfered to SQL, done\n"
     ]
    },
    {
     "name": "stderr",
     "output_type": "stream",
     "text": [
      "/home/alien/anaconda2/lib/python2.7/site-packages/ipykernel/__main__.py:95: Warning: Unknown table 'diktiScraperdb.list010105'\n"
     ]
    },
    {
     "name": "stdout",
     "output_type": "stream",
     "text": [
      "Get Text Faculty ScrapeHTML Object\n",
      "list010106 transfered to SQL, done\n"
     ]
    },
    {
     "name": "stderr",
     "output_type": "stream",
     "text": [
      "/home/alien/anaconda2/lib/python2.7/site-packages/ipykernel/__main__.py:95: Warning: Unknown table 'diktiScraperdb.list010106'\n"
     ]
    },
    {
     "name": "stdout",
     "output_type": "stream",
     "text": [
      "Get Text Faculty ScrapeHTML Object\n",
      "list010107 transfered to SQL, done\n"
     ]
    },
    {
     "name": "stderr",
     "output_type": "stream",
     "text": [
      "/home/alien/anaconda2/lib/python2.7/site-packages/ipykernel/__main__.py:95: Warning: Unknown table 'diktiScraperdb.list010107'\n"
     ]
    },
    {
     "name": "stdout",
     "output_type": "stream",
     "text": [
      "Get Text Faculty ScrapeHTML Object\n",
      "list010108 transfered to SQL, done\n"
     ]
    },
    {
     "name": "stderr",
     "output_type": "stream",
     "text": [
      "/home/alien/anaconda2/lib/python2.7/site-packages/ipykernel/__main__.py:95: Warning: Unknown table 'diktiScraperdb.list010108'\n"
     ]
    },
    {
     "name": "stdout",
     "output_type": "stream",
     "text": [
      "Get Text Faculty ScrapeHTML Object\n",
      "list010109 transfered to SQL, done\n"
     ]
    },
    {
     "name": "stderr",
     "output_type": "stream",
     "text": [
      "/home/alien/anaconda2/lib/python2.7/site-packages/ipykernel/__main__.py:95: Warning: Unknown table 'diktiScraperdb.list010109'\n"
     ]
    },
    {
     "name": "stdout",
     "output_type": "stream",
     "text": [
      "Get Text Faculty ScrapeHTML Object\n",
      "list010110 transfered to SQL, done\n"
     ]
    },
    {
     "name": "stderr",
     "output_type": "stream",
     "text": [
      "/home/alien/anaconda2/lib/python2.7/site-packages/ipykernel/__main__.py:95: Warning: Unknown table 'diktiScraperdb.list010110'\n"
     ]
    },
    {
     "name": "stdout",
     "output_type": "stream",
     "text": [
      "Get Text Faculty ScrapeHTML Object\n",
      "list010111 transfered to SQL, done\n"
     ]
    },
    {
     "name": "stderr",
     "output_type": "stream",
     "text": [
      "/home/alien/anaconda2/lib/python2.7/site-packages/ipykernel/__main__.py:95: Warning: Unknown table 'diktiScraperdb.list010111'\n"
     ]
    },
    {
     "name": "stdout",
     "output_type": "stream",
     "text": [
      "Get Text Faculty ScrapeHTML Object\n",
      "list010112 transfered to SQL, done\n"
     ]
    },
    {
     "name": "stderr",
     "output_type": "stream",
     "text": [
      "/home/alien/anaconda2/lib/python2.7/site-packages/ipykernel/__main__.py:95: Warning: Unknown table 'diktiScraperdb.list010112'\n"
     ]
    },
    {
     "name": "stdout",
     "output_type": "stream",
     "text": [
      "Get Text Faculty ScrapeHTML Object\n",
      "list010113 transfered to SQL, done\n"
     ]
    },
    {
     "name": "stderr",
     "output_type": "stream",
     "text": [
      "/home/alien/anaconda2/lib/python2.7/site-packages/ipykernel/__main__.py:95: Warning: Unknown table 'diktiScraperdb.list010113'\n"
     ]
    },
    {
     "name": "stdout",
     "output_type": "stream",
     "text": [
      "Get Text Faculty ScrapeHTML Object\n",
      "list010114 transfered to SQL, done\n"
     ]
    },
    {
     "name": "stderr",
     "output_type": "stream",
     "text": [
      "/home/alien/anaconda2/lib/python2.7/site-packages/ipykernel/__main__.py:95: Warning: Unknown table 'diktiScraperdb.list010114'\n"
     ]
    },
    {
     "name": "stdout",
     "output_type": "stream",
     "text": [
      "Get Text Faculty ScrapeHTML Object\n",
      "list010115 transfered to SQL, done\n"
     ]
    },
    {
     "name": "stderr",
     "output_type": "stream",
     "text": [
      "/home/alien/anaconda2/lib/python2.7/site-packages/ipykernel/__main__.py:95: Warning: Unknown table 'diktiScraperdb.list010115'\n"
     ]
    },
    {
     "name": "stdout",
     "output_type": "stream",
     "text": [
      "Get Text Faculty ScrapeHTML Object\n",
      "list010116 transfered to SQL, done\n"
     ]
    },
    {
     "name": "stderr",
     "output_type": "stream",
     "text": [
      "/home/alien/anaconda2/lib/python2.7/site-packages/ipykernel/__main__.py:95: Warning: Unknown table 'diktiScraperdb.list010116'\n"
     ]
    },
    {
     "name": "stdout",
     "output_type": "stream",
     "text": [
      "Get Text Faculty ScrapeHTML Object\n",
      "list010117 transfered to SQL, done\n"
     ]
    },
    {
     "name": "stderr",
     "output_type": "stream",
     "text": [
      "/home/alien/anaconda2/lib/python2.7/site-packages/ipykernel/__main__.py:95: Warning: Unknown table 'diktiScraperdb.list010117'\n"
     ]
    },
    {
     "name": "stdout",
     "output_type": "stream",
     "text": [
      "Get Text Faculty ScrapeHTML Object\n",
      "list010118 transfered to SQL, done\n"
     ]
    },
    {
     "name": "stderr",
     "output_type": "stream",
     "text": [
      "/home/alien/anaconda2/lib/python2.7/site-packages/ipykernel/__main__.py:95: Warning: Unknown table 'diktiScraperdb.list010118'\n"
     ]
    },
    {
     "name": "stdout",
     "output_type": "stream",
     "text": [
      "Get Text Faculty ScrapeHTML Object\n",
      "list010119 transfered to SQL, done\n"
     ]
    },
    {
     "name": "stderr",
     "output_type": "stream",
     "text": [
      "/home/alien/anaconda2/lib/python2.7/site-packages/ipykernel/__main__.py:95: Warning: Unknown table 'diktiScraperdb.list010119'\n"
     ]
    },
    {
     "name": "stdout",
     "output_type": "stream",
     "text": [
      "Get Text Faculty ScrapeHTML Object\n",
      "list010120 transfered to SQL, done\n"
     ]
    },
    {
     "name": "stderr",
     "output_type": "stream",
     "text": [
      "/home/alien/anaconda2/lib/python2.7/site-packages/ipykernel/__main__.py:95: Warning: Unknown table 'diktiScraperdb.list010120'\n"
     ]
    },
    {
     "name": "stdout",
     "output_type": "stream",
     "text": [
      "Get Text Faculty ScrapeHTML Object\n",
      "list010121 transfered to SQL, done\n"
     ]
    },
    {
     "name": "stderr",
     "output_type": "stream",
     "text": [
      "/home/alien/anaconda2/lib/python2.7/site-packages/ipykernel/__main__.py:95: Warning: Unknown table 'diktiScraperdb.list010121'\n"
     ]
    },
    {
     "name": "stdout",
     "output_type": "stream",
     "text": [
      "Get Text Faculty ScrapeHTML Object\n",
      "list010122 transfered to SQL, done\n"
     ]
    },
    {
     "name": "stderr",
     "output_type": "stream",
     "text": [
      "/home/alien/anaconda2/lib/python2.7/site-packages/ipykernel/__main__.py:95: Warning: Unknown table 'diktiScraperdb.list010122'\n"
     ]
    },
    {
     "name": "stdout",
     "output_type": "stream",
     "text": [
      "Get Text Faculty ScrapeHTML Object\n",
      "list010123 transfered to SQL, done\n"
     ]
    },
    {
     "name": "stderr",
     "output_type": "stream",
     "text": [
      "/home/alien/anaconda2/lib/python2.7/site-packages/ipykernel/__main__.py:95: Warning: Unknown table 'diktiScraperdb.list010123'\n"
     ]
    },
    {
     "name": "stdout",
     "output_type": "stream",
     "text": [
      "Get Text Faculty ScrapeHTML Object\n",
      "list010124 transfered to SQL, done\n"
     ]
    },
    {
     "name": "stderr",
     "output_type": "stream",
     "text": [
      "/home/alien/anaconda2/lib/python2.7/site-packages/ipykernel/__main__.py:95: Warning: Unknown table 'diktiScraperdb.list010124'\n"
     ]
    },
    {
     "name": "stdout",
     "output_type": "stream",
     "text": [
      "Get Text Faculty ScrapeHTML Object\n",
      "list010125 transfered to SQL, done\n"
     ]
    },
    {
     "name": "stderr",
     "output_type": "stream",
     "text": [
      "/home/alien/anaconda2/lib/python2.7/site-packages/ipykernel/__main__.py:95: Warning: Unknown table 'diktiScraperdb.list010125'\n"
     ]
    },
    {
     "name": "stdout",
     "output_type": "stream",
     "text": [
      "Get Text Faculty ScrapeHTML Object\n",
      "list010126 transfered to SQL, done\n"
     ]
    },
    {
     "name": "stderr",
     "output_type": "stream",
     "text": [
      "/home/alien/anaconda2/lib/python2.7/site-packages/ipykernel/__main__.py:95: Warning: Unknown table 'diktiScraperdb.list010126'\n"
     ]
    },
    {
     "name": "stdout",
     "output_type": "stream",
     "text": [
      "Get Text Faculty ScrapeHTML Object\n",
      "list010127 transfered to SQL, done\n"
     ]
    },
    {
     "name": "stderr",
     "output_type": "stream",
     "text": [
      "/home/alien/anaconda2/lib/python2.7/site-packages/ipykernel/__main__.py:95: Warning: Unknown table 'diktiScraperdb.list010127'\n"
     ]
    },
    {
     "name": "stdout",
     "output_type": "stream",
     "text": [
      "Get Text Faculty ScrapeHTML Object\n",
      "list010128 transfered to SQL, done\n"
     ]
    },
    {
     "name": "stderr",
     "output_type": "stream",
     "text": [
      "/home/alien/anaconda2/lib/python2.7/site-packages/ipykernel/__main__.py:95: Warning: Unknown table 'diktiScraperdb.list010128'\n"
     ]
    },
    {
     "name": "stdout",
     "output_type": "stream",
     "text": [
      "Get Text Faculty ScrapeHTML Object\n",
      "list010129 transfered to SQL, done\n"
     ]
    },
    {
     "name": "stderr",
     "output_type": "stream",
     "text": [
      "/home/alien/anaconda2/lib/python2.7/site-packages/ipykernel/__main__.py:95: Warning: Unknown table 'diktiScraperdb.list010129'\n"
     ]
    },
    {
     "name": "stdout",
     "output_type": "stream",
     "text": [
      "Get Text Faculty ScrapeHTML Object\n",
      "list010130 transfered to SQL, done\n"
     ]
    },
    {
     "name": "stderr",
     "output_type": "stream",
     "text": [
      "/home/alien/anaconda2/lib/python2.7/site-packages/ipykernel/__main__.py:95: Warning: Unknown table 'diktiScraperdb.list010130'\n"
     ]
    },
    {
     "name": "stdout",
     "output_type": "stream",
     "text": [
      "Get Text Faculty ScrapeHTML Object\n",
      "list010131 transfered to SQL, done\n"
     ]
    },
    {
     "name": "stderr",
     "output_type": "stream",
     "text": [
      "/home/alien/anaconda2/lib/python2.7/site-packages/ipykernel/__main__.py:95: Warning: Unknown table 'diktiScraperdb.list010131'\n"
     ]
    },
    {
     "name": "stdout",
     "output_type": "stream",
     "text": [
      "Get Text Faculty ScrapeHTML Object\n",
      "list010132 transfered to SQL, done\n"
     ]
    },
    {
     "name": "stderr",
     "output_type": "stream",
     "text": [
      "/home/alien/anaconda2/lib/python2.7/site-packages/ipykernel/__main__.py:95: Warning: Unknown table 'diktiScraperdb.list010132'\n"
     ]
    },
    {
     "name": "stdout",
     "output_type": "stream",
     "text": [
      "Get Text Faculty ScrapeHTML Object\n",
      "list010133 transfered to SQL, done\n"
     ]
    },
    {
     "name": "stderr",
     "output_type": "stream",
     "text": [
      "/home/alien/anaconda2/lib/python2.7/site-packages/ipykernel/__main__.py:95: Warning: Unknown table 'diktiScraperdb.list010133'\n"
     ]
    },
    {
     "name": "stdout",
     "output_type": "stream",
     "text": [
      "Get Text Faculty ScrapeHTML Object\n",
      "list010134 transfered to SQL, done\n"
     ]
    },
    {
     "name": "stderr",
     "output_type": "stream",
     "text": [
      "/home/alien/anaconda2/lib/python2.7/site-packages/ipykernel/__main__.py:95: Warning: Unknown table 'diktiScraperdb.list010134'\n"
     ]
    },
    {
     "name": "stdout",
     "output_type": "stream",
     "text": [
      "Get Text Faculty ScrapeHTML Object\n",
      "list010135 transfered to SQL, done\n"
     ]
    },
    {
     "name": "stderr",
     "output_type": "stream",
     "text": [
      "/home/alien/anaconda2/lib/python2.7/site-packages/ipykernel/__main__.py:95: Warning: Unknown table 'diktiScraperdb.list010135'\n"
     ]
    },
    {
     "name": "stdout",
     "output_type": "stream",
     "text": [
      "Get Text Faculty ScrapeHTML Object\n"
     ]
    },
    {
     "name": "stderr",
     "output_type": "stream",
     "text": [
      "/home/alien/anaconda2/lib/python2.7/site-packages/ipykernel/__main__.py:95: Warning: Unknown table 'diktiScraperdb.list010136'\n"
     ]
    },
    {
     "name": "stdout",
     "output_type": "stream",
     "text": [
      "list010136 transfered to SQL, done\n",
      "Get Text Faculty ScrapeHTML Object\n",
      "list010137 transfered to SQL, done\n"
     ]
    },
    {
     "name": "stderr",
     "output_type": "stream",
     "text": [
      "/home/alien/anaconda2/lib/python2.7/site-packages/ipykernel/__main__.py:95: Warning: Unknown table 'diktiScraperdb.list010137'\n"
     ]
    },
    {
     "name": "stdout",
     "output_type": "stream",
     "text": [
      "Get Text Faculty ScrapeHTML Object\n",
      "list010138 transfered to SQL, done\n"
     ]
    },
    {
     "name": "stderr",
     "output_type": "stream",
     "text": [
      "/home/alien/anaconda2/lib/python2.7/site-packages/ipykernel/__main__.py:95: Warning: Unknown table 'diktiScraperdb.list010138'\n"
     ]
    },
    {
     "name": "stdout",
     "output_type": "stream",
     "text": [
      "Get Text Faculty ScrapeHTML Object\n",
      "list010139 transfered to SQL, done\n"
     ]
    },
    {
     "name": "stderr",
     "output_type": "stream",
     "text": [
      "/home/alien/anaconda2/lib/python2.7/site-packages/ipykernel/__main__.py:95: Warning: Unknown table 'diktiScraperdb.list010139'\n"
     ]
    },
    {
     "name": "stdout",
     "output_type": "stream",
     "text": [
      "Get Text Faculty ScrapeHTML Object\n",
      "list010140 transfered to SQL, done\n"
     ]
    },
    {
     "name": "stderr",
     "output_type": "stream",
     "text": [
      "/home/alien/anaconda2/lib/python2.7/site-packages/ipykernel/__main__.py:95: Warning: Unknown table 'diktiScraperdb.list010140'\n"
     ]
    },
    {
     "name": "stdout",
     "output_type": "stream",
     "text": [
      "Get Text Faculty ScrapeHTML Object\n",
      "list010141 transfered to SQL, done\n"
     ]
    },
    {
     "name": "stderr",
     "output_type": "stream",
     "text": [
      "/home/alien/anaconda2/lib/python2.7/site-packages/ipykernel/__main__.py:95: Warning: Unknown table 'diktiScraperdb.list010141'\n"
     ]
    },
    {
     "name": "stdout",
     "output_type": "stream",
     "text": [
      "Get Text Faculty ScrapeHTML Object\n",
      "list010142 transfered to SQL, done\n"
     ]
    },
    {
     "name": "stderr",
     "output_type": "stream",
     "text": [
      "/home/alien/anaconda2/lib/python2.7/site-packages/ipykernel/__main__.py:95: Warning: Unknown table 'diktiScraperdb.list010142'\n"
     ]
    },
    {
     "name": "stdout",
     "output_type": "stream",
     "text": [
      "Get Text Faculty ScrapeHTML Object\n",
      "list010143 transfered to SQL, done\n"
     ]
    },
    {
     "name": "stderr",
     "output_type": "stream",
     "text": [
      "/home/alien/anaconda2/lib/python2.7/site-packages/ipykernel/__main__.py:95: Warning: Unknown table 'diktiScraperdb.list010143'\n"
     ]
    },
    {
     "name": "stdout",
     "output_type": "stream",
     "text": [
      "Get Text Faculty ScrapeHTML Object\n",
      "list010144 transfered to SQL, done\n"
     ]
    },
    {
     "name": "stderr",
     "output_type": "stream",
     "text": [
      "/home/alien/anaconda2/lib/python2.7/site-packages/ipykernel/__main__.py:95: Warning: Unknown table 'diktiScraperdb.list010144'\n"
     ]
    },
    {
     "name": "stdout",
     "output_type": "stream",
     "text": [
      "Get Text Faculty ScrapeHTML Object\n",
      "list010145 transfered to SQL, done\n"
     ]
    },
    {
     "name": "stderr",
     "output_type": "stream",
     "text": [
      "/home/alien/anaconda2/lib/python2.7/site-packages/ipykernel/__main__.py:95: Warning: Unknown table 'diktiScraperdb.list010145'\n"
     ]
    },
    {
     "name": "stdout",
     "output_type": "stream",
     "text": [
      "Get Text Faculty ScrapeHTML Object\n",
      "list010146 transfered to SQL, done\n"
     ]
    },
    {
     "name": "stderr",
     "output_type": "stream",
     "text": [
      "/home/alien/anaconda2/lib/python2.7/site-packages/ipykernel/__main__.py:95: Warning: Unknown table 'diktiScraperdb.list010146'\n"
     ]
    },
    {
     "name": "stdout",
     "output_type": "stream",
     "text": [
      "Get Text Faculty ScrapeHTML Object\n"
     ]
    },
    {
     "name": "stderr",
     "output_type": "stream",
     "text": [
      "/home/alien/anaconda2/lib/python2.7/site-packages/ipykernel/__main__.py:95: Warning: Unknown table 'diktiScraperdb.list010147'\n"
     ]
    },
    {
     "name": "stdout",
     "output_type": "stream",
     "text": [
      "list010147 transfered to SQL, done\n",
      "Get Text Faculty ScrapeHTML Object\n",
      "list010148 transfered to SQL, done\n"
     ]
    },
    {
     "name": "stderr",
     "output_type": "stream",
     "text": [
      "/home/alien/anaconda2/lib/python2.7/site-packages/ipykernel/__main__.py:95: Warning: Unknown table 'diktiScraperdb.list010148'\n"
     ]
    },
    {
     "name": "stdout",
     "output_type": "stream",
     "text": [
      "Get Text Faculty ScrapeHTML Object\n",
      "list010149 transfered to SQL, done\n"
     ]
    },
    {
     "name": "stderr",
     "output_type": "stream",
     "text": [
      "/home/alien/anaconda2/lib/python2.7/site-packages/ipykernel/__main__.py:95: Warning: Unknown table 'diktiScraperdb.list010149'\n"
     ]
    },
    {
     "name": "stdout",
     "output_type": "stream",
     "text": [
      "Get Text Faculty ScrapeHTML Object\n",
      "list010150 transfered to SQL, done\n"
     ]
    },
    {
     "name": "stderr",
     "output_type": "stream",
     "text": [
      "/home/alien/anaconda2/lib/python2.7/site-packages/ipykernel/__main__.py:95: Warning: Unknown table 'diktiScraperdb.list010150'\n"
     ]
    },
    {
     "name": "stdout",
     "output_type": "stream",
     "text": [
      "Get Text Faculty ScrapeHTML Object\n",
      "list010151 transfered to SQL, done\n"
     ]
    },
    {
     "name": "stderr",
     "output_type": "stream",
     "text": [
      "/home/alien/anaconda2/lib/python2.7/site-packages/ipykernel/__main__.py:95: Warning: Unknown table 'diktiScraperdb.list010151'\n"
     ]
    },
    {
     "name": "stdout",
     "output_type": "stream",
     "text": [
      "Get Text Faculty ScrapeHTML Object\n",
      "list010152 transfered to SQL, done\n"
     ]
    },
    {
     "name": "stderr",
     "output_type": "stream",
     "text": [
      "/home/alien/anaconda2/lib/python2.7/site-packages/ipykernel/__main__.py:95: Warning: Unknown table 'diktiScraperdb.list010152'\n"
     ]
    },
    {
     "name": "stdout",
     "output_type": "stream",
     "text": [
      "Get Text Faculty ScrapeHTML Object\n",
      "list010153 transfered to SQL, done\n"
     ]
    },
    {
     "name": "stderr",
     "output_type": "stream",
     "text": [
      "/home/alien/anaconda2/lib/python2.7/site-packages/ipykernel/__main__.py:95: Warning: Unknown table 'diktiScraperdb.list010153'\n"
     ]
    },
    {
     "name": "stdout",
     "output_type": "stream",
     "text": [
      "Get Text Faculty ScrapeHTML Object\n",
      "list010154 transfered to SQL, done\n"
     ]
    },
    {
     "name": "stderr",
     "output_type": "stream",
     "text": [
      "/home/alien/anaconda2/lib/python2.7/site-packages/ipykernel/__main__.py:95: Warning: Unknown table 'diktiScraperdb.list010154'\n"
     ]
    },
    {
     "name": "stdout",
     "output_type": "stream",
     "text": [
      "Get Text Faculty ScrapeHTML Object\n",
      "list010155 transfered to SQL, done\n"
     ]
    },
    {
     "name": "stderr",
     "output_type": "stream",
     "text": [
      "/home/alien/anaconda2/lib/python2.7/site-packages/ipykernel/__main__.py:95: Warning: Unknown table 'diktiScraperdb.list010155'\n"
     ]
    },
    {
     "name": "stdout",
     "output_type": "stream",
     "text": [
      "Get Text Faculty ScrapeHTML Object\n",
      "list010156 transfered to SQL, done\n"
     ]
    },
    {
     "name": "stderr",
     "output_type": "stream",
     "text": [
      "/home/alien/anaconda2/lib/python2.7/site-packages/ipykernel/__main__.py:95: Warning: Unknown table 'diktiScraperdb.list010156'\n"
     ]
    },
    {
     "name": "stdout",
     "output_type": "stream",
     "text": [
      "Get Text Faculty ScrapeHTML Object\n",
      "list010157 transfered to SQL, done\n"
     ]
    },
    {
     "name": "stderr",
     "output_type": "stream",
     "text": [
      "/home/alien/anaconda2/lib/python2.7/site-packages/ipykernel/__main__.py:95: Warning: Unknown table 'diktiScraperdb.list010157'\n"
     ]
    },
    {
     "name": "stdout",
     "output_type": "stream",
     "text": [
      "Get Text Faculty ScrapeHTML Object\n",
      "list010158 transfered to SQL, done\n"
     ]
    },
    {
     "name": "stderr",
     "output_type": "stream",
     "text": [
      "/home/alien/anaconda2/lib/python2.7/site-packages/ipykernel/__main__.py:95: Warning: Unknown table 'diktiScraperdb.list010158'\n"
     ]
    },
    {
     "name": "stdout",
     "output_type": "stream",
     "text": [
      "Get Text Faculty ScrapeHTML Object\n",
      "list010159 transfered to SQL, done\n"
     ]
    },
    {
     "name": "stderr",
     "output_type": "stream",
     "text": [
      "/home/alien/anaconda2/lib/python2.7/site-packages/ipykernel/__main__.py:95: Warning: Unknown table 'diktiScraperdb.list010159'\n"
     ]
    },
    {
     "name": "stdout",
     "output_type": "stream",
     "text": [
      "Get Text Faculty ScrapeHTML Object\n",
      "list010160 transfered to SQL, done\n"
     ]
    },
    {
     "name": "stderr",
     "output_type": "stream",
     "text": [
      "/home/alien/anaconda2/lib/python2.7/site-packages/ipykernel/__main__.py:95: Warning: Unknown table 'diktiScraperdb.list010160'\n"
     ]
    },
    {
     "name": "stdout",
     "output_type": "stream",
     "text": [
      "Get Text Faculty ScrapeHTML Object\n"
     ]
    },
    {
     "name": "stderr",
     "output_type": "stream",
     "text": [
      "/home/alien/anaconda2/lib/python2.7/site-packages/ipykernel/__main__.py:95: Warning: Unknown table 'diktiScraperdb.list010161'\n"
     ]
    },
    {
     "name": "stdout",
     "output_type": "stream",
     "text": [
      "list010161 transfered to SQL, done\n",
      "Get Text Faculty ScrapeHTML Object\n",
      "list010162 transfered to SQL, done\n"
     ]
    },
    {
     "name": "stderr",
     "output_type": "stream",
     "text": [
      "/home/alien/anaconda2/lib/python2.7/site-packages/ipykernel/__main__.py:95: Warning: Unknown table 'diktiScraperdb.list010162'\n"
     ]
    },
    {
     "name": "stdout",
     "output_type": "stream",
     "text": [
      "Get Text Faculty ScrapeHTML Object\n",
      "list010163 transfered to SQL, done\n"
     ]
    },
    {
     "name": "stderr",
     "output_type": "stream",
     "text": [
      "/home/alien/anaconda2/lib/python2.7/site-packages/ipykernel/__main__.py:95: Warning: Unknown table 'diktiScraperdb.list010163'\n"
     ]
    },
    {
     "name": "stdout",
     "output_type": "stream",
     "text": [
      "Get Text Faculty ScrapeHTML Object\n",
      "list010164 transfered to SQL, done\n"
     ]
    },
    {
     "name": "stderr",
     "output_type": "stream",
     "text": [
      "/home/alien/anaconda2/lib/python2.7/site-packages/ipykernel/__main__.py:95: Warning: Unknown table 'diktiScraperdb.list010164'\n"
     ]
    },
    {
     "name": "stdout",
     "output_type": "stream",
     "text": [
      "Get Text Faculty ScrapeHTML Object\n",
      "list010165 transfered to SQL, done\n"
     ]
    },
    {
     "name": "stderr",
     "output_type": "stream",
     "text": [
      "/home/alien/anaconda2/lib/python2.7/site-packages/ipykernel/__main__.py:95: Warning: Unknown table 'diktiScraperdb.list010165'\n"
     ]
    },
    {
     "name": "stdout",
     "output_type": "stream",
     "text": [
      "Get Text Faculty ScrapeHTML Object\n",
      "list010166 transfered to SQL, done\n"
     ]
    },
    {
     "name": "stderr",
     "output_type": "stream",
     "text": [
      "/home/alien/anaconda2/lib/python2.7/site-packages/ipykernel/__main__.py:95: Warning: Unknown table 'diktiScraperdb.list010166'\n"
     ]
    },
    {
     "name": "stdout",
     "output_type": "stream",
     "text": [
      "Get Text Faculty ScrapeHTML Object\n",
      "list010167 transfered to SQL, done\n"
     ]
    },
    {
     "name": "stderr",
     "output_type": "stream",
     "text": [
      "/home/alien/anaconda2/lib/python2.7/site-packages/ipykernel/__main__.py:95: Warning: Unknown table 'diktiScraperdb.list010167'\n"
     ]
    },
    {
     "name": "stdout",
     "output_type": "stream",
     "text": [
      "Get Text Faculty ScrapeHTML Object\n",
      "list010168 transfered to SQL, done\n"
     ]
    },
    {
     "name": "stderr",
     "output_type": "stream",
     "text": [
      "/home/alien/anaconda2/lib/python2.7/site-packages/ipykernel/__main__.py:95: Warning: Unknown table 'diktiScraperdb.list010168'\n"
     ]
    },
    {
     "name": "stdout",
     "output_type": "stream",
     "text": [
      "Get Text Faculty ScrapeHTML Object\n",
      "list010169 transfered to SQL, done\n"
     ]
    },
    {
     "name": "stderr",
     "output_type": "stream",
     "text": [
      "/home/alien/anaconda2/lib/python2.7/site-packages/ipykernel/__main__.py:95: Warning: Unknown table 'diktiScraperdb.list010169'\n"
     ]
    },
    {
     "name": "stdout",
     "output_type": "stream",
     "text": [
      "Get Text Faculty ScrapeHTML Object\n",
      "list010170 transfered to SQL, done\n"
     ]
    },
    {
     "name": "stderr",
     "output_type": "stream",
     "text": [
      "/home/alien/anaconda2/lib/python2.7/site-packages/ipykernel/__main__.py:95: Warning: Unknown table 'diktiScraperdb.list010170'\n"
     ]
    },
    {
     "name": "stdout",
     "output_type": "stream",
     "text": [
      "Get Text Faculty ScrapeHTML Object\n",
      "list010171 transfered to SQL, done\n"
     ]
    },
    {
     "name": "stderr",
     "output_type": "stream",
     "text": [
      "/home/alien/anaconda2/lib/python2.7/site-packages/ipykernel/__main__.py:95: Warning: Unknown table 'diktiScraperdb.list010171'\n"
     ]
    },
    {
     "name": "stdout",
     "output_type": "stream",
     "text": [
      "Get Text Faculty ScrapeHTML Object\n",
      "list010172 transfered to SQL, done\n"
     ]
    },
    {
     "name": "stderr",
     "output_type": "stream",
     "text": [
      "/home/alien/anaconda2/lib/python2.7/site-packages/ipykernel/__main__.py:95: Warning: Unknown table 'diktiScraperdb.list010172'\n"
     ]
    },
    {
     "name": "stdout",
     "output_type": "stream",
     "text": [
      "Get Text Faculty ScrapeHTML Object\n",
      "list010173 transfered to SQL, done\n"
     ]
    },
    {
     "name": "stderr",
     "output_type": "stream",
     "text": [
      "/home/alien/anaconda2/lib/python2.7/site-packages/ipykernel/__main__.py:95: Warning: Unknown table 'diktiScraperdb.list010173'\n"
     ]
    },
    {
     "name": "stdout",
     "output_type": "stream",
     "text": [
      "Get Text Faculty ScrapeHTML Object\n",
      "list010174 transfered to SQL, done\n"
     ]
    },
    {
     "name": "stderr",
     "output_type": "stream",
     "text": [
      "/home/alien/anaconda2/lib/python2.7/site-packages/ipykernel/__main__.py:95: Warning: Unknown table 'diktiScraperdb.list010174'\n"
     ]
    },
    {
     "name": "stdout",
     "output_type": "stream",
     "text": [
      "Get Text Faculty ScrapeHTML Object\n",
      "list010175 transfered to SQL, done\n"
     ]
    },
    {
     "name": "stderr",
     "output_type": "stream",
     "text": [
      "/home/alien/anaconda2/lib/python2.7/site-packages/ipykernel/__main__.py:95: Warning: Unknown table 'diktiScraperdb.list010175'\n"
     ]
    },
    {
     "name": "stdout",
     "output_type": "stream",
     "text": [
      "Get Text Faculty ScrapeHTML Object\n",
      "list010176 transfered to SQL, done\n"
     ]
    },
    {
     "name": "stderr",
     "output_type": "stream",
     "text": [
      "/home/alien/anaconda2/lib/python2.7/site-packages/ipykernel/__main__.py:95: Warning: Unknown table 'diktiScraperdb.list010176'\n"
     ]
    },
    {
     "name": "stdout",
     "output_type": "stream",
     "text": [
      "Get Text Faculty ScrapeHTML Object\n",
      "list010177 transfered to SQL, done\n"
     ]
    },
    {
     "name": "stderr",
     "output_type": "stream",
     "text": [
      "/home/alien/anaconda2/lib/python2.7/site-packages/ipykernel/__main__.py:95: Warning: Unknown table 'diktiScraperdb.list010177'\n"
     ]
    },
    {
     "name": "stdout",
     "output_type": "stream",
     "text": [
      "Get Text Faculty ScrapeHTML Object\n",
      "list010178 transfered to SQL, done\n"
     ]
    },
    {
     "name": "stderr",
     "output_type": "stream",
     "text": [
      "/home/alien/anaconda2/lib/python2.7/site-packages/ipykernel/__main__.py:95: Warning: Unknown table 'diktiScraperdb.list010178'\n"
     ]
    },
    {
     "name": "stdout",
     "output_type": "stream",
     "text": [
      "Get Text Faculty ScrapeHTML Object\n",
      "list010179 transfered to SQL, done\n"
     ]
    },
    {
     "name": "stderr",
     "output_type": "stream",
     "text": [
      "/home/alien/anaconda2/lib/python2.7/site-packages/ipykernel/__main__.py:95: Warning: Unknown table 'diktiScraperdb.list010179'\n"
     ]
    },
    {
     "name": "stdout",
     "output_type": "stream",
     "text": [
      "Get Text Faculty ScrapeHTML Object\n",
      "list010180 transfered to SQL, done\n"
     ]
    },
    {
     "name": "stderr",
     "output_type": "stream",
     "text": [
      "/home/alien/anaconda2/lib/python2.7/site-packages/ipykernel/__main__.py:95: Warning: Unknown table 'diktiScraperdb.list010180'\n"
     ]
    },
    {
     "name": "stdout",
     "output_type": "stream",
     "text": [
      "Get Text Faculty ScrapeHTML Object\n",
      "list010181 transfered to SQL, done\n"
     ]
    },
    {
     "name": "stderr",
     "output_type": "stream",
     "text": [
      "/home/alien/anaconda2/lib/python2.7/site-packages/ipykernel/__main__.py:95: Warning: Unknown table 'diktiScraperdb.list010181'\n"
     ]
    },
    {
     "name": "stdout",
     "output_type": "stream",
     "text": [
      "Get Text Faculty ScrapeHTML Object\n",
      "list010182 transfered to SQL, done\n"
     ]
    },
    {
     "name": "stderr",
     "output_type": "stream",
     "text": [
      "/home/alien/anaconda2/lib/python2.7/site-packages/ipykernel/__main__.py:95: Warning: Unknown table 'diktiScraperdb.list010182'\n"
     ]
    },
    {
     "name": "stdout",
     "output_type": "stream",
     "text": [
      "Get Text Faculty ScrapeHTML Object\n",
      "list010183 transfered to SQL, done\n"
     ]
    },
    {
     "name": "stderr",
     "output_type": "stream",
     "text": [
      "/home/alien/anaconda2/lib/python2.7/site-packages/ipykernel/__main__.py:95: Warning: Unknown table 'diktiScraperdb.list010183'\n"
     ]
    },
    {
     "name": "stdout",
     "output_type": "stream",
     "text": [
      "Get Text Faculty ScrapeHTML Object\n",
      "list010184 transfered to SQL, done\n"
     ]
    },
    {
     "name": "stderr",
     "output_type": "stream",
     "text": [
      "/home/alien/anaconda2/lib/python2.7/site-packages/ipykernel/__main__.py:95: Warning: Unknown table 'diktiScraperdb.list010184'\n"
     ]
    },
    {
     "name": "stdout",
     "output_type": "stream",
     "text": [
      "Get Text Faculty ScrapeHTML Object\n",
      "list010185 transfered to SQL, done\n"
     ]
    },
    {
     "name": "stderr",
     "output_type": "stream",
     "text": [
      "/home/alien/anaconda2/lib/python2.7/site-packages/ipykernel/__main__.py:95: Warning: Unknown table 'diktiScraperdb.list010185'\n"
     ]
    },
    {
     "name": "stdout",
     "output_type": "stream",
     "text": [
      "Get Text Faculty ScrapeHTML Object\n",
      "list010186 transfered to SQL, done\n"
     ]
    },
    {
     "name": "stderr",
     "output_type": "stream",
     "text": [
      "/home/alien/anaconda2/lib/python2.7/site-packages/ipykernel/__main__.py:95: Warning: Unknown table 'diktiScraperdb.list010186'\n"
     ]
    },
    {
     "name": "stdout",
     "output_type": "stream",
     "text": [
      "Get Text Faculty ScrapeHTML Object\n",
      "list010187 transfered to SQL, done\n"
     ]
    },
    {
     "name": "stderr",
     "output_type": "stream",
     "text": [
      "/home/alien/anaconda2/lib/python2.7/site-packages/ipykernel/__main__.py:95: Warning: Unknown table 'diktiScraperdb.list010187'\n"
     ]
    },
    {
     "name": "stdout",
     "output_type": "stream",
     "text": [
      "Get Text Faculty ScrapeHTML Object\n",
      "list010188 transfered to SQL, done\n"
     ]
    },
    {
     "name": "stderr",
     "output_type": "stream",
     "text": [
      "/home/alien/anaconda2/lib/python2.7/site-packages/ipykernel/__main__.py:95: Warning: Unknown table 'diktiScraperdb.list010188'\n"
     ]
    },
    {
     "name": "stdout",
     "output_type": "stream",
     "text": [
      "Get Text Faculty ScrapeHTML Object\n",
      "list010189 transfered to SQL, done\n"
     ]
    },
    {
     "name": "stderr",
     "output_type": "stream",
     "text": [
      "/home/alien/anaconda2/lib/python2.7/site-packages/ipykernel/__main__.py:95: Warning: Unknown table 'diktiScraperdb.list010189'\n"
     ]
    },
    {
     "name": "stdout",
     "output_type": "stream",
     "text": [
      "Get Text Faculty ScrapeHTML Object\n",
      "list010190 transfered to SQL, done\n"
     ]
    },
    {
     "name": "stderr",
     "output_type": "stream",
     "text": [
      "/home/alien/anaconda2/lib/python2.7/site-packages/ipykernel/__main__.py:95: Warning: Unknown table 'diktiScraperdb.list010190'\n"
     ]
    },
    {
     "name": "stdout",
     "output_type": "stream",
     "text": [
      "Get Text Faculty ScrapeHTML Object\n",
      "list010191 transfered to SQL, done\n"
     ]
    },
    {
     "name": "stderr",
     "output_type": "stream",
     "text": [
      "/home/alien/anaconda2/lib/python2.7/site-packages/ipykernel/__main__.py:95: Warning: Unknown table 'diktiScraperdb.list010191'\n"
     ]
    },
    {
     "name": "stdout",
     "output_type": "stream",
     "text": [
      "Get Text Faculty ScrapeHTML Object\n",
      "list010192 transfered to SQL, done\n"
     ]
    },
    {
     "name": "stderr",
     "output_type": "stream",
     "text": [
      "/home/alien/anaconda2/lib/python2.7/site-packages/ipykernel/__main__.py:95: Warning: Unknown table 'diktiScraperdb.list010192'\n"
     ]
    },
    {
     "name": "stdout",
     "output_type": "stream",
     "text": [
      "Get Text Faculty ScrapeHTML Object\n",
      "list010193 transfered to SQL, done\n"
     ]
    },
    {
     "name": "stderr",
     "output_type": "stream",
     "text": [
      "/home/alien/anaconda2/lib/python2.7/site-packages/ipykernel/__main__.py:95: Warning: Unknown table 'diktiScraperdb.list010193'\n"
     ]
    },
    {
     "name": "stdout",
     "output_type": "stream",
     "text": [
      "Get Text Faculty ScrapeHTML Object\n",
      "list010194 transfered to SQL, done\n"
     ]
    },
    {
     "name": "stderr",
     "output_type": "stream",
     "text": [
      "/home/alien/anaconda2/lib/python2.7/site-packages/ipykernel/__main__.py:95: Warning: Unknown table 'diktiScraperdb.list010194'\n"
     ]
    },
    {
     "name": "stdout",
     "output_type": "stream",
     "text": [
      "Get Text Faculty ScrapeHTML Object\n",
      "list010195 transfered to SQL, done\n"
     ]
    },
    {
     "name": "stderr",
     "output_type": "stream",
     "text": [
      "/home/alien/anaconda2/lib/python2.7/site-packages/ipykernel/__main__.py:95: Warning: Unknown table 'diktiScraperdb.list010195'\n"
     ]
    },
    {
     "name": "stdout",
     "output_type": "stream",
     "text": [
      "Get Text Faculty ScrapeHTML Object\n",
      "list010196 transfered to SQL, done\n"
     ]
    },
    {
     "name": "stderr",
     "output_type": "stream",
     "text": [
      "/home/alien/anaconda2/lib/python2.7/site-packages/ipykernel/__main__.py:95: Warning: Unknown table 'diktiScraperdb.list010196'\n"
     ]
    },
    {
     "name": "stdout",
     "output_type": "stream",
     "text": [
      "Get Text Faculty ScrapeHTML Object\n",
      "list010197 transfered to SQL, done\n"
     ]
    },
    {
     "name": "stderr",
     "output_type": "stream",
     "text": [
      "/home/alien/anaconda2/lib/python2.7/site-packages/ipykernel/__main__.py:95: Warning: Unknown table 'diktiScraperdb.list010197'\n"
     ]
    },
    {
     "name": "stdout",
     "output_type": "stream",
     "text": [
      "Get Text Faculty ScrapeHTML Object\n",
      "list010198 transfered to SQL, done\n"
     ]
    },
    {
     "name": "stderr",
     "output_type": "stream",
     "text": [
      "/home/alien/anaconda2/lib/python2.7/site-packages/ipykernel/__main__.py:95: Warning: Unknown table 'diktiScraperdb.list010198'\n"
     ]
    },
    {
     "name": "stdout",
     "output_type": "stream",
     "text": [
      "Get Text Faculty ScrapeHTML Object\n",
      "list010199 transfered to SQL, done\n"
     ]
    },
    {
     "name": "stderr",
     "output_type": "stream",
     "text": [
      "/home/alien/anaconda2/lib/python2.7/site-packages/ipykernel/__main__.py:95: Warning: Unknown table 'diktiScraperdb.list010199'\n"
     ]
    },
    {
     "name": "stdout",
     "output_type": "stream",
     "text": [
      "Get Text Faculty ScrapeHTML Object\n",
      "list0101100 transfered to SQL, done\n"
     ]
    },
    {
     "name": "stderr",
     "output_type": "stream",
     "text": [
      "/home/alien/anaconda2/lib/python2.7/site-packages/ipykernel/__main__.py:95: Warning: Unknown table 'diktiScraperdb.list0101100'\n"
     ]
    },
    {
     "name": "stdout",
     "output_type": "stream",
     "text": [
      "Get Text Faculty ScrapeHTML Object\n",
      "list0101101 transfered to SQL, done\n"
     ]
    },
    {
     "name": "stderr",
     "output_type": "stream",
     "text": [
      "/home/alien/anaconda2/lib/python2.7/site-packages/ipykernel/__main__.py:95: Warning: Unknown table 'diktiScraperdb.list0101101'\n"
     ]
    },
    {
     "name": "stdout",
     "output_type": "stream",
     "text": [
      "Get Text Faculty ScrapeHTML Object\n",
      "list0101102 transfered to SQL, done\n"
     ]
    },
    {
     "name": "stderr",
     "output_type": "stream",
     "text": [
      "/home/alien/anaconda2/lib/python2.7/site-packages/ipykernel/__main__.py:95: Warning: Unknown table 'diktiScraperdb.list0101102'\n"
     ]
    },
    {
     "name": "stdout",
     "output_type": "stream",
     "text": [
      "Get Text Faculty ScrapeHTML Object\n",
      "list0101103 transfered to SQL, done\n"
     ]
    },
    {
     "name": "stderr",
     "output_type": "stream",
     "text": [
      "/home/alien/anaconda2/lib/python2.7/site-packages/ipykernel/__main__.py:95: Warning: Unknown table 'diktiScraperdb.list0101103'\n"
     ]
    },
    {
     "name": "stdout",
     "output_type": "stream",
     "text": [
      "Get Text Faculty ScrapeHTML Object\n",
      "list0101104 transfered to SQL, done\n"
     ]
    },
    {
     "name": "stderr",
     "output_type": "stream",
     "text": [
      "/home/alien/anaconda2/lib/python2.7/site-packages/ipykernel/__main__.py:95: Warning: Unknown table 'diktiScraperdb.list0101104'\n"
     ]
    },
    {
     "name": "stdout",
     "output_type": "stream",
     "text": [
      "Get Text Faculty ScrapeHTML Object\n",
      "list0101105 transfered to SQL, done\n"
     ]
    },
    {
     "name": "stderr",
     "output_type": "stream",
     "text": [
      "/home/alien/anaconda2/lib/python2.7/site-packages/ipykernel/__main__.py:95: Warning: Unknown table 'diktiScraperdb.list0101105'\n"
     ]
    },
    {
     "name": "stdout",
     "output_type": "stream",
     "text": [
      "Get Text Faculty ScrapeHTML Object\n",
      "list0101106 transfered to SQL, done\n"
     ]
    },
    {
     "name": "stderr",
     "output_type": "stream",
     "text": [
      "/home/alien/anaconda2/lib/python2.7/site-packages/ipykernel/__main__.py:95: Warning: Unknown table 'diktiScraperdb.list0101106'\n"
     ]
    },
    {
     "name": "stdout",
     "output_type": "stream",
     "text": [
      "Get Text Faculty ScrapeHTML Object\n",
      "list0101107 transfered to SQL, done\n"
     ]
    },
    {
     "name": "stderr",
     "output_type": "stream",
     "text": [
      "/home/alien/anaconda2/lib/python2.7/site-packages/ipykernel/__main__.py:95: Warning: Unknown table 'diktiScraperdb.list0101107'\n"
     ]
    },
    {
     "name": "stdout",
     "output_type": "stream",
     "text": [
      "Get Text Faculty ScrapeHTML Object\n",
      "list0101108 transfered to SQL, done\n"
     ]
    },
    {
     "name": "stderr",
     "output_type": "stream",
     "text": [
      "/home/alien/anaconda2/lib/python2.7/site-packages/ipykernel/__main__.py:95: Warning: Unknown table 'diktiScraperdb.list0101108'\n"
     ]
    },
    {
     "name": "stdout",
     "output_type": "stream",
     "text": [
      "Get Text Faculty ScrapeHTML Object\n",
      "list0101109 transfered to SQL, done\n"
     ]
    },
    {
     "name": "stderr",
     "output_type": "stream",
     "text": [
      "/home/alien/anaconda2/lib/python2.7/site-packages/ipykernel/__main__.py:95: Warning: Unknown table 'diktiScraperdb.list0101109'\n"
     ]
    },
    {
     "name": "stdout",
     "output_type": "stream",
     "text": [
      "Get Text Faculty ScrapeHTML Object\n",
      "list0101110 transfered to SQL, done\n"
     ]
    },
    {
     "name": "stderr",
     "output_type": "stream",
     "text": [
      "/home/alien/anaconda2/lib/python2.7/site-packages/ipykernel/__main__.py:95: Warning: Unknown table 'diktiScraperdb.list0101110'\n"
     ]
    },
    {
     "name": "stdout",
     "output_type": "stream",
     "text": [
      "Get Text Faculty ScrapeHTML Object\n",
      "list0101111 transfered to SQL, done\n"
     ]
    },
    {
     "name": "stderr",
     "output_type": "stream",
     "text": [
      "/home/alien/anaconda2/lib/python2.7/site-packages/ipykernel/__main__.py:95: Warning: Unknown table 'diktiScraperdb.list0101111'\n"
     ]
    },
    {
     "name": "stdout",
     "output_type": "stream",
     "text": [
      "Get Text Faculty ScrapeHTML Object\n",
      "list0101112 transfered to SQL, done\n"
     ]
    },
    {
     "name": "stderr",
     "output_type": "stream",
     "text": [
      "/home/alien/anaconda2/lib/python2.7/site-packages/ipykernel/__main__.py:95: Warning: Unknown table 'diktiScraperdb.list0101112'\n"
     ]
    },
    {
     "name": "stdout",
     "output_type": "stream",
     "text": [
      "Get Text Faculty ScrapeHTML Object\n",
      "list0101113 transfered to SQL, done\n"
     ]
    },
    {
     "name": "stderr",
     "output_type": "stream",
     "text": [
      "/home/alien/anaconda2/lib/python2.7/site-packages/ipykernel/__main__.py:95: Warning: Unknown table 'diktiScraperdb.list0101113'\n"
     ]
    },
    {
     "name": "stdout",
     "output_type": "stream",
     "text": [
      "Get Text Faculty ScrapeHTML Object\n",
      "list0101114 transfered to SQL, done\n"
     ]
    },
    {
     "name": "stderr",
     "output_type": "stream",
     "text": [
      "/home/alien/anaconda2/lib/python2.7/site-packages/ipykernel/__main__.py:95: Warning: Unknown table 'diktiScraperdb.list0101114'\n"
     ]
    },
    {
     "name": "stdout",
     "output_type": "stream",
     "text": [
      "Get Text Faculty ScrapeHTML Object\n",
      "list0101115 transfered to SQL, done\n"
     ]
    },
    {
     "name": "stderr",
     "output_type": "stream",
     "text": [
      "/home/alien/anaconda2/lib/python2.7/site-packages/ipykernel/__main__.py:95: Warning: Unknown table 'diktiScraperdb.list0101115'\n"
     ]
    },
    {
     "name": "stdout",
     "output_type": "stream",
     "text": [
      "Get Text Faculty ScrapeHTML Object\n",
      "list0101116 transfered to SQL, done\n"
     ]
    },
    {
     "name": "stderr",
     "output_type": "stream",
     "text": [
      "/home/alien/anaconda2/lib/python2.7/site-packages/ipykernel/__main__.py:95: Warning: Unknown table 'diktiScraperdb.list0101116'\n"
     ]
    },
    {
     "name": "stdout",
     "output_type": "stream",
     "text": [
      "Get Text Faculty ScrapeHTML Object\n"
     ]
    },
    {
     "name": "stderr",
     "output_type": "stream",
     "text": [
      "/home/alien/anaconda2/lib/python2.7/site-packages/ipykernel/__main__.py:95: Warning: Unknown table 'diktiScraperdb.list0101117'\n"
     ]
    },
    {
     "name": "stdout",
     "output_type": "stream",
     "text": [
      "list0101117 transfered to SQL, done\n",
      "Get Text Faculty ScrapeHTML Object\n",
      "list0101118 transfered to SQL, done\n"
     ]
    },
    {
     "name": "stderr",
     "output_type": "stream",
     "text": [
      "/home/alien/anaconda2/lib/python2.7/site-packages/ipykernel/__main__.py:95: Warning: Unknown table 'diktiScraperdb.list0101118'\n"
     ]
    },
    {
     "name": "stdout",
     "output_type": "stream",
     "text": [
      "Get Text Faculty ScrapeHTML Object\n",
      "list0101119 transfered to SQL, done\n"
     ]
    },
    {
     "name": "stderr",
     "output_type": "stream",
     "text": [
      "/home/alien/anaconda2/lib/python2.7/site-packages/ipykernel/__main__.py:95: Warning: Unknown table 'diktiScraperdb.list0101119'\n"
     ]
    },
    {
     "name": "stdout",
     "output_type": "stream",
     "text": [
      "Get Text Faculty ScrapeHTML Object\n",
      "list0101120 transfered to SQL, done\n"
     ]
    },
    {
     "name": "stderr",
     "output_type": "stream",
     "text": [
      "/home/alien/anaconda2/lib/python2.7/site-packages/ipykernel/__main__.py:95: Warning: Unknown table 'diktiScraperdb.list0101120'\n"
     ]
    },
    {
     "name": "stdout",
     "output_type": "stream",
     "text": [
      "Get Text Faculty ScrapeHTML Object\n",
      "list0101121 transfered to SQL, done\n"
     ]
    },
    {
     "name": "stderr",
     "output_type": "stream",
     "text": [
      "/home/alien/anaconda2/lib/python2.7/site-packages/ipykernel/__main__.py:95: Warning: Unknown table 'diktiScraperdb.list0101121'\n"
     ]
    },
    {
     "name": "stdout",
     "output_type": "stream",
     "text": [
      "Get DataLink Scrape HTML Object\n",
      "list0102 transfered to SQL, done\n",
      "Data load from SQL list0102\n"
     ]
    },
    {
     "name": "stderr",
     "output_type": "stream",
     "text": [
      "/home/alien/anaconda2/lib/python2.7/site-packages/ipykernel/__main__.py:69: Warning: Unknown table 'diktiScraperdb.list0102'\n"
     ]
    },
    {
     "name": "stdout",
     "output_type": "stream",
     "text": [
      "Get Text Faculty ScrapeHTML Object\n",
      "list010200 transfered to SQL, done\n"
     ]
    },
    {
     "name": "stderr",
     "output_type": "stream",
     "text": [
      "/home/alien/anaconda2/lib/python2.7/site-packages/ipykernel/__main__.py:95: Warning: Unknown table 'diktiScraperdb.list010200'\n"
     ]
    },
    {
     "name": "stdout",
     "output_type": "stream",
     "text": [
      "Get Text Faculty ScrapeHTML Object\n",
      "list010201 transfered to SQL, done\n"
     ]
    },
    {
     "name": "stderr",
     "output_type": "stream",
     "text": [
      "/home/alien/anaconda2/lib/python2.7/site-packages/ipykernel/__main__.py:95: Warning: Unknown table 'diktiScraperdb.list010201'\n"
     ]
    },
    {
     "name": "stdout",
     "output_type": "stream",
     "text": [
      "Get Text Faculty ScrapeHTML Object\n",
      "list010202 transfered to SQL, done\n"
     ]
    },
    {
     "name": "stderr",
     "output_type": "stream",
     "text": [
      "/home/alien/anaconda2/lib/python2.7/site-packages/ipykernel/__main__.py:95: Warning: Unknown table 'diktiScraperdb.list010202'\n"
     ]
    },
    {
     "name": "stdout",
     "output_type": "stream",
     "text": [
      "Get Text Faculty ScrapeHTML Object\n",
      "list010203 transfered to SQL, done\n"
     ]
    },
    {
     "name": "stderr",
     "output_type": "stream",
     "text": [
      "/home/alien/anaconda2/lib/python2.7/site-packages/ipykernel/__main__.py:95: Warning: Unknown table 'diktiScraperdb.list010203'\n"
     ]
    },
    {
     "name": "stdout",
     "output_type": "stream",
     "text": [
      "Get Text Faculty ScrapeHTML Object\n",
      "list010204 transfered to SQL, done\n"
     ]
    },
    {
     "name": "stderr",
     "output_type": "stream",
     "text": [
      "/home/alien/anaconda2/lib/python2.7/site-packages/ipykernel/__main__.py:95: Warning: Unknown table 'diktiScraperdb.list010204'\n"
     ]
    },
    {
     "name": "stdout",
     "output_type": "stream",
     "text": [
      "Get Text Faculty ScrapeHTML Object\n",
      "list010205 transfered to SQL, done\n"
     ]
    },
    {
     "name": "stderr",
     "output_type": "stream",
     "text": [
      "/home/alien/anaconda2/lib/python2.7/site-packages/ipykernel/__main__.py:95: Warning: Unknown table 'diktiScraperdb.list010205'\n"
     ]
    },
    {
     "name": "stdout",
     "output_type": "stream",
     "text": [
      "Get Text Faculty ScrapeHTML Object\n",
      "list010206 transfered to SQL, done\n"
     ]
    },
    {
     "name": "stderr",
     "output_type": "stream",
     "text": [
      "/home/alien/anaconda2/lib/python2.7/site-packages/ipykernel/__main__.py:95: Warning: Unknown table 'diktiScraperdb.list010206'\n"
     ]
    },
    {
     "name": "stdout",
     "output_type": "stream",
     "text": [
      "Get Text Faculty ScrapeHTML Object\n",
      "list010207 transfered to SQL, done\n"
     ]
    },
    {
     "name": "stderr",
     "output_type": "stream",
     "text": [
      "/home/alien/anaconda2/lib/python2.7/site-packages/ipykernel/__main__.py:95: Warning: Unknown table 'diktiScraperdb.list010207'\n"
     ]
    },
    {
     "name": "stdout",
     "output_type": "stream",
     "text": [
      "Get Text Faculty ScrapeHTML Object\n"
     ]
    },
    {
     "name": "stderr",
     "output_type": "stream",
     "text": [
      "/home/alien/anaconda2/lib/python2.7/site-packages/ipykernel/__main__.py:95: Warning: Unknown table 'diktiScraperdb.list010208'\n"
     ]
    },
    {
     "name": "stdout",
     "output_type": "stream",
     "text": [
      "list010208 transfered to SQL, done\n",
      "Get Text Faculty ScrapeHTML Object\n",
      "list010209 transfered to SQL, done\n"
     ]
    },
    {
     "name": "stderr",
     "output_type": "stream",
     "text": [
      "/home/alien/anaconda2/lib/python2.7/site-packages/ipykernel/__main__.py:95: Warning: Unknown table 'diktiScraperdb.list010209'\n"
     ]
    },
    {
     "name": "stdout",
     "output_type": "stream",
     "text": [
      "Get Text Faculty ScrapeHTML Object\n",
      "list010210 transfered to SQL, done\n"
     ]
    },
    {
     "name": "stderr",
     "output_type": "stream",
     "text": [
      "/home/alien/anaconda2/lib/python2.7/site-packages/ipykernel/__main__.py:95: Warning: Unknown table 'diktiScraperdb.list010210'\n"
     ]
    },
    {
     "name": "stdout",
     "output_type": "stream",
     "text": [
      "Get Text Faculty ScrapeHTML Object\n",
      "list010211 transfered to SQL, done\n"
     ]
    },
    {
     "name": "stderr",
     "output_type": "stream",
     "text": [
      "/home/alien/anaconda2/lib/python2.7/site-packages/ipykernel/__main__.py:95: Warning: Unknown table 'diktiScraperdb.list010211'\n"
     ]
    },
    {
     "name": "stdout",
     "output_type": "stream",
     "text": [
      "Get Text Faculty ScrapeHTML Object\n"
     ]
    },
    {
     "name": "stderr",
     "output_type": "stream",
     "text": [
      "/home/alien/anaconda2/lib/python2.7/site-packages/ipykernel/__main__.py:95: Warning: Unknown table 'diktiScraperdb.list010212'\n"
     ]
    },
    {
     "name": "stdout",
     "output_type": "stream",
     "text": [
      "list010212 transfered to SQL, done\n",
      "Get Text Faculty ScrapeHTML Object\n",
      "list010213 transfered to SQL, done\n"
     ]
    },
    {
     "name": "stderr",
     "output_type": "stream",
     "text": [
      "/home/alien/anaconda2/lib/python2.7/site-packages/ipykernel/__main__.py:95: Warning: Unknown table 'diktiScraperdb.list010213'\n"
     ]
    },
    {
     "name": "stdout",
     "output_type": "stream",
     "text": [
      "Get Text Faculty ScrapeHTML Object\n",
      "list010214 transfered to SQL, done\n"
     ]
    },
    {
     "name": "stderr",
     "output_type": "stream",
     "text": [
      "/home/alien/anaconda2/lib/python2.7/site-packages/ipykernel/__main__.py:95: Warning: Unknown table 'diktiScraperdb.list010214'\n"
     ]
    },
    {
     "name": "stdout",
     "output_type": "stream",
     "text": [
      "Get Text Faculty ScrapeHTML Object\n",
      "list010215 transfered to SQL, done\n"
     ]
    },
    {
     "name": "stderr",
     "output_type": "stream",
     "text": [
      "/home/alien/anaconda2/lib/python2.7/site-packages/ipykernel/__main__.py:95: Warning: Unknown table 'diktiScraperdb.list010215'\n"
     ]
    },
    {
     "name": "stdout",
     "output_type": "stream",
     "text": [
      "Get Text Faculty ScrapeHTML Object\n",
      "list010216 transfered to SQL, done\n"
     ]
    },
    {
     "name": "stderr",
     "output_type": "stream",
     "text": [
      "/home/alien/anaconda2/lib/python2.7/site-packages/ipykernel/__main__.py:95: Warning: Unknown table 'diktiScraperdb.list010216'\n"
     ]
    },
    {
     "name": "stdout",
     "output_type": "stream",
     "text": [
      "Get Text Faculty ScrapeHTML Object\n",
      "list010217 transfered to SQL, done\n"
     ]
    },
    {
     "name": "stderr",
     "output_type": "stream",
     "text": [
      "/home/alien/anaconda2/lib/python2.7/site-packages/ipykernel/__main__.py:95: Warning: Unknown table 'diktiScraperdb.list010217'\n"
     ]
    },
    {
     "name": "stdout",
     "output_type": "stream",
     "text": [
      "Get Text Faculty ScrapeHTML Object\n",
      "list010218 transfered to SQL, done\n"
     ]
    },
    {
     "name": "stderr",
     "output_type": "stream",
     "text": [
      "/home/alien/anaconda2/lib/python2.7/site-packages/ipykernel/__main__.py:95: Warning: Unknown table 'diktiScraperdb.list010218'\n"
     ]
    },
    {
     "name": "stdout",
     "output_type": "stream",
     "text": [
      "Get Text Faculty ScrapeHTML Object\n",
      "list010219 transfered to SQL, done\n"
     ]
    },
    {
     "name": "stderr",
     "output_type": "stream",
     "text": [
      "/home/alien/anaconda2/lib/python2.7/site-packages/ipykernel/__main__.py:95: Warning: Unknown table 'diktiScraperdb.list010219'\n"
     ]
    },
    {
     "name": "stdout",
     "output_type": "stream",
     "text": [
      "Get Text Faculty ScrapeHTML Object\n",
      "list010220 transfered to SQL, done\n"
     ]
    },
    {
     "name": "stderr",
     "output_type": "stream",
     "text": [
      "/home/alien/anaconda2/lib/python2.7/site-packages/ipykernel/__main__.py:95: Warning: Unknown table 'diktiScraperdb.list010220'\n"
     ]
    },
    {
     "name": "stdout",
     "output_type": "stream",
     "text": [
      "Get Text Faculty ScrapeHTML Object\n",
      "list010221 transfered to SQL, done\n"
     ]
    },
    {
     "name": "stderr",
     "output_type": "stream",
     "text": [
      "/home/alien/anaconda2/lib/python2.7/site-packages/ipykernel/__main__.py:95: Warning: Unknown table 'diktiScraperdb.list010221'\n"
     ]
    },
    {
     "name": "stdout",
     "output_type": "stream",
     "text": [
      "Get Text Faculty ScrapeHTML Object\n",
      "list010222 transfered to SQL, done\n"
     ]
    },
    {
     "name": "stderr",
     "output_type": "stream",
     "text": [
      "/home/alien/anaconda2/lib/python2.7/site-packages/ipykernel/__main__.py:95: Warning: Unknown table 'diktiScraperdb.list010222'\n"
     ]
    },
    {
     "name": "stdout",
     "output_type": "stream",
     "text": [
      "Get Text Faculty ScrapeHTML Object\n",
      "list010223 transfered to SQL, done\n"
     ]
    },
    {
     "name": "stderr",
     "output_type": "stream",
     "text": [
      "/home/alien/anaconda2/lib/python2.7/site-packages/ipykernel/__main__.py:95: Warning: Unknown table 'diktiScraperdb.list010223'\n"
     ]
    },
    {
     "name": "stdout",
     "output_type": "stream",
     "text": [
      "Get Text Faculty ScrapeHTML Object\n",
      "list010224 transfered to SQL, done\n"
     ]
    },
    {
     "name": "stderr",
     "output_type": "stream",
     "text": [
      "/home/alien/anaconda2/lib/python2.7/site-packages/ipykernel/__main__.py:95: Warning: Unknown table 'diktiScraperdb.list010224'\n"
     ]
    },
    {
     "name": "stdout",
     "output_type": "stream",
     "text": [
      "Get Text Faculty ScrapeHTML Object\n",
      "list010225 transfered to SQL, done\n"
     ]
    },
    {
     "name": "stderr",
     "output_type": "stream",
     "text": [
      "/home/alien/anaconda2/lib/python2.7/site-packages/ipykernel/__main__.py:95: Warning: Unknown table 'diktiScraperdb.list010225'\n"
     ]
    },
    {
     "name": "stdout",
     "output_type": "stream",
     "text": [
      "Get Text Faculty ScrapeHTML Object\n",
      "list010226 transfered to SQL, done\n"
     ]
    },
    {
     "name": "stderr",
     "output_type": "stream",
     "text": [
      "/home/alien/anaconda2/lib/python2.7/site-packages/ipykernel/__main__.py:95: Warning: Unknown table 'diktiScraperdb.list010226'\n"
     ]
    },
    {
     "name": "stdout",
     "output_type": "stream",
     "text": [
      "Get Text Faculty ScrapeHTML Object\n",
      "list010227 transfered to SQL, done\n"
     ]
    },
    {
     "name": "stderr",
     "output_type": "stream",
     "text": [
      "/home/alien/anaconda2/lib/python2.7/site-packages/ipykernel/__main__.py:95: Warning: Unknown table 'diktiScraperdb.list010227'\n"
     ]
    },
    {
     "name": "stdout",
     "output_type": "stream",
     "text": [
      "Get Text Faculty ScrapeHTML Object\n",
      "list010228 transfered to SQL, done\n"
     ]
    },
    {
     "name": "stderr",
     "output_type": "stream",
     "text": [
      "/home/alien/anaconda2/lib/python2.7/site-packages/ipykernel/__main__.py:95: Warning: Unknown table 'diktiScraperdb.list010228'\n"
     ]
    },
    {
     "name": "stdout",
     "output_type": "stream",
     "text": [
      "Get Text Faculty ScrapeHTML Object\n",
      "list010229 transfered to SQL, done\n"
     ]
    },
    {
     "name": "stderr",
     "output_type": "stream",
     "text": [
      "/home/alien/anaconda2/lib/python2.7/site-packages/ipykernel/__main__.py:95: Warning: Unknown table 'diktiScraperdb.list010229'\n"
     ]
    },
    {
     "name": "stdout",
     "output_type": "stream",
     "text": [
      "Get Text Faculty ScrapeHTML Object\n",
      "list010230 transfered to SQL, done\n"
     ]
    },
    {
     "name": "stderr",
     "output_type": "stream",
     "text": [
      "/home/alien/anaconda2/lib/python2.7/site-packages/ipykernel/__main__.py:95: Warning: Unknown table 'diktiScraperdb.list010230'\n"
     ]
    },
    {
     "name": "stdout",
     "output_type": "stream",
     "text": [
      "Get Text Faculty ScrapeHTML Object\n"
     ]
    },
    {
     "name": "stderr",
     "output_type": "stream",
     "text": [
      "/home/alien/anaconda2/lib/python2.7/site-packages/ipykernel/__main__.py:95: Warning: Unknown table 'diktiScraperdb.list010231'\n"
     ]
    },
    {
     "name": "stdout",
     "output_type": "stream",
     "text": [
      "list010231 transfered to SQL, done\n",
      "Get Text Faculty ScrapeHTML Object\n",
      "list010232 transfered to SQL, done\n"
     ]
    },
    {
     "name": "stderr",
     "output_type": "stream",
     "text": [
      "/home/alien/anaconda2/lib/python2.7/site-packages/ipykernel/__main__.py:95: Warning: Unknown table 'diktiScraperdb.list010232'\n"
     ]
    },
    {
     "name": "stdout",
     "output_type": "stream",
     "text": [
      "Get Text Faculty ScrapeHTML Object\n",
      "list010233 transfered to SQL, done\n"
     ]
    },
    {
     "name": "stderr",
     "output_type": "stream",
     "text": [
      "/home/alien/anaconda2/lib/python2.7/site-packages/ipykernel/__main__.py:95: Warning: Unknown table 'diktiScraperdb.list010233'\n"
     ]
    },
    {
     "name": "stdout",
     "output_type": "stream",
     "text": [
      "Get Text Faculty ScrapeHTML Object\n",
      "list010234 transfered to SQL, done\n"
     ]
    },
    {
     "name": "stderr",
     "output_type": "stream",
     "text": [
      "/home/alien/anaconda2/lib/python2.7/site-packages/ipykernel/__main__.py:95: Warning: Unknown table 'diktiScraperdb.list010234'\n"
     ]
    },
    {
     "name": "stdout",
     "output_type": "stream",
     "text": [
      "Get Text Faculty ScrapeHTML Object\n",
      "list010235 transfered to SQL, done\n"
     ]
    },
    {
     "name": "stderr",
     "output_type": "stream",
     "text": [
      "/home/alien/anaconda2/lib/python2.7/site-packages/ipykernel/__main__.py:95: Warning: Unknown table 'diktiScraperdb.list010235'\n"
     ]
    },
    {
     "name": "stdout",
     "output_type": "stream",
     "text": [
      "Get Text Faculty ScrapeHTML Object\n",
      "list010236 transfered to SQL, done\n"
     ]
    },
    {
     "name": "stderr",
     "output_type": "stream",
     "text": [
      "/home/alien/anaconda2/lib/python2.7/site-packages/ipykernel/__main__.py:95: Warning: Unknown table 'diktiScraperdb.list010236'\n"
     ]
    },
    {
     "name": "stdout",
     "output_type": "stream",
     "text": [
      "Get Text Faculty ScrapeHTML Object\n",
      "list010237 transfered to SQL, done\n"
     ]
    },
    {
     "name": "stderr",
     "output_type": "stream",
     "text": [
      "/home/alien/anaconda2/lib/python2.7/site-packages/ipykernel/__main__.py:95: Warning: Unknown table 'diktiScraperdb.list010237'\n"
     ]
    },
    {
     "name": "stdout",
     "output_type": "stream",
     "text": [
      "Get Text Faculty ScrapeHTML Object\n",
      "list010238 transfered to SQL, done\n"
     ]
    },
    {
     "name": "stderr",
     "output_type": "stream",
     "text": [
      "/home/alien/anaconda2/lib/python2.7/site-packages/ipykernel/__main__.py:95: Warning: Unknown table 'diktiScraperdb.list010238'\n"
     ]
    },
    {
     "name": "stdout",
     "output_type": "stream",
     "text": [
      "Get Text Faculty ScrapeHTML Object\n",
      "list010239 transfered to SQL, done\n"
     ]
    },
    {
     "name": "stderr",
     "output_type": "stream",
     "text": [
      "/home/alien/anaconda2/lib/python2.7/site-packages/ipykernel/__main__.py:95: Warning: Unknown table 'diktiScraperdb.list010239'\n"
     ]
    },
    {
     "name": "stdout",
     "output_type": "stream",
     "text": [
      "Get Text Faculty ScrapeHTML Object\n",
      "list010240 transfered to SQL, done\n"
     ]
    },
    {
     "name": "stderr",
     "output_type": "stream",
     "text": [
      "/home/alien/anaconda2/lib/python2.7/site-packages/ipykernel/__main__.py:95: Warning: Unknown table 'diktiScraperdb.list010240'\n"
     ]
    },
    {
     "name": "stdout",
     "output_type": "stream",
     "text": [
      "Get Text Faculty ScrapeHTML Object\n",
      "list010241 transfered to SQL, done\n"
     ]
    },
    {
     "name": "stderr",
     "output_type": "stream",
     "text": [
      "/home/alien/anaconda2/lib/python2.7/site-packages/ipykernel/__main__.py:95: Warning: Unknown table 'diktiScraperdb.list010241'\n"
     ]
    },
    {
     "name": "stdout",
     "output_type": "stream",
     "text": [
      "Get Text Faculty ScrapeHTML Object\n",
      "list010242 transfered to SQL, done\n"
     ]
    },
    {
     "name": "stderr",
     "output_type": "stream",
     "text": [
      "/home/alien/anaconda2/lib/python2.7/site-packages/ipykernel/__main__.py:95: Warning: Unknown table 'diktiScraperdb.list010242'\n"
     ]
    },
    {
     "name": "stdout",
     "output_type": "stream",
     "text": [
      "Get Text Faculty ScrapeHTML Object\n"
     ]
    },
    {
     "name": "stderr",
     "output_type": "stream",
     "text": [
      "/home/alien/anaconda2/lib/python2.7/site-packages/ipykernel/__main__.py:95: Warning: Unknown table 'diktiScraperdb.list010243'\n"
     ]
    },
    {
     "name": "stdout",
     "output_type": "stream",
     "text": [
      "list010243 transfered to SQL, done\n",
      "Get Text Faculty ScrapeHTML Object\n",
      "list010244 transfered to SQL, done\n"
     ]
    },
    {
     "name": "stderr",
     "output_type": "stream",
     "text": [
      "/home/alien/anaconda2/lib/python2.7/site-packages/ipykernel/__main__.py:95: Warning: Unknown table 'diktiScraperdb.list010244'\n"
     ]
    },
    {
     "name": "stdout",
     "output_type": "stream",
     "text": [
      "Get Text Faculty ScrapeHTML Object\n",
      "list010245 transfered to SQL, done\n"
     ]
    },
    {
     "name": "stderr",
     "output_type": "stream",
     "text": [
      "/home/alien/anaconda2/lib/python2.7/site-packages/ipykernel/__main__.py:95: Warning: Unknown table 'diktiScraperdb.list010245'\n"
     ]
    },
    {
     "name": "stdout",
     "output_type": "stream",
     "text": [
      "Get Text Faculty ScrapeHTML Object\n",
      "list010246 transfered to SQL, done\n"
     ]
    },
    {
     "name": "stderr",
     "output_type": "stream",
     "text": [
      "/home/alien/anaconda2/lib/python2.7/site-packages/ipykernel/__main__.py:95: Warning: Unknown table 'diktiScraperdb.list010246'\n"
     ]
    },
    {
     "name": "stdout",
     "output_type": "stream",
     "text": [
      "Get Text Faculty ScrapeHTML Object\n",
      "list010247 transfered to SQL, done\n"
     ]
    },
    {
     "name": "stderr",
     "output_type": "stream",
     "text": [
      "/home/alien/anaconda2/lib/python2.7/site-packages/ipykernel/__main__.py:95: Warning: Unknown table 'diktiScraperdb.list010247'\n"
     ]
    },
    {
     "name": "stdout",
     "output_type": "stream",
     "text": [
      "Get Text Faculty ScrapeHTML Object\n",
      "list010248 transfered to SQL, done\n"
     ]
    },
    {
     "name": "stderr",
     "output_type": "stream",
     "text": [
      "/home/alien/anaconda2/lib/python2.7/site-packages/ipykernel/__main__.py:95: Warning: Unknown table 'diktiScraperdb.list010248'\n"
     ]
    },
    {
     "name": "stdout",
     "output_type": "stream",
     "text": [
      "Get Text Faculty ScrapeHTML Object\n",
      "list010249 transfered to SQL, done\n"
     ]
    },
    {
     "name": "stderr",
     "output_type": "stream",
     "text": [
      "/home/alien/anaconda2/lib/python2.7/site-packages/ipykernel/__main__.py:95: Warning: Unknown table 'diktiScraperdb.list010249'\n"
     ]
    },
    {
     "name": "stdout",
     "output_type": "stream",
     "text": [
      "Get Text Faculty ScrapeHTML Object\n",
      "list010250 transfered to SQL, done\n"
     ]
    },
    {
     "name": "stderr",
     "output_type": "stream",
     "text": [
      "/home/alien/anaconda2/lib/python2.7/site-packages/ipykernel/__main__.py:95: Warning: Unknown table 'diktiScraperdb.list010250'\n"
     ]
    },
    {
     "name": "stdout",
     "output_type": "stream",
     "text": [
      "Get Text Faculty ScrapeHTML Object\n",
      "list010251 transfered to SQL, done\n"
     ]
    },
    {
     "name": "stderr",
     "output_type": "stream",
     "text": [
      "/home/alien/anaconda2/lib/python2.7/site-packages/ipykernel/__main__.py:95: Warning: Unknown table 'diktiScraperdb.list010251'\n"
     ]
    },
    {
     "name": "stdout",
     "output_type": "stream",
     "text": [
      "Get Text Faculty ScrapeHTML Object\n"
     ]
    },
    {
     "name": "stderr",
     "output_type": "stream",
     "text": [
      "/home/alien/anaconda2/lib/python2.7/site-packages/ipykernel/__main__.py:95: Warning: Unknown table 'diktiScraperdb.list010252'\n"
     ]
    },
    {
     "name": "stdout",
     "output_type": "stream",
     "text": [
      "list010252 transfered to SQL, done\n",
      "Get Text Faculty ScrapeHTML Object\n",
      "list010253 transfered to SQL, done\n"
     ]
    },
    {
     "name": "stderr",
     "output_type": "stream",
     "text": [
      "/home/alien/anaconda2/lib/python2.7/site-packages/ipykernel/__main__.py:95: Warning: Unknown table 'diktiScraperdb.list010253'\n"
     ]
    },
    {
     "name": "stdout",
     "output_type": "stream",
     "text": [
      "Get Text Faculty ScrapeHTML Object\n",
      "list010254 transfered to SQL, done\n"
     ]
    },
    {
     "name": "stderr",
     "output_type": "stream",
     "text": [
      "/home/alien/anaconda2/lib/python2.7/site-packages/ipykernel/__main__.py:95: Warning: Unknown table 'diktiScraperdb.list010254'\n"
     ]
    },
    {
     "name": "stdout",
     "output_type": "stream",
     "text": [
      "Get Text Faculty ScrapeHTML Object\n",
      "list010255 transfered to SQL, done\n"
     ]
    },
    {
     "name": "stderr",
     "output_type": "stream",
     "text": [
      "/home/alien/anaconda2/lib/python2.7/site-packages/ipykernel/__main__.py:95: Warning: Unknown table 'diktiScraperdb.list010255'\n"
     ]
    },
    {
     "name": "stdout",
     "output_type": "stream",
     "text": [
      "Get Text Faculty ScrapeHTML Object\n",
      "list010256 transfered to SQL, done\n"
     ]
    },
    {
     "name": "stderr",
     "output_type": "stream",
     "text": [
      "/home/alien/anaconda2/lib/python2.7/site-packages/ipykernel/__main__.py:95: Warning: Unknown table 'diktiScraperdb.list010256'\n"
     ]
    },
    {
     "name": "stdout",
     "output_type": "stream",
     "text": [
      "Get Text Faculty ScrapeHTML Object\n",
      "list010257 transfered to SQL, done\n"
     ]
    },
    {
     "name": "stderr",
     "output_type": "stream",
     "text": [
      "/home/alien/anaconda2/lib/python2.7/site-packages/ipykernel/__main__.py:95: Warning: Unknown table 'diktiScraperdb.list010257'\n"
     ]
    },
    {
     "name": "stdout",
     "output_type": "stream",
     "text": [
      "Get Text Faculty ScrapeHTML Object\n",
      "list010258 transfered to SQL, done\n"
     ]
    },
    {
     "name": "stderr",
     "output_type": "stream",
     "text": [
      "/home/alien/anaconda2/lib/python2.7/site-packages/ipykernel/__main__.py:95: Warning: Unknown table 'diktiScraperdb.list010258'\n"
     ]
    },
    {
     "name": "stdout",
     "output_type": "stream",
     "text": [
      "Get Text Faculty ScrapeHTML Object\n",
      "list010259 transfered to SQL, done\n"
     ]
    },
    {
     "name": "stderr",
     "output_type": "stream",
     "text": [
      "/home/alien/anaconda2/lib/python2.7/site-packages/ipykernel/__main__.py:95: Warning: Unknown table 'diktiScraperdb.list010259'\n"
     ]
    },
    {
     "name": "stdout",
     "output_type": "stream",
     "text": [
      "Get Text Faculty ScrapeHTML Object\n",
      "list010260 transfered to SQL, done\n"
     ]
    },
    {
     "name": "stderr",
     "output_type": "stream",
     "text": [
      "/home/alien/anaconda2/lib/python2.7/site-packages/ipykernel/__main__.py:95: Warning: Unknown table 'diktiScraperdb.list010260'\n"
     ]
    },
    {
     "name": "stdout",
     "output_type": "stream",
     "text": [
      "Get Text Faculty ScrapeHTML Object\n",
      "list010261 transfered to SQL, done\n"
     ]
    },
    {
     "name": "stderr",
     "output_type": "stream",
     "text": [
      "/home/alien/anaconda2/lib/python2.7/site-packages/ipykernel/__main__.py:95: Warning: Unknown table 'diktiScraperdb.list010261'\n"
     ]
    },
    {
     "name": "stdout",
     "output_type": "stream",
     "text": [
      "Get Text Faculty ScrapeHTML Object\n",
      "list010262 transfered to SQL, done\n"
     ]
    },
    {
     "name": "stderr",
     "output_type": "stream",
     "text": [
      "/home/alien/anaconda2/lib/python2.7/site-packages/ipykernel/__main__.py:95: Warning: Unknown table 'diktiScraperdb.list010262'\n"
     ]
    },
    {
     "name": "stdout",
     "output_type": "stream",
     "text": [
      "Get Text Faculty ScrapeHTML Object\n",
      "list010263 transfered to SQL, done\n"
     ]
    },
    {
     "name": "stderr",
     "output_type": "stream",
     "text": [
      "/home/alien/anaconda2/lib/python2.7/site-packages/ipykernel/__main__.py:95: Warning: Unknown table 'diktiScraperdb.list010263'\n"
     ]
    },
    {
     "name": "stdout",
     "output_type": "stream",
     "text": [
      "Get Text Faculty ScrapeHTML Object\n",
      "list010264 transfered to SQL, done\n"
     ]
    },
    {
     "name": "stderr",
     "output_type": "stream",
     "text": [
      "/home/alien/anaconda2/lib/python2.7/site-packages/ipykernel/__main__.py:95: Warning: Unknown table 'diktiScraperdb.list010264'\n"
     ]
    },
    {
     "name": "stdout",
     "output_type": "stream",
     "text": [
      "Get Text Faculty ScrapeHTML Object\n",
      "list010265 transfered to SQL, done\n"
     ]
    },
    {
     "name": "stderr",
     "output_type": "stream",
     "text": [
      "/home/alien/anaconda2/lib/python2.7/site-packages/ipykernel/__main__.py:95: Warning: Unknown table 'diktiScraperdb.list010265'\n"
     ]
    },
    {
     "name": "stdout",
     "output_type": "stream",
     "text": [
      "Get Text Faculty ScrapeHTML Object\n",
      "list010266 transfered to SQL, done\n"
     ]
    },
    {
     "name": "stderr",
     "output_type": "stream",
     "text": [
      "/home/alien/anaconda2/lib/python2.7/site-packages/ipykernel/__main__.py:95: Warning: Unknown table 'diktiScraperdb.list010266'\n"
     ]
    },
    {
     "name": "stdout",
     "output_type": "stream",
     "text": [
      "Get Text Faculty ScrapeHTML Object\n",
      "list010267 transfered to SQL, done\n"
     ]
    },
    {
     "name": "stderr",
     "output_type": "stream",
     "text": [
      "/home/alien/anaconda2/lib/python2.7/site-packages/ipykernel/__main__.py:95: Warning: Unknown table 'diktiScraperdb.list010267'\n"
     ]
    },
    {
     "name": "stdout",
     "output_type": "stream",
     "text": [
      "Get Text Faculty ScrapeHTML Object\n",
      "list010268 transfered to SQL, done\n"
     ]
    },
    {
     "name": "stderr",
     "output_type": "stream",
     "text": [
      "/home/alien/anaconda2/lib/python2.7/site-packages/ipykernel/__main__.py:95: Warning: Unknown table 'diktiScraperdb.list010268'\n"
     ]
    },
    {
     "name": "stdout",
     "output_type": "stream",
     "text": [
      "Get Text Faculty ScrapeHTML Object\n",
      "list010269 transfered to SQL, done\n"
     ]
    },
    {
     "name": "stderr",
     "output_type": "stream",
     "text": [
      "/home/alien/anaconda2/lib/python2.7/site-packages/ipykernel/__main__.py:95: Warning: Unknown table 'diktiScraperdb.list010269'\n"
     ]
    },
    {
     "name": "stdout",
     "output_type": "stream",
     "text": [
      "Get Text Faculty ScrapeHTML Object\n",
      "list010270 transfered to SQL, done\n"
     ]
    },
    {
     "name": "stderr",
     "output_type": "stream",
     "text": [
      "/home/alien/anaconda2/lib/python2.7/site-packages/ipykernel/__main__.py:95: Warning: Unknown table 'diktiScraperdb.list010270'\n"
     ]
    },
    {
     "name": "stdout",
     "output_type": "stream",
     "text": [
      "Get Text Faculty ScrapeHTML Object\n",
      "list010271 transfered to SQL, done\n"
     ]
    },
    {
     "name": "stderr",
     "output_type": "stream",
     "text": [
      "/home/alien/anaconda2/lib/python2.7/site-packages/ipykernel/__main__.py:95: Warning: Unknown table 'diktiScraperdb.list010271'\n"
     ]
    },
    {
     "name": "stdout",
     "output_type": "stream",
     "text": [
      "Get Text Faculty ScrapeHTML Object\n",
      "list010272 transfered to SQL, done\n"
     ]
    },
    {
     "name": "stderr",
     "output_type": "stream",
     "text": [
      "/home/alien/anaconda2/lib/python2.7/site-packages/ipykernel/__main__.py:95: Warning: Unknown table 'diktiScraperdb.list010272'\n"
     ]
    },
    {
     "name": "stdout",
     "output_type": "stream",
     "text": [
      "Get Text Faculty ScrapeHTML Object\n",
      "list010273 transfered to SQL, done\n"
     ]
    },
    {
     "name": "stderr",
     "output_type": "stream",
     "text": [
      "/home/alien/anaconda2/lib/python2.7/site-packages/ipykernel/__main__.py:95: Warning: Unknown table 'diktiScraperdb.list010273'\n"
     ]
    },
    {
     "name": "stdout",
     "output_type": "stream",
     "text": [
      "Get Text Faculty ScrapeHTML Object\n",
      "list010274 transfered to SQL, done\n"
     ]
    },
    {
     "name": "stderr",
     "output_type": "stream",
     "text": [
      "/home/alien/anaconda2/lib/python2.7/site-packages/ipykernel/__main__.py:95: Warning: Unknown table 'diktiScraperdb.list010274'\n"
     ]
    },
    {
     "name": "stdout",
     "output_type": "stream",
     "text": [
      "Get Text Faculty ScrapeHTML Object\n",
      "list010275 transfered to SQL, done\n"
     ]
    },
    {
     "name": "stderr",
     "output_type": "stream",
     "text": [
      "/home/alien/anaconda2/lib/python2.7/site-packages/ipykernel/__main__.py:95: Warning: Unknown table 'diktiScraperdb.list010275'\n"
     ]
    },
    {
     "name": "stdout",
     "output_type": "stream",
     "text": [
      "Get Text Faculty ScrapeHTML Object\n",
      "list010276 transfered to SQL, done\n"
     ]
    },
    {
     "name": "stderr",
     "output_type": "stream",
     "text": [
      "/home/alien/anaconda2/lib/python2.7/site-packages/ipykernel/__main__.py:95: Warning: Unknown table 'diktiScraperdb.list010276'\n"
     ]
    },
    {
     "name": "stdout",
     "output_type": "stream",
     "text": [
      "Get Text Faculty ScrapeHTML Object\n",
      "list010277 transfered to SQL, done\n"
     ]
    },
    {
     "name": "stderr",
     "output_type": "stream",
     "text": [
      "/home/alien/anaconda2/lib/python2.7/site-packages/ipykernel/__main__.py:95: Warning: Unknown table 'diktiScraperdb.list010277'\n"
     ]
    },
    {
     "name": "stdout",
     "output_type": "stream",
     "text": [
      "Get Text Faculty ScrapeHTML Object\n",
      "list010278 transfered to SQL, done\n"
     ]
    },
    {
     "name": "stderr",
     "output_type": "stream",
     "text": [
      "/home/alien/anaconda2/lib/python2.7/site-packages/ipykernel/__main__.py:95: Warning: Unknown table 'diktiScraperdb.list010278'\n"
     ]
    },
    {
     "name": "stdout",
     "output_type": "stream",
     "text": [
      "Get Text Faculty ScrapeHTML Object\n",
      "list010279 transfered to SQL, done\n"
     ]
    },
    {
     "name": "stderr",
     "output_type": "stream",
     "text": [
      "/home/alien/anaconda2/lib/python2.7/site-packages/ipykernel/__main__.py:95: Warning: Unknown table 'diktiScraperdb.list010279'\n"
     ]
    },
    {
     "name": "stdout",
     "output_type": "stream",
     "text": [
      "Get Text Faculty ScrapeHTML Object\n"
     ]
    },
    {
     "name": "stderr",
     "output_type": "stream",
     "text": [
      "/home/alien/anaconda2/lib/python2.7/site-packages/ipykernel/__main__.py:95: Warning: Unknown table 'diktiScraperdb.list010280'\n"
     ]
    },
    {
     "name": "stdout",
     "output_type": "stream",
     "text": [
      "list010280 transfered to SQL, done\n",
      "Get Text Faculty ScrapeHTML Object\n"
     ]
    },
    {
     "name": "stderr",
     "output_type": "stream",
     "text": [
      "/home/alien/anaconda2/lib/python2.7/site-packages/ipykernel/__main__.py:95: Warning: Unknown table 'diktiScraperdb.list010281'\n"
     ]
    },
    {
     "name": "stdout",
     "output_type": "stream",
     "text": [
      "list010281 transfered to SQL, done\n",
      "Get Text Faculty ScrapeHTML Object\n",
      "list010282 transfered to SQL, done\n"
     ]
    },
    {
     "name": "stderr",
     "output_type": "stream",
     "text": [
      "/home/alien/anaconda2/lib/python2.7/site-packages/ipykernel/__main__.py:95: Warning: Unknown table 'diktiScraperdb.list010282'\n"
     ]
    },
    {
     "name": "stdout",
     "output_type": "stream",
     "text": [
      "Get Text Faculty ScrapeHTML Object\n",
      "list010283 transfered to SQL, done\n"
     ]
    },
    {
     "name": "stderr",
     "output_type": "stream",
     "text": [
      "/home/alien/anaconda2/lib/python2.7/site-packages/ipykernel/__main__.py:95: Warning: Unknown table 'diktiScraperdb.list010283'\n"
     ]
    },
    {
     "name": "stdout",
     "output_type": "stream",
     "text": [
      "Get Text Faculty ScrapeHTML Object\n",
      "list010284 transfered to SQL, done\n"
     ]
    },
    {
     "name": "stderr",
     "output_type": "stream",
     "text": [
      "/home/alien/anaconda2/lib/python2.7/site-packages/ipykernel/__main__.py:95: Warning: Unknown table 'diktiScraperdb.list010284'\n"
     ]
    },
    {
     "name": "stdout",
     "output_type": "stream",
     "text": [
      "Get Text Faculty ScrapeHTML Object\n",
      "list010285 transfered to SQL, done\n"
     ]
    },
    {
     "name": "stderr",
     "output_type": "stream",
     "text": [
      "/home/alien/anaconda2/lib/python2.7/site-packages/ipykernel/__main__.py:95: Warning: Unknown table 'diktiScraperdb.list010285'\n"
     ]
    },
    {
     "name": "stdout",
     "output_type": "stream",
     "text": [
      "Get Text Faculty ScrapeHTML Object\n",
      "list010286 transfered to SQL, done\n"
     ]
    },
    {
     "name": "stderr",
     "output_type": "stream",
     "text": [
      "/home/alien/anaconda2/lib/python2.7/site-packages/ipykernel/__main__.py:95: Warning: Unknown table 'diktiScraperdb.list010286'\n"
     ]
    },
    {
     "name": "stdout",
     "output_type": "stream",
     "text": [
      "Get Text Faculty ScrapeHTML Object\n",
      "list010287 transfered to SQL, done\n"
     ]
    },
    {
     "name": "stderr",
     "output_type": "stream",
     "text": [
      "/home/alien/anaconda2/lib/python2.7/site-packages/ipykernel/__main__.py:95: Warning: Unknown table 'diktiScraperdb.list010287'\n"
     ]
    },
    {
     "name": "stdout",
     "output_type": "stream",
     "text": [
      "Get Text Faculty ScrapeHTML Object\n",
      "list010288 transfered to SQL, done\n"
     ]
    },
    {
     "name": "stderr",
     "output_type": "stream",
     "text": [
      "/home/alien/anaconda2/lib/python2.7/site-packages/ipykernel/__main__.py:95: Warning: Unknown table 'diktiScraperdb.list010288'\n"
     ]
    },
    {
     "name": "stdout",
     "output_type": "stream",
     "text": [
      "Get Text Faculty ScrapeHTML Object\n",
      "list010289 transfered to SQL, done\n"
     ]
    },
    {
     "name": "stderr",
     "output_type": "stream",
     "text": [
      "/home/alien/anaconda2/lib/python2.7/site-packages/ipykernel/__main__.py:95: Warning: Unknown table 'diktiScraperdb.list010289'\n"
     ]
    },
    {
     "name": "stdout",
     "output_type": "stream",
     "text": [
      "Get Text Faculty ScrapeHTML Object\n"
     ]
    },
    {
     "name": "stderr",
     "output_type": "stream",
     "text": [
      "/home/alien/anaconda2/lib/python2.7/site-packages/ipykernel/__main__.py:95: Warning: Unknown table 'diktiScraperdb.list010290'\n"
     ]
    },
    {
     "name": "stdout",
     "output_type": "stream",
     "text": [
      "list010290 transfered to SQL, done\n",
      "Get Text Faculty ScrapeHTML Object\n",
      "list010291 transfered to SQL, done\n"
     ]
    },
    {
     "name": "stderr",
     "output_type": "stream",
     "text": [
      "/home/alien/anaconda2/lib/python2.7/site-packages/ipykernel/__main__.py:95: Warning: Unknown table 'diktiScraperdb.list010291'\n"
     ]
    },
    {
     "name": "stdout",
     "output_type": "stream",
     "text": [
      "Get Text Faculty ScrapeHTML Object\n",
      "list010292 transfered to SQL, done\n"
     ]
    },
    {
     "name": "stderr",
     "output_type": "stream",
     "text": [
      "/home/alien/anaconda2/lib/python2.7/site-packages/ipykernel/__main__.py:95: Warning: Unknown table 'diktiScraperdb.list010292'\n"
     ]
    },
    {
     "name": "stdout",
     "output_type": "stream",
     "text": [
      "Get Text Faculty ScrapeHTML Object\n",
      "list010293 transfered to SQL, done\n"
     ]
    },
    {
     "name": "stderr",
     "output_type": "stream",
     "text": [
      "/home/alien/anaconda2/lib/python2.7/site-packages/ipykernel/__main__.py:95: Warning: Unknown table 'diktiScraperdb.list010293'\n"
     ]
    },
    {
     "name": "stdout",
     "output_type": "stream",
     "text": [
      "Get Text Faculty ScrapeHTML Object\n",
      "list010294 transfered to SQL, done\n"
     ]
    },
    {
     "name": "stderr",
     "output_type": "stream",
     "text": [
      "/home/alien/anaconda2/lib/python2.7/site-packages/ipykernel/__main__.py:95: Warning: Unknown table 'diktiScraperdb.list010294'\n"
     ]
    },
    {
     "name": "stdout",
     "output_type": "stream",
     "text": [
      "Get Text Faculty ScrapeHTML Object\n",
      "list010295 transfered to SQL, done\n"
     ]
    },
    {
     "name": "stderr",
     "output_type": "stream",
     "text": [
      "/home/alien/anaconda2/lib/python2.7/site-packages/ipykernel/__main__.py:95: Warning: Unknown table 'diktiScraperdb.list010295'\n"
     ]
    },
    {
     "name": "stdout",
     "output_type": "stream",
     "text": [
      "Get Text Faculty ScrapeHTML Object\n",
      "list010296 transfered to SQL, done\n"
     ]
    },
    {
     "name": "stderr",
     "output_type": "stream",
     "text": [
      "/home/alien/anaconda2/lib/python2.7/site-packages/ipykernel/__main__.py:95: Warning: Unknown table 'diktiScraperdb.list010296'\n"
     ]
    },
    {
     "name": "stdout",
     "output_type": "stream",
     "text": [
      "Get Text Faculty ScrapeHTML Object\n",
      "list010297 transfered to SQL, done\n"
     ]
    },
    {
     "name": "stderr",
     "output_type": "stream",
     "text": [
      "/home/alien/anaconda2/lib/python2.7/site-packages/ipykernel/__main__.py:95: Warning: Unknown table 'diktiScraperdb.list010297'\n"
     ]
    },
    {
     "name": "stdout",
     "output_type": "stream",
     "text": [
      "Get Text Faculty ScrapeHTML Object\n",
      "list010298 transfered to SQL, done\n"
     ]
    },
    {
     "name": "stderr",
     "output_type": "stream",
     "text": [
      "/home/alien/anaconda2/lib/python2.7/site-packages/ipykernel/__main__.py:95: Warning: Unknown table 'diktiScraperdb.list010298'\n"
     ]
    },
    {
     "name": "stdout",
     "output_type": "stream",
     "text": [
      "Get Text Faculty ScrapeHTML Object\n"
     ]
    },
    {
     "name": "stderr",
     "output_type": "stream",
     "text": [
      "/home/alien/anaconda2/lib/python2.7/site-packages/ipykernel/__main__.py:95: Warning: Unknown table 'diktiScraperdb.list010299'\n"
     ]
    },
    {
     "name": "stdout",
     "output_type": "stream",
     "text": [
      "list010299 transfered to SQL, done\n",
      "Get Text Faculty ScrapeHTML Object\n"
     ]
    },
    {
     "name": "stderr",
     "output_type": "stream",
     "text": [
      "/home/alien/anaconda2/lib/python2.7/site-packages/ipykernel/__main__.py:95: Warning: Unknown table 'diktiScraperdb.list0102100'\n"
     ]
    },
    {
     "name": "stdout",
     "output_type": "stream",
     "text": [
      "list0102100 transfered to SQL, done\n",
      "Get Text Faculty ScrapeHTML Object\n",
      "list0102101 transfered to SQL, done\n"
     ]
    },
    {
     "name": "stderr",
     "output_type": "stream",
     "text": [
      "/home/alien/anaconda2/lib/python2.7/site-packages/ipykernel/__main__.py:95: Warning: Unknown table 'diktiScraperdb.list0102101'\n"
     ]
    },
    {
     "name": "stdout",
     "output_type": "stream",
     "text": [
      "Get Text Faculty ScrapeHTML Object\n",
      "list0102102 transfered to SQL, done\n"
     ]
    },
    {
     "name": "stderr",
     "output_type": "stream",
     "text": [
      "/home/alien/anaconda2/lib/python2.7/site-packages/ipykernel/__main__.py:95: Warning: Unknown table 'diktiScraperdb.list0102102'\n"
     ]
    },
    {
     "name": "stdout",
     "output_type": "stream",
     "text": [
      "Get Text Faculty ScrapeHTML Object\n",
      "list0102103 transfered to SQL, done\n"
     ]
    },
    {
     "name": "stderr",
     "output_type": "stream",
     "text": [
      "/home/alien/anaconda2/lib/python2.7/site-packages/ipykernel/__main__.py:95: Warning: Unknown table 'diktiScraperdb.list0102103'\n"
     ]
    },
    {
     "name": "stdout",
     "output_type": "stream",
     "text": [
      "Get Text Faculty ScrapeHTML Object\n",
      "list0102104 transfered to SQL, done\n"
     ]
    },
    {
     "name": "stderr",
     "output_type": "stream",
     "text": [
      "/home/alien/anaconda2/lib/python2.7/site-packages/ipykernel/__main__.py:95: Warning: Unknown table 'diktiScraperdb.list0102104'\n"
     ]
    },
    {
     "name": "stdout",
     "output_type": "stream",
     "text": [
      "Get Text Faculty ScrapeHTML Object\n",
      "list0102105 transfered to SQL, done\n"
     ]
    },
    {
     "name": "stderr",
     "output_type": "stream",
     "text": [
      "/home/alien/anaconda2/lib/python2.7/site-packages/ipykernel/__main__.py:95: Warning: Unknown table 'diktiScraperdb.list0102105'\n"
     ]
    },
    {
     "name": "stdout",
     "output_type": "stream",
     "text": [
      "Get Text Faculty ScrapeHTML Object\n",
      "list0102106 transfered to SQL, done\n"
     ]
    },
    {
     "name": "stderr",
     "output_type": "stream",
     "text": [
      "/home/alien/anaconda2/lib/python2.7/site-packages/ipykernel/__main__.py:95: Warning: Unknown table 'diktiScraperdb.list0102106'\n"
     ]
    },
    {
     "name": "stdout",
     "output_type": "stream",
     "text": [
      "Get Text Faculty ScrapeHTML Object\n",
      "list0102107 transfered to SQL, done\n"
     ]
    },
    {
     "name": "stderr",
     "output_type": "stream",
     "text": [
      "/home/alien/anaconda2/lib/python2.7/site-packages/ipykernel/__main__.py:95: Warning: Unknown table 'diktiScraperdb.list0102107'\n"
     ]
    },
    {
     "name": "stdout",
     "output_type": "stream",
     "text": [
      "Get Text Faculty ScrapeHTML Object\n",
      "list0102108 transfered to SQL, done\n"
     ]
    },
    {
     "name": "stderr",
     "output_type": "stream",
     "text": [
      "/home/alien/anaconda2/lib/python2.7/site-packages/ipykernel/__main__.py:95: Warning: Unknown table 'diktiScraperdb.list0102108'\n"
     ]
    },
    {
     "name": "stdout",
     "output_type": "stream",
     "text": [
      "Get Text Faculty ScrapeHTML Object\n",
      "list0102109 transfered to SQL, done\n"
     ]
    },
    {
     "name": "stderr",
     "output_type": "stream",
     "text": [
      "/home/alien/anaconda2/lib/python2.7/site-packages/ipykernel/__main__.py:95: Warning: Unknown table 'diktiScraperdb.list0102109'\n"
     ]
    },
    {
     "name": "stdout",
     "output_type": "stream",
     "text": [
      "Get Text Faculty ScrapeHTML Object\n",
      "list0102110 transfered to SQL, done\n"
     ]
    },
    {
     "name": "stderr",
     "output_type": "stream",
     "text": [
      "/home/alien/anaconda2/lib/python2.7/site-packages/ipykernel/__main__.py:95: Warning: Unknown table 'diktiScraperdb.list0102110'\n"
     ]
    },
    {
     "name": "stdout",
     "output_type": "stream",
     "text": [
      "Get Text Faculty ScrapeHTML Object\n",
      "list0102111 transfered to SQL, done\n"
     ]
    },
    {
     "name": "stderr",
     "output_type": "stream",
     "text": [
      "/home/alien/anaconda2/lib/python2.7/site-packages/ipykernel/__main__.py:95: Warning: Unknown table 'diktiScraperdb.list0102111'\n"
     ]
    },
    {
     "name": "stdout",
     "output_type": "stream",
     "text": [
      "Get Text Faculty ScrapeHTML Object\n",
      "list0102112 transfered to SQL, done\n"
     ]
    },
    {
     "name": "stderr",
     "output_type": "stream",
     "text": [
      "/home/alien/anaconda2/lib/python2.7/site-packages/ipykernel/__main__.py:95: Warning: Unknown table 'diktiScraperdb.list0102112'\n"
     ]
    },
    {
     "name": "stdout",
     "output_type": "stream",
     "text": [
      "Get Text Faculty ScrapeHTML Object\n",
      "list0102113 transfered to SQL, done\n"
     ]
    },
    {
     "name": "stderr",
     "output_type": "stream",
     "text": [
      "/home/alien/anaconda2/lib/python2.7/site-packages/ipykernel/__main__.py:95: Warning: Unknown table 'diktiScraperdb.list0102113'\n"
     ]
    },
    {
     "name": "stdout",
     "output_type": "stream",
     "text": [
      "Get Text Faculty ScrapeHTML Object\n",
      "list0102114 transfered to SQL, done\n"
     ]
    },
    {
     "name": "stderr",
     "output_type": "stream",
     "text": [
      "/home/alien/anaconda2/lib/python2.7/site-packages/ipykernel/__main__.py:95: Warning: Unknown table 'diktiScraperdb.list0102114'\n"
     ]
    },
    {
     "name": "stdout",
     "output_type": "stream",
     "text": [
      "Get Text Faculty ScrapeHTML Object\n",
      "list0102115 transfered to SQL, done\n"
     ]
    },
    {
     "name": "stderr",
     "output_type": "stream",
     "text": [
      "/home/alien/anaconda2/lib/python2.7/site-packages/ipykernel/__main__.py:95: Warning: Unknown table 'diktiScraperdb.list0102115'\n"
     ]
    },
    {
     "name": "stdout",
     "output_type": "stream",
     "text": [
      "Get Text Faculty ScrapeHTML Object\n",
      "list0102116 transfered to SQL, done\n"
     ]
    },
    {
     "name": "stderr",
     "output_type": "stream",
     "text": [
      "/home/alien/anaconda2/lib/python2.7/site-packages/ipykernel/__main__.py:95: Warning: Unknown table 'diktiScraperdb.list0102116'\n"
     ]
    },
    {
     "name": "stdout",
     "output_type": "stream",
     "text": [
      "Get Text Faculty ScrapeHTML Object\n",
      "list0102117 transfered to SQL, done\n"
     ]
    },
    {
     "name": "stderr",
     "output_type": "stream",
     "text": [
      "/home/alien/anaconda2/lib/python2.7/site-packages/ipykernel/__main__.py:95: Warning: Unknown table 'diktiScraperdb.list0102117'\n"
     ]
    },
    {
     "name": "stdout",
     "output_type": "stream",
     "text": [
      "Get Text Faculty ScrapeHTML Object\n",
      "list0102118 transfered to SQL, done\n"
     ]
    },
    {
     "name": "stderr",
     "output_type": "stream",
     "text": [
      "/home/alien/anaconda2/lib/python2.7/site-packages/ipykernel/__main__.py:95: Warning: Unknown table 'diktiScraperdb.list0102118'\n"
     ]
    },
    {
     "name": "stdout",
     "output_type": "stream",
     "text": [
      "Get Text Faculty ScrapeHTML Object\n",
      "list0102119 transfered to SQL, done\n"
     ]
    },
    {
     "name": "stderr",
     "output_type": "stream",
     "text": [
      "/home/alien/anaconda2/lib/python2.7/site-packages/ipykernel/__main__.py:95: Warning: Unknown table 'diktiScraperdb.list0102119'\n"
     ]
    },
    {
     "name": "stdout",
     "output_type": "stream",
     "text": [
      "Get Text Faculty ScrapeHTML Object\n",
      "list0102120 transfered to SQL, done\n"
     ]
    },
    {
     "name": "stderr",
     "output_type": "stream",
     "text": [
      "/home/alien/anaconda2/lib/python2.7/site-packages/ipykernel/__main__.py:95: Warning: Unknown table 'diktiScraperdb.list0102120'\n"
     ]
    },
    {
     "name": "stdout",
     "output_type": "stream",
     "text": [
      "Get Text Faculty ScrapeHTML Object\n",
      "list0102121 transfered to SQL, done\n"
     ]
    },
    {
     "name": "stderr",
     "output_type": "stream",
     "text": [
      "/home/alien/anaconda2/lib/python2.7/site-packages/ipykernel/__main__.py:95: Warning: Unknown table 'diktiScraperdb.list0102121'\n"
     ]
    },
    {
     "name": "stdout",
     "output_type": "stream",
     "text": [
      "Get Text Faculty ScrapeHTML Object\n",
      "list0102122 transfered to SQL, done\n"
     ]
    },
    {
     "name": "stderr",
     "output_type": "stream",
     "text": [
      "/home/alien/anaconda2/lib/python2.7/site-packages/ipykernel/__main__.py:95: Warning: Unknown table 'diktiScraperdb.list0102122'\n"
     ]
    },
    {
     "name": "stdout",
     "output_type": "stream",
     "text": [
      "Get Text Faculty ScrapeHTML Object\n",
      "list0102123 transfered to SQL, done\n"
     ]
    },
    {
     "name": "stderr",
     "output_type": "stream",
     "text": [
      "/home/alien/anaconda2/lib/python2.7/site-packages/ipykernel/__main__.py:95: Warning: Unknown table 'diktiScraperdb.list0102123'\n"
     ]
    },
    {
     "name": "stdout",
     "output_type": "stream",
     "text": [
      "Get Text Faculty ScrapeHTML Object\n",
      "list0102124 transfered to SQL, done\n"
     ]
    },
    {
     "name": "stderr",
     "output_type": "stream",
     "text": [
      "/home/alien/anaconda2/lib/python2.7/site-packages/ipykernel/__main__.py:95: Warning: Unknown table 'diktiScraperdb.list0102124'\n"
     ]
    },
    {
     "name": "stdout",
     "output_type": "stream",
     "text": [
      "Get Text Faculty ScrapeHTML Object\n",
      "list0102125 transfered to SQL, done\n"
     ]
    },
    {
     "name": "stderr",
     "output_type": "stream",
     "text": [
      "/home/alien/anaconda2/lib/python2.7/site-packages/ipykernel/__main__.py:95: Warning: Unknown table 'diktiScraperdb.list0102125'\n"
     ]
    },
    {
     "name": "stdout",
     "output_type": "stream",
     "text": [
      "Get Text Faculty ScrapeHTML Object\n",
      "list0102126 transfered to SQL, done\n"
     ]
    },
    {
     "name": "stderr",
     "output_type": "stream",
     "text": [
      "/home/alien/anaconda2/lib/python2.7/site-packages/ipykernel/__main__.py:95: Warning: Unknown table 'diktiScraperdb.list0102126'\n"
     ]
    },
    {
     "name": "stdout",
     "output_type": "stream",
     "text": [
      "Get Text Faculty ScrapeHTML Object\n",
      "list0102127 transfered to SQL, done\n"
     ]
    },
    {
     "name": "stderr",
     "output_type": "stream",
     "text": [
      "/home/alien/anaconda2/lib/python2.7/site-packages/ipykernel/__main__.py:95: Warning: Unknown table 'diktiScraperdb.list0102127'\n"
     ]
    },
    {
     "name": "stdout",
     "output_type": "stream",
     "text": [
      "Get Text Faculty ScrapeHTML Object\n",
      "list0102128 transfered to SQL, done\n"
     ]
    },
    {
     "name": "stderr",
     "output_type": "stream",
     "text": [
      "/home/alien/anaconda2/lib/python2.7/site-packages/ipykernel/__main__.py:95: Warning: Unknown table 'diktiScraperdb.list0102128'\n"
     ]
    },
    {
     "name": "stdout",
     "output_type": "stream",
     "text": [
      "Get Text Faculty ScrapeHTML Object\n",
      "list0102129 transfered to SQL, done\n"
     ]
    },
    {
     "name": "stderr",
     "output_type": "stream",
     "text": [
      "/home/alien/anaconda2/lib/python2.7/site-packages/ipykernel/__main__.py:95: Warning: Unknown table 'diktiScraperdb.list0102129'\n"
     ]
    },
    {
     "name": "stdout",
     "output_type": "stream",
     "text": [
      "Get Text Faculty ScrapeHTML Object\n",
      "list0102130 transfered to SQL, done\n"
     ]
    },
    {
     "name": "stderr",
     "output_type": "stream",
     "text": [
      "/home/alien/anaconda2/lib/python2.7/site-packages/ipykernel/__main__.py:95: Warning: Unknown table 'diktiScraperdb.list0102130'\n"
     ]
    },
    {
     "name": "stdout",
     "output_type": "stream",
     "text": [
      "Get Text Faculty ScrapeHTML Object\n",
      "list0102131 transfered to SQL, done\n"
     ]
    },
    {
     "name": "stderr",
     "output_type": "stream",
     "text": [
      "/home/alien/anaconda2/lib/python2.7/site-packages/ipykernel/__main__.py:95: Warning: Unknown table 'diktiScraperdb.list0102131'\n"
     ]
    },
    {
     "name": "stdout",
     "output_type": "stream",
     "text": [
      "Get Text Faculty ScrapeHTML Object\n",
      "list0102132 transfered to SQL, done\n"
     ]
    },
    {
     "name": "stderr",
     "output_type": "stream",
     "text": [
      "/home/alien/anaconda2/lib/python2.7/site-packages/ipykernel/__main__.py:95: Warning: Unknown table 'diktiScraperdb.list0102132'\n"
     ]
    },
    {
     "name": "stdout",
     "output_type": "stream",
     "text": [
      "Get Text Faculty ScrapeHTML Object\n",
      "list0102133 transfered to SQL, done\n"
     ]
    },
    {
     "name": "stderr",
     "output_type": "stream",
     "text": [
      "/home/alien/anaconda2/lib/python2.7/site-packages/ipykernel/__main__.py:95: Warning: Unknown table 'diktiScraperdb.list0102133'\n"
     ]
    },
    {
     "name": "stdout",
     "output_type": "stream",
     "text": [
      "Get Text Faculty ScrapeHTML Object\n",
      "list0102134 transfered to SQL, done\n"
     ]
    },
    {
     "name": "stderr",
     "output_type": "stream",
     "text": [
      "/home/alien/anaconda2/lib/python2.7/site-packages/ipykernel/__main__.py:95: Warning: Unknown table 'diktiScraperdb.list0102134'\n"
     ]
    },
    {
     "name": "stdout",
     "output_type": "stream",
     "text": [
      "Get Text Faculty ScrapeHTML Object\n",
      "list0102135 transfered to SQL, done\n"
     ]
    },
    {
     "name": "stderr",
     "output_type": "stream",
     "text": [
      "/home/alien/anaconda2/lib/python2.7/site-packages/ipykernel/__main__.py:95: Warning: Unknown table 'diktiScraperdb.list0102135'\n"
     ]
    },
    {
     "name": "stdout",
     "output_type": "stream",
     "text": [
      "Get Text Faculty ScrapeHTML Object\n",
      "list0102136 transfered to SQL, done\n"
     ]
    },
    {
     "name": "stderr",
     "output_type": "stream",
     "text": [
      "/home/alien/anaconda2/lib/python2.7/site-packages/ipykernel/__main__.py:95: Warning: Unknown table 'diktiScraperdb.list0102136'\n"
     ]
    },
    {
     "name": "stdout",
     "output_type": "stream",
     "text": [
      "Get Text Faculty ScrapeHTML Object\n",
      "list0102137 transfered to SQL, done\n"
     ]
    },
    {
     "name": "stderr",
     "output_type": "stream",
     "text": [
      "/home/alien/anaconda2/lib/python2.7/site-packages/ipykernel/__main__.py:95: Warning: Unknown table 'diktiScraperdb.list0102137'\n"
     ]
    },
    {
     "name": "stdout",
     "output_type": "stream",
     "text": [
      "Get Text Faculty ScrapeHTML Object\n",
      "list0102138 transfered to SQL, done\n"
     ]
    },
    {
     "name": "stderr",
     "output_type": "stream",
     "text": [
      "/home/alien/anaconda2/lib/python2.7/site-packages/ipykernel/__main__.py:95: Warning: Unknown table 'diktiScraperdb.list0102138'\n"
     ]
    },
    {
     "name": "stdout",
     "output_type": "stream",
     "text": [
      "Get Text Faculty ScrapeHTML Object\n",
      "list0102139 transfered to SQL, done\n"
     ]
    },
    {
     "name": "stderr",
     "output_type": "stream",
     "text": [
      "/home/alien/anaconda2/lib/python2.7/site-packages/ipykernel/__main__.py:95: Warning: Unknown table 'diktiScraperdb.list0102139'\n"
     ]
    },
    {
     "name": "stdout",
     "output_type": "stream",
     "text": [
      "Get Text Faculty ScrapeHTML Object\n",
      "list0102140 transfered to SQL, done\n"
     ]
    },
    {
     "name": "stderr",
     "output_type": "stream",
     "text": [
      "/home/alien/anaconda2/lib/python2.7/site-packages/ipykernel/__main__.py:95: Warning: Unknown table 'diktiScraperdb.list0102140'\n"
     ]
    },
    {
     "name": "stdout",
     "output_type": "stream",
     "text": [
      "Get Text Faculty ScrapeHTML Object\n",
      "list0102141 transfered to SQL, done\n"
     ]
    },
    {
     "name": "stderr",
     "output_type": "stream",
     "text": [
      "/home/alien/anaconda2/lib/python2.7/site-packages/ipykernel/__main__.py:95: Warning: Unknown table 'diktiScraperdb.list0102141'\n"
     ]
    },
    {
     "name": "stdout",
     "output_type": "stream",
     "text": [
      "Get Text Faculty ScrapeHTML Object\n",
      "list0102142 transfered to SQL, done\n"
     ]
    },
    {
     "name": "stderr",
     "output_type": "stream",
     "text": [
      "/home/alien/anaconda2/lib/python2.7/site-packages/ipykernel/__main__.py:95: Warning: Unknown table 'diktiScraperdb.list0102142'\n"
     ]
    },
    {
     "name": "stdout",
     "output_type": "stream",
     "text": [
      "Get Text Faculty ScrapeHTML Object\n",
      "list0102143 transfered to SQL, done\n"
     ]
    },
    {
     "name": "stderr",
     "output_type": "stream",
     "text": [
      "/home/alien/anaconda2/lib/python2.7/site-packages/ipykernel/__main__.py:95: Warning: Unknown table 'diktiScraperdb.list0102143'\n"
     ]
    },
    {
     "name": "stdout",
     "output_type": "stream",
     "text": [
      "Get Text Faculty ScrapeHTML Object\n",
      "list0102144 transfered to SQL, done\n"
     ]
    },
    {
     "name": "stderr",
     "output_type": "stream",
     "text": [
      "/home/alien/anaconda2/lib/python2.7/site-packages/ipykernel/__main__.py:95: Warning: Unknown table 'diktiScraperdb.list0102144'\n"
     ]
    },
    {
     "name": "stdout",
     "output_type": "stream",
     "text": [
      "Get Text Faculty ScrapeHTML Object\n",
      "list0102145 transfered to SQL, done\n"
     ]
    },
    {
     "name": "stderr",
     "output_type": "stream",
     "text": [
      "/home/alien/anaconda2/lib/python2.7/site-packages/ipykernel/__main__.py:95: Warning: Unknown table 'diktiScraperdb.list0102145'\n"
     ]
    },
    {
     "name": "stdout",
     "output_type": "stream",
     "text": [
      "Get Text Faculty ScrapeHTML Object\n",
      "list0102146 transfered to SQL, done\n"
     ]
    },
    {
     "name": "stderr",
     "output_type": "stream",
     "text": [
      "/home/alien/anaconda2/lib/python2.7/site-packages/ipykernel/__main__.py:95: Warning: Unknown table 'diktiScraperdb.list0102146'\n"
     ]
    },
    {
     "name": "stdout",
     "output_type": "stream",
     "text": [
      "Get Text Faculty ScrapeHTML Object\n",
      "list0102147 transfered to SQL, done\n"
     ]
    },
    {
     "name": "stderr",
     "output_type": "stream",
     "text": [
      "/home/alien/anaconda2/lib/python2.7/site-packages/ipykernel/__main__.py:95: Warning: Unknown table 'diktiScraperdb.list0102147'\n"
     ]
    },
    {
     "name": "stdout",
     "output_type": "stream",
     "text": [
      "Get Text Faculty ScrapeHTML Object\n",
      "list0102148 transfered to SQL, done\n"
     ]
    },
    {
     "name": "stderr",
     "output_type": "stream",
     "text": [
      "/home/alien/anaconda2/lib/python2.7/site-packages/ipykernel/__main__.py:95: Warning: Unknown table 'diktiScraperdb.list0102148'\n"
     ]
    },
    {
     "name": "stdout",
     "output_type": "stream",
     "text": [
      "Get Text Faculty ScrapeHTML Object\n",
      "list0102149 transfered to SQL, done\n"
     ]
    },
    {
     "name": "stderr",
     "output_type": "stream",
     "text": [
      "/home/alien/anaconda2/lib/python2.7/site-packages/ipykernel/__main__.py:95: Warning: Unknown table 'diktiScraperdb.list0102149'\n"
     ]
    },
    {
     "name": "stdout",
     "output_type": "stream",
     "text": [
      "Get Text Faculty ScrapeHTML Object\n",
      "list0102150 transfered to SQL, done\n"
     ]
    },
    {
     "name": "stderr",
     "output_type": "stream",
     "text": [
      "/home/alien/anaconda2/lib/python2.7/site-packages/ipykernel/__main__.py:95: Warning: Unknown table 'diktiScraperdb.list0102150'\n"
     ]
    },
    {
     "name": "stdout",
     "output_type": "stream",
     "text": [
      "Get Text Faculty ScrapeHTML Object\n",
      "list0102151 transfered to SQL, done\n"
     ]
    },
    {
     "name": "stderr",
     "output_type": "stream",
     "text": [
      "/home/alien/anaconda2/lib/python2.7/site-packages/ipykernel/__main__.py:95: Warning: Unknown table 'diktiScraperdb.list0102151'\n"
     ]
    },
    {
     "name": "stdout",
     "output_type": "stream",
     "text": [
      "Get Text Faculty ScrapeHTML Object\n",
      "list0102152 transfered to SQL, done\n"
     ]
    },
    {
     "name": "stderr",
     "output_type": "stream",
     "text": [
      "/home/alien/anaconda2/lib/python2.7/site-packages/ipykernel/__main__.py:95: Warning: Unknown table 'diktiScraperdb.list0102152'\n"
     ]
    },
    {
     "name": "stdout",
     "output_type": "stream",
     "text": [
      "Get Text Faculty ScrapeHTML Object\n",
      "list0102153 transfered to SQL, done\n"
     ]
    },
    {
     "name": "stderr",
     "output_type": "stream",
     "text": [
      "/home/alien/anaconda2/lib/python2.7/site-packages/ipykernel/__main__.py:95: Warning: Unknown table 'diktiScraperdb.list0102153'\n"
     ]
    },
    {
     "name": "stdout",
     "output_type": "stream",
     "text": [
      "Get Text Faculty ScrapeHTML Object\n",
      "list0102154 transfered to SQL, done\n"
     ]
    },
    {
     "name": "stderr",
     "output_type": "stream",
     "text": [
      "/home/alien/anaconda2/lib/python2.7/site-packages/ipykernel/__main__.py:95: Warning: Unknown table 'diktiScraperdb.list0102154'\n"
     ]
    },
    {
     "name": "stdout",
     "output_type": "stream",
     "text": [
      "Get Text Faculty ScrapeHTML Object\n",
      "list0102155 transfered to SQL, done\n"
     ]
    },
    {
     "name": "stderr",
     "output_type": "stream",
     "text": [
      "/home/alien/anaconda2/lib/python2.7/site-packages/ipykernel/__main__.py:95: Warning: Unknown table 'diktiScraperdb.list0102155'\n"
     ]
    },
    {
     "name": "stdout",
     "output_type": "stream",
     "text": [
      "Get Text Faculty ScrapeHTML Object\n",
      "list0102156 transfered to SQL, done\n"
     ]
    },
    {
     "name": "stderr",
     "output_type": "stream",
     "text": [
      "/home/alien/anaconda2/lib/python2.7/site-packages/ipykernel/__main__.py:95: Warning: Unknown table 'diktiScraperdb.list0102156'\n"
     ]
    },
    {
     "name": "stdout",
     "output_type": "stream",
     "text": [
      "Get Text Faculty ScrapeHTML Object\n",
      "list0102157 transfered to SQL, done\n"
     ]
    },
    {
     "name": "stderr",
     "output_type": "stream",
     "text": [
      "/home/alien/anaconda2/lib/python2.7/site-packages/ipykernel/__main__.py:95: Warning: Unknown table 'diktiScraperdb.list0102157'\n"
     ]
    },
    {
     "name": "stdout",
     "output_type": "stream",
     "text": [
      "Get Text Faculty ScrapeHTML Object\n",
      "list0102158 transfered to SQL, done\n"
     ]
    },
    {
     "name": "stderr",
     "output_type": "stream",
     "text": [
      "/home/alien/anaconda2/lib/python2.7/site-packages/ipykernel/__main__.py:95: Warning: Unknown table 'diktiScraperdb.list0102158'\n"
     ]
    },
    {
     "name": "stdout",
     "output_type": "stream",
     "text": [
      "Get Text Faculty ScrapeHTML Object\n",
      "list0102159 transfered to SQL, done\n"
     ]
    },
    {
     "name": "stderr",
     "output_type": "stream",
     "text": [
      "/home/alien/anaconda2/lib/python2.7/site-packages/ipykernel/__main__.py:95: Warning: Unknown table 'diktiScraperdb.list0102159'\n"
     ]
    },
    {
     "name": "stdout",
     "output_type": "stream",
     "text": [
      "Get Text Faculty ScrapeHTML Object\n",
      "list0102160 transfered to SQL, done\n"
     ]
    },
    {
     "name": "stderr",
     "output_type": "stream",
     "text": [
      "/home/alien/anaconda2/lib/python2.7/site-packages/ipykernel/__main__.py:95: Warning: Unknown table 'diktiScraperdb.list0102160'\n"
     ]
    },
    {
     "name": "stdout",
     "output_type": "stream",
     "text": [
      "Get Text Faculty ScrapeHTML Object\n",
      "list0102161 transfered to SQL, done\n"
     ]
    },
    {
     "name": "stderr",
     "output_type": "stream",
     "text": [
      "/home/alien/anaconda2/lib/python2.7/site-packages/ipykernel/__main__.py:95: Warning: Unknown table 'diktiScraperdb.list0102161'\n"
     ]
    },
    {
     "name": "stdout",
     "output_type": "stream",
     "text": [
      "Get Text Faculty ScrapeHTML Object\n"
     ]
    },
    {
     "name": "stderr",
     "output_type": "stream",
     "text": [
      "/home/alien/anaconda2/lib/python2.7/site-packages/ipykernel/__main__.py:95: Warning: Unknown table 'diktiScraperdb.list0102162'\n"
     ]
    },
    {
     "name": "stdout",
     "output_type": "stream",
     "text": [
      "list0102162 transfered to SQL, done\n",
      "Get Text Faculty ScrapeHTML Object\n"
     ]
    },
    {
     "name": "stderr",
     "output_type": "stream",
     "text": [
      "/home/alien/anaconda2/lib/python2.7/site-packages/ipykernel/__main__.py:95: Warning: Unknown table 'diktiScraperdb.list0102163'\n"
     ]
    },
    {
     "name": "stdout",
     "output_type": "stream",
     "text": [
      "list0102163 transfered to SQL, done\n",
      "Get Text Faculty ScrapeHTML Object\n",
      "list0102164 transfered to SQL, done\n"
     ]
    },
    {
     "name": "stderr",
     "output_type": "stream",
     "text": [
      "/home/alien/anaconda2/lib/python2.7/site-packages/ipykernel/__main__.py:95: Warning: Unknown table 'diktiScraperdb.list0102164'\n"
     ]
    },
    {
     "name": "stdout",
     "output_type": "stream",
     "text": [
      "Get Text Faculty ScrapeHTML Object\n",
      "list0102165 transfered to SQL, done\n"
     ]
    },
    {
     "name": "stderr",
     "output_type": "stream",
     "text": [
      "/home/alien/anaconda2/lib/python2.7/site-packages/ipykernel/__main__.py:95: Warning: Unknown table 'diktiScraperdb.list0102165'\n"
     ]
    },
    {
     "name": "stdout",
     "output_type": "stream",
     "text": [
      "Get Text Faculty ScrapeHTML Object\n",
      "list0102166 transfered to SQL, done\n"
     ]
    },
    {
     "name": "stderr",
     "output_type": "stream",
     "text": [
      "/home/alien/anaconda2/lib/python2.7/site-packages/ipykernel/__main__.py:95: Warning: Unknown table 'diktiScraperdb.list0102166'\n"
     ]
    },
    {
     "name": "stdout",
     "output_type": "stream",
     "text": [
      "Get Text Faculty ScrapeHTML Object\n",
      "list0102167 transfered to SQL, done\n"
     ]
    },
    {
     "name": "stderr",
     "output_type": "stream",
     "text": [
      "/home/alien/anaconda2/lib/python2.7/site-packages/ipykernel/__main__.py:95: Warning: Unknown table 'diktiScraperdb.list0102167'\n"
     ]
    },
    {
     "name": "stdout",
     "output_type": "stream",
     "text": [
      "Get Text Faculty ScrapeHTML Object\n",
      "list0102168 transfered to SQL, done\n"
     ]
    },
    {
     "name": "stderr",
     "output_type": "stream",
     "text": [
      "/home/alien/anaconda2/lib/python2.7/site-packages/ipykernel/__main__.py:95: Warning: Unknown table 'diktiScraperdb.list0102168'\n"
     ]
    },
    {
     "name": "stdout",
     "output_type": "stream",
     "text": [
      "Get Text Faculty ScrapeHTML Object\n",
      "list0102169 transfered to SQL, done\n"
     ]
    },
    {
     "name": "stderr",
     "output_type": "stream",
     "text": [
      "/home/alien/anaconda2/lib/python2.7/site-packages/ipykernel/__main__.py:95: Warning: Unknown table 'diktiScraperdb.list0102169'\n"
     ]
    },
    {
     "name": "stdout",
     "output_type": "stream",
     "text": [
      "Get Text Faculty ScrapeHTML Object\n",
      "list0102170 transfered to SQL, done\n"
     ]
    },
    {
     "name": "stderr",
     "output_type": "stream",
     "text": [
      "/home/alien/anaconda2/lib/python2.7/site-packages/ipykernel/__main__.py:95: Warning: Unknown table 'diktiScraperdb.list0102170'\n"
     ]
    },
    {
     "name": "stdout",
     "output_type": "stream",
     "text": [
      "Get Text Faculty ScrapeHTML Object\n",
      "list0102171 transfered to SQL, done\n"
     ]
    },
    {
     "name": "stderr",
     "output_type": "stream",
     "text": [
      "/home/alien/anaconda2/lib/python2.7/site-packages/ipykernel/__main__.py:95: Warning: Unknown table 'diktiScraperdb.list0102171'\n"
     ]
    },
    {
     "name": "stdout",
     "output_type": "stream",
     "text": [
      "Get Text Faculty ScrapeHTML Object\n",
      "list0102172 transfered to SQL, done\n"
     ]
    },
    {
     "name": "stderr",
     "output_type": "stream",
     "text": [
      "/home/alien/anaconda2/lib/python2.7/site-packages/ipykernel/__main__.py:95: Warning: Unknown table 'diktiScraperdb.list0102172'\n"
     ]
    },
    {
     "name": "stdout",
     "output_type": "stream",
     "text": [
      "Get Text Faculty ScrapeHTML Object\n",
      "list0102173 transfered to SQL, done\n"
     ]
    },
    {
     "name": "stderr",
     "output_type": "stream",
     "text": [
      "/home/alien/anaconda2/lib/python2.7/site-packages/ipykernel/__main__.py:95: Warning: Unknown table 'diktiScraperdb.list0102173'\n"
     ]
    },
    {
     "name": "stdout",
     "output_type": "stream",
     "text": [
      "Get Text Faculty ScrapeHTML Object\n",
      "list0102174 transfered to SQL, done\n"
     ]
    },
    {
     "name": "stderr",
     "output_type": "stream",
     "text": [
      "/home/alien/anaconda2/lib/python2.7/site-packages/ipykernel/__main__.py:95: Warning: Unknown table 'diktiScraperdb.list0102174'\n"
     ]
    },
    {
     "name": "stdout",
     "output_type": "stream",
     "text": [
      "Get Text Faculty ScrapeHTML Object\n",
      "list0102175 transfered to SQL, done\n"
     ]
    },
    {
     "name": "stderr",
     "output_type": "stream",
     "text": [
      "/home/alien/anaconda2/lib/python2.7/site-packages/ipykernel/__main__.py:95: Warning: Unknown table 'diktiScraperdb.list0102175'\n"
     ]
    },
    {
     "name": "stdout",
     "output_type": "stream",
     "text": [
      "Get Text Faculty ScrapeHTML Object\n",
      "list0102176 transfered to SQL, done\n"
     ]
    },
    {
     "name": "stderr",
     "output_type": "stream",
     "text": [
      "/home/alien/anaconda2/lib/python2.7/site-packages/ipykernel/__main__.py:95: Warning: Unknown table 'diktiScraperdb.list0102176'\n"
     ]
    },
    {
     "name": "stdout",
     "output_type": "stream",
     "text": [
      "Get Text Faculty ScrapeHTML Object\n",
      "list0102177 transfered to SQL, done\n"
     ]
    },
    {
     "name": "stderr",
     "output_type": "stream",
     "text": [
      "/home/alien/anaconda2/lib/python2.7/site-packages/ipykernel/__main__.py:95: Warning: Unknown table 'diktiScraperdb.list0102177'\n"
     ]
    },
    {
     "name": "stdout",
     "output_type": "stream",
     "text": [
      "Get Text Faculty ScrapeHTML Object\n",
      "list0102178 transfered to SQL, done\n"
     ]
    },
    {
     "name": "stderr",
     "output_type": "stream",
     "text": [
      "/home/alien/anaconda2/lib/python2.7/site-packages/ipykernel/__main__.py:95: Warning: Unknown table 'diktiScraperdb.list0102178'\n"
     ]
    },
    {
     "name": "stdout",
     "output_type": "stream",
     "text": [
      "Get Text Faculty ScrapeHTML Object\n",
      "list0102179 transfered to SQL, done\n"
     ]
    },
    {
     "name": "stderr",
     "output_type": "stream",
     "text": [
      "/home/alien/anaconda2/lib/python2.7/site-packages/ipykernel/__main__.py:95: Warning: Unknown table 'diktiScraperdb.list0102179'\n"
     ]
    },
    {
     "name": "stdout",
     "output_type": "stream",
     "text": [
      "Get Text Faculty ScrapeHTML Object\n",
      "list0102180 transfered to SQL, done\n"
     ]
    },
    {
     "name": "stderr",
     "output_type": "stream",
     "text": [
      "/home/alien/anaconda2/lib/python2.7/site-packages/ipykernel/__main__.py:95: Warning: Unknown table 'diktiScraperdb.list0102180'\n"
     ]
    },
    {
     "name": "stdout",
     "output_type": "stream",
     "text": [
      "Get Text Faculty ScrapeHTML Object\n",
      "list0102181 transfered to SQL, done\n"
     ]
    },
    {
     "name": "stderr",
     "output_type": "stream",
     "text": [
      "/home/alien/anaconda2/lib/python2.7/site-packages/ipykernel/__main__.py:95: Warning: Unknown table 'diktiScraperdb.list0102181'\n"
     ]
    },
    {
     "name": "stdout",
     "output_type": "stream",
     "text": [
      "Get Text Faculty ScrapeHTML Object\n",
      "list0102182 transfered to SQL, done\n"
     ]
    },
    {
     "name": "stderr",
     "output_type": "stream",
     "text": [
      "/home/alien/anaconda2/lib/python2.7/site-packages/ipykernel/__main__.py:95: Warning: Unknown table 'diktiScraperdb.list0102182'\n"
     ]
    },
    {
     "name": "stdout",
     "output_type": "stream",
     "text": [
      "Get Text Faculty ScrapeHTML Object\n",
      "list0102183 transfered to SQL, done\n"
     ]
    },
    {
     "name": "stderr",
     "output_type": "stream",
     "text": [
      "/home/alien/anaconda2/lib/python2.7/site-packages/ipykernel/__main__.py:95: Warning: Unknown table 'diktiScraperdb.list0102183'\n"
     ]
    },
    {
     "name": "stdout",
     "output_type": "stream",
     "text": [
      "Get Text Faculty ScrapeHTML Object\n",
      "list0102184 transfered to SQL, done\n"
     ]
    },
    {
     "name": "stderr",
     "output_type": "stream",
     "text": [
      "/home/alien/anaconda2/lib/python2.7/site-packages/ipykernel/__main__.py:95: Warning: Unknown table 'diktiScraperdb.list0102184'\n"
     ]
    },
    {
     "name": "stdout",
     "output_type": "stream",
     "text": [
      "Get Text Faculty ScrapeHTML Object\n",
      "list0102185 transfered to SQL, done\n"
     ]
    },
    {
     "name": "stderr",
     "output_type": "stream",
     "text": [
      "/home/alien/anaconda2/lib/python2.7/site-packages/ipykernel/__main__.py:95: Warning: Unknown table 'diktiScraperdb.list0102185'\n"
     ]
    },
    {
     "name": "stdout",
     "output_type": "stream",
     "text": [
      "Get Text Faculty ScrapeHTML Object\n",
      "list0102186 transfered to SQL, done\n"
     ]
    },
    {
     "name": "stderr",
     "output_type": "stream",
     "text": [
      "/home/alien/anaconda2/lib/python2.7/site-packages/ipykernel/__main__.py:95: Warning: Unknown table 'diktiScraperdb.list0102186'\n"
     ]
    },
    {
     "name": "stdout",
     "output_type": "stream",
     "text": [
      "Get Text Faculty ScrapeHTML Object\n",
      "list0102187 transfered to SQL, done\n"
     ]
    },
    {
     "name": "stderr",
     "output_type": "stream",
     "text": [
      "/home/alien/anaconda2/lib/python2.7/site-packages/ipykernel/__main__.py:95: Warning: Unknown table 'diktiScraperdb.list0102187'\n"
     ]
    },
    {
     "name": "stdout",
     "output_type": "stream",
     "text": [
      "Get Text Faculty ScrapeHTML Object\n",
      "list0102188 transfered to SQL, done\n"
     ]
    },
    {
     "name": "stderr",
     "output_type": "stream",
     "text": [
      "/home/alien/anaconda2/lib/python2.7/site-packages/ipykernel/__main__.py:95: Warning: Unknown table 'diktiScraperdb.list0102188'\n"
     ]
    },
    {
     "name": "stdout",
     "output_type": "stream",
     "text": [
      "Get Text Faculty ScrapeHTML Object\n",
      "list0102189 transfered to SQL, done\n"
     ]
    },
    {
     "name": "stderr",
     "output_type": "stream",
     "text": [
      "/home/alien/anaconda2/lib/python2.7/site-packages/ipykernel/__main__.py:95: Warning: Unknown table 'diktiScraperdb.list0102189'\n"
     ]
    },
    {
     "name": "stdout",
     "output_type": "stream",
     "text": [
      "Get Text Faculty ScrapeHTML Object\n",
      "list0102190 transfered to SQL, done\n"
     ]
    },
    {
     "name": "stderr",
     "output_type": "stream",
     "text": [
      "/home/alien/anaconda2/lib/python2.7/site-packages/ipykernel/__main__.py:95: Warning: Unknown table 'diktiScraperdb.list0102190'\n"
     ]
    },
    {
     "name": "stdout",
     "output_type": "stream",
     "text": [
      "Get Text Faculty ScrapeHTML Object\n",
      "list0102191 transfered to SQL, done\n"
     ]
    },
    {
     "name": "stderr",
     "output_type": "stream",
     "text": [
      "/home/alien/anaconda2/lib/python2.7/site-packages/ipykernel/__main__.py:95: Warning: Unknown table 'diktiScraperdb.list0102191'\n"
     ]
    },
    {
     "name": "stdout",
     "output_type": "stream",
     "text": [
      "Get Text Faculty ScrapeHTML Object\n",
      "list0102192 transfered to SQL, done\n"
     ]
    },
    {
     "name": "stderr",
     "output_type": "stream",
     "text": [
      "/home/alien/anaconda2/lib/python2.7/site-packages/ipykernel/__main__.py:95: Warning: Unknown table 'diktiScraperdb.list0102192'\n"
     ]
    },
    {
     "name": "stdout",
     "output_type": "stream",
     "text": [
      "Get Text Faculty ScrapeHTML Object\n",
      "list0102193 transfered to SQL, done\n"
     ]
    },
    {
     "name": "stderr",
     "output_type": "stream",
     "text": [
      "/home/alien/anaconda2/lib/python2.7/site-packages/ipykernel/__main__.py:95: Warning: Unknown table 'diktiScraperdb.list0102193'\n"
     ]
    },
    {
     "name": "stdout",
     "output_type": "stream",
     "text": [
      "Get Text Faculty ScrapeHTML Object\n",
      "list0102194 transfered to SQL, done\n"
     ]
    },
    {
     "name": "stderr",
     "output_type": "stream",
     "text": [
      "/home/alien/anaconda2/lib/python2.7/site-packages/ipykernel/__main__.py:95: Warning: Unknown table 'diktiScraperdb.list0102194'\n"
     ]
    },
    {
     "name": "stdout",
     "output_type": "stream",
     "text": [
      "Get Text Faculty ScrapeHTML Object\n",
      "list0102195 transfered to SQL, done\n"
     ]
    },
    {
     "name": "stderr",
     "output_type": "stream",
     "text": [
      "/home/alien/anaconda2/lib/python2.7/site-packages/ipykernel/__main__.py:95: Warning: Unknown table 'diktiScraperdb.list0102195'\n"
     ]
    },
    {
     "name": "stdout",
     "output_type": "stream",
     "text": [
      "Get Text Faculty ScrapeHTML Object\n",
      "list0102196 transfered to SQL, done\n"
     ]
    },
    {
     "name": "stderr",
     "output_type": "stream",
     "text": [
      "/home/alien/anaconda2/lib/python2.7/site-packages/ipykernel/__main__.py:95: Warning: Unknown table 'diktiScraperdb.list0102196'\n"
     ]
    },
    {
     "name": "stdout",
     "output_type": "stream",
     "text": [
      "Get Text Faculty ScrapeHTML Object\n",
      "list0102197 transfered to SQL, done\n"
     ]
    },
    {
     "name": "stderr",
     "output_type": "stream",
     "text": [
      "/home/alien/anaconda2/lib/python2.7/site-packages/ipykernel/__main__.py:95: Warning: Unknown table 'diktiScraperdb.list0102197'\n"
     ]
    },
    {
     "name": "stdout",
     "output_type": "stream",
     "text": [
      "Get Text Faculty ScrapeHTML Object\n",
      "list0102198 transfered to SQL, done\n"
     ]
    },
    {
     "name": "stderr",
     "output_type": "stream",
     "text": [
      "/home/alien/anaconda2/lib/python2.7/site-packages/ipykernel/__main__.py:95: Warning: Unknown table 'diktiScraperdb.list0102198'\n"
     ]
    },
    {
     "name": "stdout",
     "output_type": "stream",
     "text": [
      "Get Text Faculty ScrapeHTML Object\n",
      "list0102199 transfered to SQL, done\n"
     ]
    },
    {
     "name": "stderr",
     "output_type": "stream",
     "text": [
      "/home/alien/anaconda2/lib/python2.7/site-packages/ipykernel/__main__.py:95: Warning: Unknown table 'diktiScraperdb.list0102199'\n"
     ]
    },
    {
     "name": "stdout",
     "output_type": "stream",
     "text": [
      "Get Text Faculty ScrapeHTML Object\n",
      "list0102200 transfered to SQL, done\n"
     ]
    },
    {
     "name": "stderr",
     "output_type": "stream",
     "text": [
      "/home/alien/anaconda2/lib/python2.7/site-packages/ipykernel/__main__.py:95: Warning: Unknown table 'diktiScraperdb.list0102200'\n"
     ]
    },
    {
     "name": "stdout",
     "output_type": "stream",
     "text": [
      "Get Text Faculty ScrapeHTML Object\n",
      "list0102201 transfered to SQL, done\n"
     ]
    },
    {
     "name": "stderr",
     "output_type": "stream",
     "text": [
      "/home/alien/anaconda2/lib/python2.7/site-packages/ipykernel/__main__.py:95: Warning: Unknown table 'diktiScraperdb.list0102201'\n"
     ]
    },
    {
     "name": "stdout",
     "output_type": "stream",
     "text": [
      "Get Text Faculty ScrapeHTML Object\n",
      "list0102202 transfered to SQL, done\n"
     ]
    },
    {
     "name": "stderr",
     "output_type": "stream",
     "text": [
      "/home/alien/anaconda2/lib/python2.7/site-packages/ipykernel/__main__.py:95: Warning: Unknown table 'diktiScraperdb.list0102202'\n"
     ]
    },
    {
     "name": "stdout",
     "output_type": "stream",
     "text": [
      "Get Text Faculty ScrapeHTML Object\n",
      "list0102203 transfered to SQL, done\n"
     ]
    },
    {
     "name": "stderr",
     "output_type": "stream",
     "text": [
      "/home/alien/anaconda2/lib/python2.7/site-packages/ipykernel/__main__.py:95: Warning: Unknown table 'diktiScraperdb.list0102203'\n"
     ]
    },
    {
     "name": "stdout",
     "output_type": "stream",
     "text": [
      "Get Text Faculty ScrapeHTML Object\n",
      "list0102204 transfered to SQL, done\n"
     ]
    },
    {
     "name": "stderr",
     "output_type": "stream",
     "text": [
      "/home/alien/anaconda2/lib/python2.7/site-packages/ipykernel/__main__.py:95: Warning: Unknown table 'diktiScraperdb.list0102204'\n"
     ]
    },
    {
     "name": "stdout",
     "output_type": "stream",
     "text": [
      "Get Text Faculty ScrapeHTML Object\n",
      "list0102205 transfered to SQL, done\n"
     ]
    },
    {
     "name": "stderr",
     "output_type": "stream",
     "text": [
      "/home/alien/anaconda2/lib/python2.7/site-packages/ipykernel/__main__.py:95: Warning: Unknown table 'diktiScraperdb.list0102205'\n"
     ]
    },
    {
     "name": "stdout",
     "output_type": "stream",
     "text": [
      "Get Text Faculty ScrapeHTML Object\n",
      "list0102206 transfered to SQL, done\n"
     ]
    },
    {
     "name": "stderr",
     "output_type": "stream",
     "text": [
      "/home/alien/anaconda2/lib/python2.7/site-packages/ipykernel/__main__.py:95: Warning: Unknown table 'diktiScraperdb.list0102206'\n"
     ]
    },
    {
     "name": "stdout",
     "output_type": "stream",
     "text": [
      "Get Text Faculty ScrapeHTML Object\n",
      "list0102207 transfered to SQL, done\n"
     ]
    },
    {
     "name": "stderr",
     "output_type": "stream",
     "text": [
      "/home/alien/anaconda2/lib/python2.7/site-packages/ipykernel/__main__.py:95: Warning: Unknown table 'diktiScraperdb.list0102207'\n"
     ]
    },
    {
     "name": "stdout",
     "output_type": "stream",
     "text": [
      "Get Text Faculty ScrapeHTML Object\n",
      "list0102208 transfered to SQL, done\n"
     ]
    },
    {
     "name": "stderr",
     "output_type": "stream",
     "text": [
      "/home/alien/anaconda2/lib/python2.7/site-packages/ipykernel/__main__.py:95: Warning: Unknown table 'diktiScraperdb.list0102208'\n"
     ]
    },
    {
     "name": "stdout",
     "output_type": "stream",
     "text": [
      "Get Text Faculty ScrapeHTML Object\n",
      "list0102209 transfered to SQL, done\n"
     ]
    },
    {
     "name": "stderr",
     "output_type": "stream",
     "text": [
      "/home/alien/anaconda2/lib/python2.7/site-packages/ipykernel/__main__.py:95: Warning: Unknown table 'diktiScraperdb.list0102209'\n"
     ]
    },
    {
     "name": "stdout",
     "output_type": "stream",
     "text": [
      "Get Text Faculty ScrapeHTML Object\n",
      "list0102210 transfered to SQL, done\n"
     ]
    },
    {
     "name": "stderr",
     "output_type": "stream",
     "text": [
      "/home/alien/anaconda2/lib/python2.7/site-packages/ipykernel/__main__.py:95: Warning: Unknown table 'diktiScraperdb.list0102210'\n"
     ]
    },
    {
     "name": "stdout",
     "output_type": "stream",
     "text": [
      "Get Text Faculty ScrapeHTML Object\n",
      "list0102211 transfered to SQL, done\n"
     ]
    },
    {
     "name": "stderr",
     "output_type": "stream",
     "text": [
      "/home/alien/anaconda2/lib/python2.7/site-packages/ipykernel/__main__.py:95: Warning: Unknown table 'diktiScraperdb.list0102211'\n"
     ]
    },
    {
     "name": "stdout",
     "output_type": "stream",
     "text": [
      "Get Text Faculty ScrapeHTML Object\n",
      "list0102212 transfered to SQL, done\n"
     ]
    },
    {
     "name": "stderr",
     "output_type": "stream",
     "text": [
      "/home/alien/anaconda2/lib/python2.7/site-packages/ipykernel/__main__.py:95: Warning: Unknown table 'diktiScraperdb.list0102212'\n"
     ]
    },
    {
     "name": "stdout",
     "output_type": "stream",
     "text": [
      "Get Text Faculty ScrapeHTML Object\n",
      "list0102213 transfered to SQL, done\n"
     ]
    },
    {
     "name": "stderr",
     "output_type": "stream",
     "text": [
      "/home/alien/anaconda2/lib/python2.7/site-packages/ipykernel/__main__.py:95: Warning: Unknown table 'diktiScraperdb.list0102213'\n"
     ]
    },
    {
     "name": "stdout",
     "output_type": "stream",
     "text": [
      "Get Text Faculty ScrapeHTML Object\n",
      "list0102214 transfered to SQL, done\n"
     ]
    },
    {
     "name": "stderr",
     "output_type": "stream",
     "text": [
      "/home/alien/anaconda2/lib/python2.7/site-packages/ipykernel/__main__.py:95: Warning: Unknown table 'diktiScraperdb.list0102214'\n"
     ]
    },
    {
     "name": "stdout",
     "output_type": "stream",
     "text": [
      "Get Text Faculty ScrapeHTML Object\n",
      "list0102215 transfered to SQL, done\n"
     ]
    },
    {
     "name": "stderr",
     "output_type": "stream",
     "text": [
      "/home/alien/anaconda2/lib/python2.7/site-packages/ipykernel/__main__.py:95: Warning: Unknown table 'diktiScraperdb.list0102215'\n"
     ]
    },
    {
     "name": "stdout",
     "output_type": "stream",
     "text": [
      "Get Text Faculty ScrapeHTML Object\n",
      "list0102216 transfered to SQL, done\n"
     ]
    },
    {
     "name": "stderr",
     "output_type": "stream",
     "text": [
      "/home/alien/anaconda2/lib/python2.7/site-packages/ipykernel/__main__.py:95: Warning: Unknown table 'diktiScraperdb.list0102216'\n"
     ]
    },
    {
     "name": "stdout",
     "output_type": "stream",
     "text": [
      "Get Text Faculty ScrapeHTML Object\n",
      "list0102217 transfered to SQL, done\n"
     ]
    },
    {
     "name": "stderr",
     "output_type": "stream",
     "text": [
      "/home/alien/anaconda2/lib/python2.7/site-packages/ipykernel/__main__.py:95: Warning: Unknown table 'diktiScraperdb.list0102217'\n"
     ]
    },
    {
     "name": "stdout",
     "output_type": "stream",
     "text": [
      "Get Text Faculty ScrapeHTML Object\n",
      "list0102218 transfered to SQL, done\n"
     ]
    },
    {
     "name": "stderr",
     "output_type": "stream",
     "text": [
      "/home/alien/anaconda2/lib/python2.7/site-packages/ipykernel/__main__.py:95: Warning: Unknown table 'diktiScraperdb.list0102218'\n"
     ]
    },
    {
     "name": "stdout",
     "output_type": "stream",
     "text": [
      "Get Text Faculty ScrapeHTML Object\n",
      "list0102219 transfered to SQL, done\n"
     ]
    },
    {
     "name": "stderr",
     "output_type": "stream",
     "text": [
      "/home/alien/anaconda2/lib/python2.7/site-packages/ipykernel/__main__.py:95: Warning: Unknown table 'diktiScraperdb.list0102219'\n"
     ]
    },
    {
     "name": "stdout",
     "output_type": "stream",
     "text": [
      "Get Text Faculty ScrapeHTML Object\n",
      "list0102220 transfered to SQL, done\n"
     ]
    },
    {
     "name": "stderr",
     "output_type": "stream",
     "text": [
      "/home/alien/anaconda2/lib/python2.7/site-packages/ipykernel/__main__.py:95: Warning: Unknown table 'diktiScraperdb.list0102220'\n"
     ]
    },
    {
     "name": "stdout",
     "output_type": "stream",
     "text": [
      "Get Text Faculty ScrapeHTML Object\n",
      "list0102221 transfered to SQL, done\n"
     ]
    },
    {
     "name": "stderr",
     "output_type": "stream",
     "text": [
      "/home/alien/anaconda2/lib/python2.7/site-packages/ipykernel/__main__.py:95: Warning: Unknown table 'diktiScraperdb.list0102221'\n"
     ]
    },
    {
     "name": "stdout",
     "output_type": "stream",
     "text": [
      "Get Text Faculty ScrapeHTML Object\n",
      "list0102222 transfered to SQL, done\n"
     ]
    },
    {
     "name": "stderr",
     "output_type": "stream",
     "text": [
      "/home/alien/anaconda2/lib/python2.7/site-packages/ipykernel/__main__.py:95: Warning: Unknown table 'diktiScraperdb.list0102222'\n"
     ]
    },
    {
     "name": "stdout",
     "output_type": "stream",
     "text": [
      "Get Text Faculty ScrapeHTML Object\n",
      "list0102223 transfered to SQL, done\n"
     ]
    },
    {
     "name": "stderr",
     "output_type": "stream",
     "text": [
      "/home/alien/anaconda2/lib/python2.7/site-packages/ipykernel/__main__.py:95: Warning: Unknown table 'diktiScraperdb.list0102223'\n"
     ]
    },
    {
     "name": "stdout",
     "output_type": "stream",
     "text": [
      "Get Text Faculty ScrapeHTML Object\n",
      "list0102224 transfered to SQL, done\n"
     ]
    },
    {
     "name": "stderr",
     "output_type": "stream",
     "text": [
      "/home/alien/anaconda2/lib/python2.7/site-packages/ipykernel/__main__.py:95: Warning: Unknown table 'diktiScraperdb.list0102224'\n"
     ]
    },
    {
     "name": "stdout",
     "output_type": "stream",
     "text": [
      "Get Text Faculty ScrapeHTML Object\n",
      "list0102225 transfered to SQL, done\n"
     ]
    },
    {
     "name": "stderr",
     "output_type": "stream",
     "text": [
      "/home/alien/anaconda2/lib/python2.7/site-packages/ipykernel/__main__.py:95: Warning: Unknown table 'diktiScraperdb.list0102225'\n"
     ]
    },
    {
     "name": "stdout",
     "output_type": "stream",
     "text": [
      "Get Text Faculty ScrapeHTML Object\n",
      "list0102226 transfered to SQL, done\n"
     ]
    },
    {
     "name": "stderr",
     "output_type": "stream",
     "text": [
      "/home/alien/anaconda2/lib/python2.7/site-packages/ipykernel/__main__.py:95: Warning: Unknown table 'diktiScraperdb.list0102226'\n"
     ]
    },
    {
     "name": "stdout",
     "output_type": "stream",
     "text": [
      "Get Text Faculty ScrapeHTML Object\n",
      "list0102227 transfered to SQL, done\n"
     ]
    },
    {
     "name": "stderr",
     "output_type": "stream",
     "text": [
      "/home/alien/anaconda2/lib/python2.7/site-packages/ipykernel/__main__.py:95: Warning: Unknown table 'diktiScraperdb.list0102227'\n"
     ]
    },
    {
     "name": "stdout",
     "output_type": "stream",
     "text": [
      "Get Text Faculty ScrapeHTML Object\n",
      "list0102228 transfered to SQL, done\n"
     ]
    },
    {
     "name": "stderr",
     "output_type": "stream",
     "text": [
      "/home/alien/anaconda2/lib/python2.7/site-packages/ipykernel/__main__.py:95: Warning: Unknown table 'diktiScraperdb.list0102228'\n"
     ]
    },
    {
     "name": "stdout",
     "output_type": "stream",
     "text": [
      "Get Text Faculty ScrapeHTML Object\n",
      "list0102229 transfered to SQL, done\n"
     ]
    },
    {
     "name": "stderr",
     "output_type": "stream",
     "text": [
      "/home/alien/anaconda2/lib/python2.7/site-packages/ipykernel/__main__.py:95: Warning: Unknown table 'diktiScraperdb.list0102229'\n"
     ]
    },
    {
     "name": "stdout",
     "output_type": "stream",
     "text": [
      "Get Text Faculty ScrapeHTML Object\n",
      "list0102230 transfered to SQL, done\n"
     ]
    },
    {
     "name": "stderr",
     "output_type": "stream",
     "text": [
      "/home/alien/anaconda2/lib/python2.7/site-packages/ipykernel/__main__.py:95: Warning: Unknown table 'diktiScraperdb.list0102230'\n"
     ]
    },
    {
     "name": "stdout",
     "output_type": "stream",
     "text": [
      "Get Text Faculty ScrapeHTML Object\n",
      "list0102231 transfered to SQL, done\n"
     ]
    },
    {
     "name": "stderr",
     "output_type": "stream",
     "text": [
      "/home/alien/anaconda2/lib/python2.7/site-packages/ipykernel/__main__.py:95: Warning: Unknown table 'diktiScraperdb.list0102231'\n"
     ]
    },
    {
     "name": "stdout",
     "output_type": "stream",
     "text": [
      "Get Text Faculty ScrapeHTML Object\n",
      "list0102232 transfered to SQL, done\n"
     ]
    },
    {
     "name": "stderr",
     "output_type": "stream",
     "text": [
      "/home/alien/anaconda2/lib/python2.7/site-packages/ipykernel/__main__.py:95: Warning: Unknown table 'diktiScraperdb.list0102232'\n"
     ]
    },
    {
     "name": "stdout",
     "output_type": "stream",
     "text": [
      "Get Text Faculty ScrapeHTML Object\n",
      "list0102233 transfered to SQL, done\n"
     ]
    },
    {
     "name": "stderr",
     "output_type": "stream",
     "text": [
      "/home/alien/anaconda2/lib/python2.7/site-packages/ipykernel/__main__.py:95: Warning: Unknown table 'diktiScraperdb.list0102233'\n"
     ]
    },
    {
     "name": "stdout",
     "output_type": "stream",
     "text": [
      "Get Text Faculty ScrapeHTML Object\n",
      "list0102234 transfered to SQL, done\n"
     ]
    },
    {
     "name": "stderr",
     "output_type": "stream",
     "text": [
      "/home/alien/anaconda2/lib/python2.7/site-packages/ipykernel/__main__.py:95: Warning: Unknown table 'diktiScraperdb.list0102234'\n"
     ]
    },
    {
     "name": "stdout",
     "output_type": "stream",
     "text": [
      "Get Text Faculty ScrapeHTML Object\n",
      "list0102235 transfered to SQL, done\n"
     ]
    },
    {
     "name": "stderr",
     "output_type": "stream",
     "text": [
      "/home/alien/anaconda2/lib/python2.7/site-packages/ipykernel/__main__.py:95: Warning: Unknown table 'diktiScraperdb.list0102235'\n"
     ]
    },
    {
     "name": "stdout",
     "output_type": "stream",
     "text": [
      "Get Text Faculty ScrapeHTML Object\n",
      "list0102236 transfered to SQL, done\n"
     ]
    },
    {
     "name": "stderr",
     "output_type": "stream",
     "text": [
      "/home/alien/anaconda2/lib/python2.7/site-packages/ipykernel/__main__.py:95: Warning: Unknown table 'diktiScraperdb.list0102236'\n"
     ]
    },
    {
     "name": "stdout",
     "output_type": "stream",
     "text": [
      "Get Text Faculty ScrapeHTML Object\n",
      "list0102237 transfered to SQL, done\n"
     ]
    },
    {
     "name": "stderr",
     "output_type": "stream",
     "text": [
      "/home/alien/anaconda2/lib/python2.7/site-packages/ipykernel/__main__.py:95: Warning: Unknown table 'diktiScraperdb.list0102237'\n"
     ]
    },
    {
     "name": "stdout",
     "output_type": "stream",
     "text": [
      "Get Text Faculty ScrapeHTML Object\n",
      "list0102238 transfered to SQL, done\n"
     ]
    },
    {
     "name": "stderr",
     "output_type": "stream",
     "text": [
      "/home/alien/anaconda2/lib/python2.7/site-packages/ipykernel/__main__.py:95: Warning: Unknown table 'diktiScraperdb.list0102238'\n"
     ]
    },
    {
     "name": "stdout",
     "output_type": "stream",
     "text": [
      "Get Text Faculty ScrapeHTML Object\n",
      "list0102239 transfered to SQL, done\n"
     ]
    },
    {
     "name": "stderr",
     "output_type": "stream",
     "text": [
      "/home/alien/anaconda2/lib/python2.7/site-packages/ipykernel/__main__.py:95: Warning: Unknown table 'diktiScraperdb.list0102239'\n"
     ]
    },
    {
     "name": "stdout",
     "output_type": "stream",
     "text": [
      "Get Text Faculty ScrapeHTML Object\n",
      "list0102240 transfered to SQL, done\n"
     ]
    },
    {
     "name": "stderr",
     "output_type": "stream",
     "text": [
      "/home/alien/anaconda2/lib/python2.7/site-packages/ipykernel/__main__.py:95: Warning: Unknown table 'diktiScraperdb.list0102240'\n"
     ]
    },
    {
     "name": "stdout",
     "output_type": "stream",
     "text": [
      "Get Text Faculty ScrapeHTML Object\n",
      "list0102241 transfered to SQL, done\n"
     ]
    },
    {
     "name": "stderr",
     "output_type": "stream",
     "text": [
      "/home/alien/anaconda2/lib/python2.7/site-packages/ipykernel/__main__.py:95: Warning: Unknown table 'diktiScraperdb.list0102241'\n"
     ]
    },
    {
     "name": "stdout",
     "output_type": "stream",
     "text": [
      "Get Text Faculty ScrapeHTML Object\n",
      "list0102242 transfered to SQL, done\n"
     ]
    },
    {
     "name": "stderr",
     "output_type": "stream",
     "text": [
      "/home/alien/anaconda2/lib/python2.7/site-packages/ipykernel/__main__.py:95: Warning: Unknown table 'diktiScraperdb.list0102242'\n"
     ]
    },
    {
     "name": "stdout",
     "output_type": "stream",
     "text": [
      "Get Text Faculty ScrapeHTML Object\n",
      "list0102243 transfered to SQL, done\n"
     ]
    },
    {
     "name": "stderr",
     "output_type": "stream",
     "text": [
      "/home/alien/anaconda2/lib/python2.7/site-packages/ipykernel/__main__.py:95: Warning: Unknown table 'diktiScraperdb.list0102243'\n"
     ]
    },
    {
     "name": "stdout",
     "output_type": "stream",
     "text": [
      "Get Text Faculty ScrapeHTML Object\n",
      "list0102244 transfered to SQL, done\n"
     ]
    },
    {
     "name": "stderr",
     "output_type": "stream",
     "text": [
      "/home/alien/anaconda2/lib/python2.7/site-packages/ipykernel/__main__.py:95: Warning: Unknown table 'diktiScraperdb.list0102244'\n"
     ]
    },
    {
     "name": "stdout",
     "output_type": "stream",
     "text": [
      "Get Text Faculty ScrapeHTML Object\n",
      "list0102245 transfered to SQL, done\n"
     ]
    },
    {
     "name": "stderr",
     "output_type": "stream",
     "text": [
      "/home/alien/anaconda2/lib/python2.7/site-packages/ipykernel/__main__.py:95: Warning: Unknown table 'diktiScraperdb.list0102245'\n"
     ]
    },
    {
     "name": "stdout",
     "output_type": "stream",
     "text": [
      "Get Text Faculty ScrapeHTML Object\n",
      "list0102246 transfered to SQL, done\n"
     ]
    },
    {
     "name": "stderr",
     "output_type": "stream",
     "text": [
      "/home/alien/anaconda2/lib/python2.7/site-packages/ipykernel/__main__.py:95: Warning: Unknown table 'diktiScraperdb.list0102246'\n"
     ]
    },
    {
     "name": "stdout",
     "output_type": "stream",
     "text": [
      "Get Text Faculty ScrapeHTML Object\n",
      "list0102247 transfered to SQL, done\n"
     ]
    },
    {
     "name": "stderr",
     "output_type": "stream",
     "text": [
      "/home/alien/anaconda2/lib/python2.7/site-packages/ipykernel/__main__.py:95: Warning: Unknown table 'diktiScraperdb.list0102247'\n"
     ]
    },
    {
     "name": "stdout",
     "output_type": "stream",
     "text": [
      "Get Text Faculty ScrapeHTML Object\n",
      "list0102248 transfered to SQL, done\n"
     ]
    },
    {
     "name": "stderr",
     "output_type": "stream",
     "text": [
      "/home/alien/anaconda2/lib/python2.7/site-packages/ipykernel/__main__.py:95: Warning: Unknown table 'diktiScraperdb.list0102248'\n"
     ]
    },
    {
     "name": "stdout",
     "output_type": "stream",
     "text": [
      "Get Text Faculty ScrapeHTML Object\n",
      "list0102249 transfered to SQL, done\n"
     ]
    },
    {
     "name": "stderr",
     "output_type": "stream",
     "text": [
      "/home/alien/anaconda2/lib/python2.7/site-packages/ipykernel/__main__.py:95: Warning: Unknown table 'diktiScraperdb.list0102249'\n"
     ]
    },
    {
     "name": "stdout",
     "output_type": "stream",
     "text": [
      "Get Text Faculty ScrapeHTML Object\n",
      "list0102250 transfered to SQL, done\n"
     ]
    },
    {
     "name": "stderr",
     "output_type": "stream",
     "text": [
      "/home/alien/anaconda2/lib/python2.7/site-packages/ipykernel/__main__.py:95: Warning: Unknown table 'diktiScraperdb.list0102250'\n"
     ]
    },
    {
     "name": "stdout",
     "output_type": "stream",
     "text": [
      "Get Text Faculty ScrapeHTML Object\n",
      "list0102251 transfered to SQL, done\n"
     ]
    },
    {
     "name": "stderr",
     "output_type": "stream",
     "text": [
      "/home/alien/anaconda2/lib/python2.7/site-packages/ipykernel/__main__.py:95: Warning: Unknown table 'diktiScraperdb.list0102251'\n"
     ]
    },
    {
     "name": "stdout",
     "output_type": "stream",
     "text": [
      "Get Text Faculty ScrapeHTML Object\n",
      "list0102252 transfered to SQL, done\n"
     ]
    },
    {
     "name": "stderr",
     "output_type": "stream",
     "text": [
      "/home/alien/anaconda2/lib/python2.7/site-packages/ipykernel/__main__.py:95: Warning: Unknown table 'diktiScraperdb.list0102252'\n"
     ]
    },
    {
     "name": "stdout",
     "output_type": "stream",
     "text": [
      "Get Text Faculty ScrapeHTML Object\n",
      "list0102253 transfered to SQL, done\n"
     ]
    },
    {
     "name": "stderr",
     "output_type": "stream",
     "text": [
      "/home/alien/anaconda2/lib/python2.7/site-packages/ipykernel/__main__.py:95: Warning: Unknown table 'diktiScraperdb.list0102253'\n"
     ]
    },
    {
     "name": "stdout",
     "output_type": "stream",
     "text": [
      "Get Text Faculty ScrapeHTML Object\n",
      "list0102254 transfered to SQL, done\n"
     ]
    },
    {
     "name": "stderr",
     "output_type": "stream",
     "text": [
      "/home/alien/anaconda2/lib/python2.7/site-packages/ipykernel/__main__.py:95: Warning: Unknown table 'diktiScraperdb.list0102254'\n"
     ]
    },
    {
     "name": "stdout",
     "output_type": "stream",
     "text": [
      "Get Text Faculty ScrapeHTML Object\n",
      "list0102255 transfered to SQL, done\n"
     ]
    },
    {
     "name": "stderr",
     "output_type": "stream",
     "text": [
      "/home/alien/anaconda2/lib/python2.7/site-packages/ipykernel/__main__.py:95: Warning: Unknown table 'diktiScraperdb.list0102255'\n"
     ]
    },
    {
     "name": "stdout",
     "output_type": "stream",
     "text": [
      "Get Text Faculty ScrapeHTML Object\n",
      "list0102256 transfered to SQL, done\n"
     ]
    },
    {
     "name": "stderr",
     "output_type": "stream",
     "text": [
      "/home/alien/anaconda2/lib/python2.7/site-packages/ipykernel/__main__.py:95: Warning: Unknown table 'diktiScraperdb.list0102256'\n"
     ]
    },
    {
     "name": "stdout",
     "output_type": "stream",
     "text": [
      "Get Text Faculty ScrapeHTML Object\n",
      "list0102257 transfered to SQL, done\n"
     ]
    },
    {
     "name": "stderr",
     "output_type": "stream",
     "text": [
      "/home/alien/anaconda2/lib/python2.7/site-packages/ipykernel/__main__.py:95: Warning: Unknown table 'diktiScraperdb.list0102257'\n"
     ]
    },
    {
     "name": "stdout",
     "output_type": "stream",
     "text": [
      "Get Text Faculty ScrapeHTML Object\n",
      "list0102258 transfered to SQL, done\n"
     ]
    },
    {
     "name": "stderr",
     "output_type": "stream",
     "text": [
      "/home/alien/anaconda2/lib/python2.7/site-packages/ipykernel/__main__.py:95: Warning: Unknown table 'diktiScraperdb.list0102258'\n"
     ]
    },
    {
     "name": "stdout",
     "output_type": "stream",
     "text": [
      "Get Text Faculty ScrapeHTML Object\n",
      "list0102259 transfered to SQL, done\n"
     ]
    },
    {
     "name": "stderr",
     "output_type": "stream",
     "text": [
      "/home/alien/anaconda2/lib/python2.7/site-packages/ipykernel/__main__.py:95: Warning: Unknown table 'diktiScraperdb.list0102259'\n"
     ]
    },
    {
     "name": "stdout",
     "output_type": "stream",
     "text": [
      "Get Text Faculty ScrapeHTML Object\n",
      "list0102260 transfered to SQL, done\n"
     ]
    },
    {
     "name": "stderr",
     "output_type": "stream",
     "text": [
      "/home/alien/anaconda2/lib/python2.7/site-packages/ipykernel/__main__.py:95: Warning: Unknown table 'diktiScraperdb.list0102260'\n"
     ]
    },
    {
     "name": "stdout",
     "output_type": "stream",
     "text": [
      "Get Text Faculty ScrapeHTML Object\n",
      "list0102261 transfered to SQL, done\n"
     ]
    },
    {
     "name": "stderr",
     "output_type": "stream",
     "text": [
      "/home/alien/anaconda2/lib/python2.7/site-packages/ipykernel/__main__.py:95: Warning: Unknown table 'diktiScraperdb.list0102261'\n"
     ]
    },
    {
     "name": "stdout",
     "output_type": "stream",
     "text": [
      "Get Text Faculty ScrapeHTML Object\n",
      "list0102262 transfered to SQL, done\n"
     ]
    },
    {
     "name": "stderr",
     "output_type": "stream",
     "text": [
      "/home/alien/anaconda2/lib/python2.7/site-packages/ipykernel/__main__.py:95: Warning: Unknown table 'diktiScraperdb.list0102262'\n"
     ]
    },
    {
     "name": "stdout",
     "output_type": "stream",
     "text": [
      "Get Text Faculty ScrapeHTML Object\n",
      "list0102263 transfered to SQL, done\n"
     ]
    },
    {
     "name": "stderr",
     "output_type": "stream",
     "text": [
      "/home/alien/anaconda2/lib/python2.7/site-packages/ipykernel/__main__.py:95: Warning: Unknown table 'diktiScraperdb.list0102263'\n"
     ]
    },
    {
     "name": "stdout",
     "output_type": "stream",
     "text": [
      "Get Text Faculty ScrapeHTML Object\n",
      "list0102264 transfered to SQL, done\n"
     ]
    },
    {
     "name": "stderr",
     "output_type": "stream",
     "text": [
      "/home/alien/anaconda2/lib/python2.7/site-packages/ipykernel/__main__.py:95: Warning: Unknown table 'diktiScraperdb.list0102264'\n"
     ]
    },
    {
     "name": "stdout",
     "output_type": "stream",
     "text": [
      "Get Text Faculty ScrapeHTML Object\n",
      "list0102265 transfered to SQL, done\n"
     ]
    },
    {
     "name": "stderr",
     "output_type": "stream",
     "text": [
      "/home/alien/anaconda2/lib/python2.7/site-packages/ipykernel/__main__.py:95: Warning: Unknown table 'diktiScraperdb.list0102265'\n"
     ]
    },
    {
     "name": "stdout",
     "output_type": "stream",
     "text": [
      "Get DataLink Scrape HTML Object\n",
      "list0103 transfered to SQL, done\n"
     ]
    },
    {
     "name": "stderr",
     "output_type": "stream",
     "text": [
      "/home/alien/anaconda2/lib/python2.7/site-packages/ipykernel/__main__.py:69: Warning: Unknown table 'diktiScraperdb.list0103'\n"
     ]
    },
    {
     "name": "stdout",
     "output_type": "stream",
     "text": [
      "Data load from SQL list0103\n",
      "Get Text Faculty ScrapeHTML Object\n"
     ]
    },
    {
     "name": "stderr",
     "output_type": "stream",
     "text": [
      "/home/alien/anaconda2/lib/python2.7/site-packages/ipykernel/__main__.py:95: Warning: Unknown table 'diktiScraperdb.list010300'\n"
     ]
    },
    {
     "name": "stdout",
     "output_type": "stream",
     "text": [
      "list010300 transfered to SQL, done\n",
      "Get Text Faculty ScrapeHTML Object\n",
      "list010301 transfered to SQL, done\n"
     ]
    },
    {
     "name": "stderr",
     "output_type": "stream",
     "text": [
      "/home/alien/anaconda2/lib/python2.7/site-packages/ipykernel/__main__.py:95: Warning: Unknown table 'diktiScraperdb.list010301'\n"
     ]
    },
    {
     "name": "stdout",
     "output_type": "stream",
     "text": [
      "Get Text Faculty ScrapeHTML Object\n",
      "list010302 transfered to SQL, done\n"
     ]
    },
    {
     "name": "stderr",
     "output_type": "stream",
     "text": [
      "/home/alien/anaconda2/lib/python2.7/site-packages/ipykernel/__main__.py:95: Warning: Unknown table 'diktiScraperdb.list010302'\n"
     ]
    },
    {
     "name": "stdout",
     "output_type": "stream",
     "text": [
      "Get Text Faculty ScrapeHTML Object\n",
      "list010303 transfered to SQL, done\n"
     ]
    },
    {
     "name": "stderr",
     "output_type": "stream",
     "text": [
      "/home/alien/anaconda2/lib/python2.7/site-packages/ipykernel/__main__.py:95: Warning: Unknown table 'diktiScraperdb.list010303'\n"
     ]
    },
    {
     "name": "stdout",
     "output_type": "stream",
     "text": [
      "Get Text Faculty ScrapeHTML Object\n",
      "list010304 transfered to SQL, done\n"
     ]
    },
    {
     "name": "stderr",
     "output_type": "stream",
     "text": [
      "/home/alien/anaconda2/lib/python2.7/site-packages/ipykernel/__main__.py:95: Warning: Unknown table 'diktiScraperdb.list010304'\n"
     ]
    },
    {
     "name": "stdout",
     "output_type": "stream",
     "text": [
      "Get Text Faculty ScrapeHTML Object\n",
      "list010305 transfered to SQL, done\n"
     ]
    },
    {
     "name": "stderr",
     "output_type": "stream",
     "text": [
      "/home/alien/anaconda2/lib/python2.7/site-packages/ipykernel/__main__.py:95: Warning: Unknown table 'diktiScraperdb.list010305'\n"
     ]
    },
    {
     "name": "stdout",
     "output_type": "stream",
     "text": [
      "Get Text Faculty ScrapeHTML Object\n",
      "list010306 transfered to SQL, done\n"
     ]
    },
    {
     "name": "stderr",
     "output_type": "stream",
     "text": [
      "/home/alien/anaconda2/lib/python2.7/site-packages/ipykernel/__main__.py:95: Warning: Unknown table 'diktiScraperdb.list010306'\n"
     ]
    },
    {
     "name": "stdout",
     "output_type": "stream",
     "text": [
      "Get Text Faculty ScrapeHTML Object\n",
      "list010307 transfered to SQL, done\n"
     ]
    },
    {
     "name": "stderr",
     "output_type": "stream",
     "text": [
      "/home/alien/anaconda2/lib/python2.7/site-packages/ipykernel/__main__.py:95: Warning: Unknown table 'diktiScraperdb.list010307'\n"
     ]
    },
    {
     "name": "stdout",
     "output_type": "stream",
     "text": [
      "Get Text Faculty ScrapeHTML Object\n",
      "list010308 transfered to SQL, done\n"
     ]
    },
    {
     "name": "stderr",
     "output_type": "stream",
     "text": [
      "/home/alien/anaconda2/lib/python2.7/site-packages/ipykernel/__main__.py:95: Warning: Unknown table 'diktiScraperdb.list010308'\n"
     ]
    },
    {
     "name": "stdout",
     "output_type": "stream",
     "text": [
      "Get Text Faculty ScrapeHTML Object\n",
      "list010309 transfered to SQL, done\n"
     ]
    },
    {
     "name": "stderr",
     "output_type": "stream",
     "text": [
      "/home/alien/anaconda2/lib/python2.7/site-packages/ipykernel/__main__.py:95: Warning: Unknown table 'diktiScraperdb.list010309'\n"
     ]
    },
    {
     "name": "stdout",
     "output_type": "stream",
     "text": [
      "Get Text Faculty ScrapeHTML Object\n",
      "list010310 transfered to SQL, done\n"
     ]
    },
    {
     "name": "stderr",
     "output_type": "stream",
     "text": [
      "/home/alien/anaconda2/lib/python2.7/site-packages/ipykernel/__main__.py:95: Warning: Unknown table 'diktiScraperdb.list010310'\n"
     ]
    },
    {
     "name": "stdout",
     "output_type": "stream",
     "text": [
      "Get Text Faculty ScrapeHTML Object\n",
      "list010311 transfered to SQL, done\n"
     ]
    },
    {
     "name": "stderr",
     "output_type": "stream",
     "text": [
      "/home/alien/anaconda2/lib/python2.7/site-packages/ipykernel/__main__.py:95: Warning: Unknown table 'diktiScraperdb.list010311'\n"
     ]
    },
    {
     "name": "stdout",
     "output_type": "stream",
     "text": [
      "Get Text Faculty ScrapeHTML Object\n",
      "list010312 transfered to SQL, done\n"
     ]
    },
    {
     "name": "stderr",
     "output_type": "stream",
     "text": [
      "/home/alien/anaconda2/lib/python2.7/site-packages/ipykernel/__main__.py:95: Warning: Unknown table 'diktiScraperdb.list010312'\n"
     ]
    },
    {
     "name": "stdout",
     "output_type": "stream",
     "text": [
      "Get Text Faculty ScrapeHTML Object\n",
      "list010313 transfered to SQL, done\n"
     ]
    },
    {
     "name": "stderr",
     "output_type": "stream",
     "text": [
      "/home/alien/anaconda2/lib/python2.7/site-packages/ipykernel/__main__.py:95: Warning: Unknown table 'diktiScraperdb.list010313'\n"
     ]
    },
    {
     "name": "stdout",
     "output_type": "stream",
     "text": [
      "Get Text Faculty ScrapeHTML Object\n",
      "list010314 transfered to SQL, done\n"
     ]
    },
    {
     "name": "stderr",
     "output_type": "stream",
     "text": [
      "/home/alien/anaconda2/lib/python2.7/site-packages/ipykernel/__main__.py:95: Warning: Unknown table 'diktiScraperdb.list010314'\n"
     ]
    },
    {
     "name": "stdout",
     "output_type": "stream",
     "text": [
      "Get Text Faculty ScrapeHTML Object\n",
      "list010315 transfered to SQL, done\n"
     ]
    },
    {
     "name": "stderr",
     "output_type": "stream",
     "text": [
      "/home/alien/anaconda2/lib/python2.7/site-packages/ipykernel/__main__.py:95: Warning: Unknown table 'diktiScraperdb.list010315'\n"
     ]
    },
    {
     "name": "stdout",
     "output_type": "stream",
     "text": [
      "Get Text Faculty ScrapeHTML Object\n",
      "list010316 transfered to SQL, done\n"
     ]
    },
    {
     "name": "stderr",
     "output_type": "stream",
     "text": [
      "/home/alien/anaconda2/lib/python2.7/site-packages/ipykernel/__main__.py:95: Warning: Unknown table 'diktiScraperdb.list010316'\n"
     ]
    },
    {
     "name": "stdout",
     "output_type": "stream",
     "text": [
      "Get Text Faculty ScrapeHTML Object\n",
      "list010317 transfered to SQL, done\n"
     ]
    },
    {
     "name": "stderr",
     "output_type": "stream",
     "text": [
      "/home/alien/anaconda2/lib/python2.7/site-packages/ipykernel/__main__.py:95: Warning: Unknown table 'diktiScraperdb.list010317'\n"
     ]
    },
    {
     "name": "stdout",
     "output_type": "stream",
     "text": [
      "Get Text Faculty ScrapeHTML Object\n",
      "list010318 transfered to SQL, done\n"
     ]
    },
    {
     "name": "stderr",
     "output_type": "stream",
     "text": [
      "/home/alien/anaconda2/lib/python2.7/site-packages/ipykernel/__main__.py:95: Warning: Unknown table 'diktiScraperdb.list010318'\n"
     ]
    },
    {
     "name": "stdout",
     "output_type": "stream",
     "text": [
      "Get Text Faculty ScrapeHTML Object\n",
      "list010319 transfered to SQL, done\n"
     ]
    },
    {
     "name": "stderr",
     "output_type": "stream",
     "text": [
      "/home/alien/anaconda2/lib/python2.7/site-packages/ipykernel/__main__.py:95: Warning: Unknown table 'diktiScraperdb.list010319'\n"
     ]
    },
    {
     "name": "stdout",
     "output_type": "stream",
     "text": [
      "Get Text Faculty ScrapeHTML Object\n",
      "list010320 transfered to SQL, done\n"
     ]
    },
    {
     "name": "stderr",
     "output_type": "stream",
     "text": [
      "/home/alien/anaconda2/lib/python2.7/site-packages/ipykernel/__main__.py:95: Warning: Unknown table 'diktiScraperdb.list010320'\n"
     ]
    },
    {
     "name": "stdout",
     "output_type": "stream",
     "text": [
      "Get Text Faculty ScrapeHTML Object\n",
      "list010321 transfered to SQL, done\n"
     ]
    },
    {
     "name": "stderr",
     "output_type": "stream",
     "text": [
      "/home/alien/anaconda2/lib/python2.7/site-packages/ipykernel/__main__.py:95: Warning: Unknown table 'diktiScraperdb.list010321'\n"
     ]
    },
    {
     "name": "stdout",
     "output_type": "stream",
     "text": [
      "Get Text Faculty ScrapeHTML Object\n",
      "list010322 transfered to SQL, done\n"
     ]
    },
    {
     "name": "stderr",
     "output_type": "stream",
     "text": [
      "/home/alien/anaconda2/lib/python2.7/site-packages/ipykernel/__main__.py:95: Warning: Unknown table 'diktiScraperdb.list010322'\n"
     ]
    },
    {
     "name": "stdout",
     "output_type": "stream",
     "text": [
      "Get Text Faculty ScrapeHTML Object\n",
      "list010323 transfered to SQL, done\n"
     ]
    },
    {
     "name": "stderr",
     "output_type": "stream",
     "text": [
      "/home/alien/anaconda2/lib/python2.7/site-packages/ipykernel/__main__.py:95: Warning: Unknown table 'diktiScraperdb.list010323'\n"
     ]
    },
    {
     "name": "stdout",
     "output_type": "stream",
     "text": [
      "Get Text Faculty ScrapeHTML Object\n",
      "list010324 transfered to SQL, done\n"
     ]
    },
    {
     "name": "stderr",
     "output_type": "stream",
     "text": [
      "/home/alien/anaconda2/lib/python2.7/site-packages/ipykernel/__main__.py:95: Warning: Unknown table 'diktiScraperdb.list010324'\n"
     ]
    },
    {
     "name": "stdout",
     "output_type": "stream",
     "text": [
      "Get Text Faculty ScrapeHTML Object\n",
      "list010325 transfered to SQL, done\n"
     ]
    },
    {
     "name": "stderr",
     "output_type": "stream",
     "text": [
      "/home/alien/anaconda2/lib/python2.7/site-packages/ipykernel/__main__.py:95: Warning: Unknown table 'diktiScraperdb.list010325'\n"
     ]
    },
    {
     "name": "stdout",
     "output_type": "stream",
     "text": [
      "Get Text Faculty ScrapeHTML Object\n",
      "list010326 transfered to SQL, done\n"
     ]
    },
    {
     "name": "stderr",
     "output_type": "stream",
     "text": [
      "/home/alien/anaconda2/lib/python2.7/site-packages/ipykernel/__main__.py:95: Warning: Unknown table 'diktiScraperdb.list010326'\n"
     ]
    },
    {
     "name": "stdout",
     "output_type": "stream",
     "text": [
      "Get Text Faculty ScrapeHTML Object\n",
      "list010327 transfered to SQL, done\n"
     ]
    },
    {
     "name": "stderr",
     "output_type": "stream",
     "text": [
      "/home/alien/anaconda2/lib/python2.7/site-packages/ipykernel/__main__.py:95: Warning: Unknown table 'diktiScraperdb.list010327'\n"
     ]
    },
    {
     "name": "stdout",
     "output_type": "stream",
     "text": [
      "Get Text Faculty ScrapeHTML Object\n",
      "list010328 transfered to SQL, done\n"
     ]
    },
    {
     "name": "stderr",
     "output_type": "stream",
     "text": [
      "/home/alien/anaconda2/lib/python2.7/site-packages/ipykernel/__main__.py:95: Warning: Unknown table 'diktiScraperdb.list010328'\n"
     ]
    },
    {
     "name": "stdout",
     "output_type": "stream",
     "text": [
      "Get Text Faculty ScrapeHTML Object\n",
      "list010329 transfered to SQL, done\n"
     ]
    },
    {
     "name": "stderr",
     "output_type": "stream",
     "text": [
      "/home/alien/anaconda2/lib/python2.7/site-packages/ipykernel/__main__.py:95: Warning: Unknown table 'diktiScraperdb.list010329'\n"
     ]
    },
    {
     "name": "stdout",
     "output_type": "stream",
     "text": [
      "Get Text Faculty ScrapeHTML Object\n",
      "list010330 transfered to SQL, done\n"
     ]
    },
    {
     "name": "stderr",
     "output_type": "stream",
     "text": [
      "/home/alien/anaconda2/lib/python2.7/site-packages/ipykernel/__main__.py:95: Warning: Unknown table 'diktiScraperdb.list010330'\n"
     ]
    },
    {
     "name": "stdout",
     "output_type": "stream",
     "text": [
      "Get Text Faculty ScrapeHTML Object\n",
      "list010331 transfered to SQL, done\n"
     ]
    },
    {
     "name": "stderr",
     "output_type": "stream",
     "text": [
      "/home/alien/anaconda2/lib/python2.7/site-packages/ipykernel/__main__.py:95: Warning: Unknown table 'diktiScraperdb.list010331'\n"
     ]
    },
    {
     "name": "stdout",
     "output_type": "stream",
     "text": [
      "Get Text Faculty ScrapeHTML Object\n",
      "list010332 transfered to SQL, done\n"
     ]
    },
    {
     "name": "stderr",
     "output_type": "stream",
     "text": [
      "/home/alien/anaconda2/lib/python2.7/site-packages/ipykernel/__main__.py:95: Warning: Unknown table 'diktiScraperdb.list010332'\n"
     ]
    },
    {
     "name": "stdout",
     "output_type": "stream",
     "text": [
      "Get Text Faculty ScrapeHTML Object\n",
      "list010333 transfered to SQL, done\n"
     ]
    },
    {
     "name": "stderr",
     "output_type": "stream",
     "text": [
      "/home/alien/anaconda2/lib/python2.7/site-packages/ipykernel/__main__.py:95: Warning: Unknown table 'diktiScraperdb.list010333'\n"
     ]
    },
    {
     "name": "stdout",
     "output_type": "stream",
     "text": [
      "Get Text Faculty ScrapeHTML Object\n",
      "list010334 transfered to SQL, done\n"
     ]
    },
    {
     "name": "stderr",
     "output_type": "stream",
     "text": [
      "/home/alien/anaconda2/lib/python2.7/site-packages/ipykernel/__main__.py:95: Warning: Unknown table 'diktiScraperdb.list010334'\n"
     ]
    },
    {
     "name": "stdout",
     "output_type": "stream",
     "text": [
      "Get Text Faculty ScrapeHTML Object\n",
      "list010335 transfered to SQL, done\n"
     ]
    },
    {
     "name": "stderr",
     "output_type": "stream",
     "text": [
      "/home/alien/anaconda2/lib/python2.7/site-packages/ipykernel/__main__.py:95: Warning: Unknown table 'diktiScraperdb.list010335'\n"
     ]
    },
    {
     "name": "stdout",
     "output_type": "stream",
     "text": [
      "Get Text Faculty ScrapeHTML Object\n",
      "list010336 transfered to SQL, done\n"
     ]
    },
    {
     "name": "stderr",
     "output_type": "stream",
     "text": [
      "/home/alien/anaconda2/lib/python2.7/site-packages/ipykernel/__main__.py:95: Warning: Unknown table 'diktiScraperdb.list010336'\n"
     ]
    },
    {
     "name": "stdout",
     "output_type": "stream",
     "text": [
      "Get Text Faculty ScrapeHTML Object\n",
      "list010337 transfered to SQL, done\n"
     ]
    },
    {
     "name": "stderr",
     "output_type": "stream",
     "text": [
      "/home/alien/anaconda2/lib/python2.7/site-packages/ipykernel/__main__.py:95: Warning: Unknown table 'diktiScraperdb.list010337'\n"
     ]
    },
    {
     "name": "stdout",
     "output_type": "stream",
     "text": [
      "Get Text Faculty ScrapeHTML Object\n",
      "list010338 transfered to SQL, done\n"
     ]
    },
    {
     "name": "stderr",
     "output_type": "stream",
     "text": [
      "/home/alien/anaconda2/lib/python2.7/site-packages/ipykernel/__main__.py:95: Warning: Unknown table 'diktiScraperdb.list010338'\n"
     ]
    },
    {
     "name": "stdout",
     "output_type": "stream",
     "text": [
      "Get Text Faculty ScrapeHTML Object\n",
      "list010339 transfered to SQL, done\n"
     ]
    },
    {
     "name": "stderr",
     "output_type": "stream",
     "text": [
      "/home/alien/anaconda2/lib/python2.7/site-packages/ipykernel/__main__.py:95: Warning: Unknown table 'diktiScraperdb.list010339'\n"
     ]
    },
    {
     "name": "stdout",
     "output_type": "stream",
     "text": [
      "Get Text Faculty ScrapeHTML Object\n",
      "list010340 transfered to SQL, done\n"
     ]
    },
    {
     "name": "stderr",
     "output_type": "stream",
     "text": [
      "/home/alien/anaconda2/lib/python2.7/site-packages/ipykernel/__main__.py:95: Warning: Unknown table 'diktiScraperdb.list010340'\n"
     ]
    },
    {
     "name": "stdout",
     "output_type": "stream",
     "text": [
      "Get Text Faculty ScrapeHTML Object\n",
      "list010341 transfered to SQL, done\n"
     ]
    },
    {
     "name": "stderr",
     "output_type": "stream",
     "text": [
      "/home/alien/anaconda2/lib/python2.7/site-packages/ipykernel/__main__.py:95: Warning: Unknown table 'diktiScraperdb.list010341'\n"
     ]
    },
    {
     "name": "stdout",
     "output_type": "stream",
     "text": [
      "Get Text Faculty ScrapeHTML Object\n",
      "list010342 transfered to SQL, done\n"
     ]
    },
    {
     "name": "stderr",
     "output_type": "stream",
     "text": [
      "/home/alien/anaconda2/lib/python2.7/site-packages/ipykernel/__main__.py:95: Warning: Unknown table 'diktiScraperdb.list010342'\n"
     ]
    },
    {
     "name": "stdout",
     "output_type": "stream",
     "text": [
      "Get Text Faculty ScrapeHTML Object\n",
      "list010343 transfered to SQL, done\n"
     ]
    },
    {
     "name": "stderr",
     "output_type": "stream",
     "text": [
      "/home/alien/anaconda2/lib/python2.7/site-packages/ipykernel/__main__.py:95: Warning: Unknown table 'diktiScraperdb.list010343'\n"
     ]
    },
    {
     "name": "stdout",
     "output_type": "stream",
     "text": [
      "Get Text Faculty ScrapeHTML Object\n",
      "list010344 transfered to SQL, done\n"
     ]
    },
    {
     "name": "stderr",
     "output_type": "stream",
     "text": [
      "/home/alien/anaconda2/lib/python2.7/site-packages/ipykernel/__main__.py:95: Warning: Unknown table 'diktiScraperdb.list010344'\n"
     ]
    },
    {
     "name": "stdout",
     "output_type": "stream",
     "text": [
      "Get Text Faculty ScrapeHTML Object\n",
      "list010345 transfered to SQL, done\n"
     ]
    },
    {
     "name": "stderr",
     "output_type": "stream",
     "text": [
      "/home/alien/anaconda2/lib/python2.7/site-packages/ipykernel/__main__.py:95: Warning: Unknown table 'diktiScraperdb.list010345'\n"
     ]
    },
    {
     "name": "stdout",
     "output_type": "stream",
     "text": [
      "Get Text Faculty ScrapeHTML Object\n",
      "list010346 transfered to SQL, done\n"
     ]
    },
    {
     "name": "stderr",
     "output_type": "stream",
     "text": [
      "/home/alien/anaconda2/lib/python2.7/site-packages/ipykernel/__main__.py:95: Warning: Unknown table 'diktiScraperdb.list010346'\n"
     ]
    },
    {
     "name": "stdout",
     "output_type": "stream",
     "text": [
      "Get Text Faculty ScrapeHTML Object\n",
      "list010347 transfered to SQL, done\n"
     ]
    },
    {
     "name": "stderr",
     "output_type": "stream",
     "text": [
      "/home/alien/anaconda2/lib/python2.7/site-packages/ipykernel/__main__.py:95: Warning: Unknown table 'diktiScraperdb.list010347'\n"
     ]
    },
    {
     "name": "stdout",
     "output_type": "stream",
     "text": [
      "Get Text Faculty ScrapeHTML Object\n",
      "list010348 transfered to SQL, done\n"
     ]
    },
    {
     "name": "stderr",
     "output_type": "stream",
     "text": [
      "/home/alien/anaconda2/lib/python2.7/site-packages/ipykernel/__main__.py:95: Warning: Unknown table 'diktiScraperdb.list010348'\n"
     ]
    },
    {
     "name": "stdout",
     "output_type": "stream",
     "text": [
      "Get Text Faculty ScrapeHTML Object\n",
      "list010349 transfered to SQL, done\n"
     ]
    },
    {
     "name": "stderr",
     "output_type": "stream",
     "text": [
      "/home/alien/anaconda2/lib/python2.7/site-packages/ipykernel/__main__.py:95: Warning: Unknown table 'diktiScraperdb.list010349'\n"
     ]
    },
    {
     "name": "stdout",
     "output_type": "stream",
     "text": [
      "Get Text Faculty ScrapeHTML Object\n",
      "list010350 transfered to SQL, done\n"
     ]
    },
    {
     "name": "stderr",
     "output_type": "stream",
     "text": [
      "/home/alien/anaconda2/lib/python2.7/site-packages/ipykernel/__main__.py:95: Warning: Unknown table 'diktiScraperdb.list010350'\n"
     ]
    },
    {
     "name": "stdout",
     "output_type": "stream",
     "text": [
      "Get Text Faculty ScrapeHTML Object\n",
      "list010351 transfered to SQL, done\n"
     ]
    },
    {
     "name": "stderr",
     "output_type": "stream",
     "text": [
      "/home/alien/anaconda2/lib/python2.7/site-packages/ipykernel/__main__.py:95: Warning: Unknown table 'diktiScraperdb.list010351'\n"
     ]
    },
    {
     "name": "stdout",
     "output_type": "stream",
     "text": [
      "Get Text Faculty ScrapeHTML Object\n",
      "list010352 transfered to SQL, done\n"
     ]
    },
    {
     "name": "stderr",
     "output_type": "stream",
     "text": [
      "/home/alien/anaconda2/lib/python2.7/site-packages/ipykernel/__main__.py:95: Warning: Unknown table 'diktiScraperdb.list010352'\n"
     ]
    },
    {
     "name": "stdout",
     "output_type": "stream",
     "text": [
      "Get Text Faculty ScrapeHTML Object\n",
      "list010353 transfered to SQL, done\n"
     ]
    },
    {
     "name": "stderr",
     "output_type": "stream",
     "text": [
      "/home/alien/anaconda2/lib/python2.7/site-packages/ipykernel/__main__.py:95: Warning: Unknown table 'diktiScraperdb.list010353'\n"
     ]
    },
    {
     "name": "stdout",
     "output_type": "stream",
     "text": [
      "Get Text Faculty ScrapeHTML Object\n",
      "list010354 transfered to SQL, done\n"
     ]
    },
    {
     "name": "stderr",
     "output_type": "stream",
     "text": [
      "/home/alien/anaconda2/lib/python2.7/site-packages/ipykernel/__main__.py:95: Warning: Unknown table 'diktiScraperdb.list010354'\n"
     ]
    },
    {
     "name": "stdout",
     "output_type": "stream",
     "text": [
      "Get Text Faculty ScrapeHTML Object\n",
      "list010355 transfered to SQL, done\n"
     ]
    },
    {
     "name": "stderr",
     "output_type": "stream",
     "text": [
      "/home/alien/anaconda2/lib/python2.7/site-packages/ipykernel/__main__.py:95: Warning: Unknown table 'diktiScraperdb.list010355'\n"
     ]
    },
    {
     "name": "stdout",
     "output_type": "stream",
     "text": [
      "Get Text Faculty ScrapeHTML Object\n",
      "list010356 transfered to SQL, done\n"
     ]
    },
    {
     "name": "stderr",
     "output_type": "stream",
     "text": [
      "/home/alien/anaconda2/lib/python2.7/site-packages/ipykernel/__main__.py:95: Warning: Unknown table 'diktiScraperdb.list010356'\n"
     ]
    },
    {
     "name": "stdout",
     "output_type": "stream",
     "text": [
      "Get Text Faculty ScrapeHTML Object\n",
      "list010357 transfered to SQL, done\n"
     ]
    },
    {
     "name": "stderr",
     "output_type": "stream",
     "text": [
      "/home/alien/anaconda2/lib/python2.7/site-packages/ipykernel/__main__.py:95: Warning: Unknown table 'diktiScraperdb.list010357'\n"
     ]
    },
    {
     "name": "stdout",
     "output_type": "stream",
     "text": [
      "Get Text Faculty ScrapeHTML Object\n",
      "list010358 transfered to SQL, done\n"
     ]
    },
    {
     "name": "stderr",
     "output_type": "stream",
     "text": [
      "/home/alien/anaconda2/lib/python2.7/site-packages/ipykernel/__main__.py:95: Warning: Unknown table 'diktiScraperdb.list010358'\n"
     ]
    },
    {
     "name": "stdout",
     "output_type": "stream",
     "text": [
      "Get Text Faculty ScrapeHTML Object\n",
      "list010359 transfered to SQL, done\n"
     ]
    },
    {
     "name": "stderr",
     "output_type": "stream",
     "text": [
      "/home/alien/anaconda2/lib/python2.7/site-packages/ipykernel/__main__.py:95: Warning: Unknown table 'diktiScraperdb.list010359'\n"
     ]
    },
    {
     "name": "stdout",
     "output_type": "stream",
     "text": [
      "Get Text Faculty ScrapeHTML Object\n",
      "list010360 transfered to SQL, done\n"
     ]
    },
    {
     "name": "stderr",
     "output_type": "stream",
     "text": [
      "/home/alien/anaconda2/lib/python2.7/site-packages/ipykernel/__main__.py:95: Warning: Unknown table 'diktiScraperdb.list010360'\n"
     ]
    },
    {
     "name": "stdout",
     "output_type": "stream",
     "text": [
      "Get Text Faculty ScrapeHTML Object\n",
      "list010361 transfered to SQL, done\n"
     ]
    },
    {
     "name": "stderr",
     "output_type": "stream",
     "text": [
      "/home/alien/anaconda2/lib/python2.7/site-packages/ipykernel/__main__.py:95: Warning: Unknown table 'diktiScraperdb.list010361'\n"
     ]
    },
    {
     "name": "stdout",
     "output_type": "stream",
     "text": [
      "Get Text Faculty ScrapeHTML Object\n",
      "list010362 transfered to SQL, done\n"
     ]
    },
    {
     "name": "stderr",
     "output_type": "stream",
     "text": [
      "/home/alien/anaconda2/lib/python2.7/site-packages/ipykernel/__main__.py:95: Warning: Unknown table 'diktiScraperdb.list010362'\n"
     ]
    },
    {
     "name": "stdout",
     "output_type": "stream",
     "text": [
      "Get Text Faculty ScrapeHTML Object\n",
      "list010363 transfered to SQL, done\n"
     ]
    },
    {
     "name": "stderr",
     "output_type": "stream",
     "text": [
      "/home/alien/anaconda2/lib/python2.7/site-packages/ipykernel/__main__.py:95: Warning: Unknown table 'diktiScraperdb.list010363'\n"
     ]
    },
    {
     "name": "stdout",
     "output_type": "stream",
     "text": [
      "Get Text Faculty ScrapeHTML Object\n",
      "list010364 transfered to SQL, done\n"
     ]
    },
    {
     "name": "stderr",
     "output_type": "stream",
     "text": [
      "/home/alien/anaconda2/lib/python2.7/site-packages/ipykernel/__main__.py:95: Warning: Unknown table 'diktiScraperdb.list010364'\n"
     ]
    },
    {
     "name": "stdout",
     "output_type": "stream",
     "text": [
      "Get Text Faculty ScrapeHTML Object\n",
      "list010365 transfered to SQL, done\n"
     ]
    },
    {
     "name": "stderr",
     "output_type": "stream",
     "text": [
      "/home/alien/anaconda2/lib/python2.7/site-packages/ipykernel/__main__.py:95: Warning: Unknown table 'diktiScraperdb.list010365'\n"
     ]
    },
    {
     "name": "stdout",
     "output_type": "stream",
     "text": [
      "Get Text Faculty ScrapeHTML Object\n"
     ]
    },
    {
     "name": "stderr",
     "output_type": "stream",
     "text": [
      "/home/alien/anaconda2/lib/python2.7/site-packages/ipykernel/__main__.py:95: Warning: Unknown table 'diktiScraperdb.list010366'\n"
     ]
    },
    {
     "name": "stdout",
     "output_type": "stream",
     "text": [
      "list010366 transfered to SQL, done\n",
      "Get Text Faculty ScrapeHTML Object\n",
      "list010367 transfered to SQL, done\n"
     ]
    },
    {
     "name": "stderr",
     "output_type": "stream",
     "text": [
      "/home/alien/anaconda2/lib/python2.7/site-packages/ipykernel/__main__.py:95: Warning: Unknown table 'diktiScraperdb.list010367'\n"
     ]
    },
    {
     "name": "stdout",
     "output_type": "stream",
     "text": [
      "Get Text Faculty ScrapeHTML Object\n",
      "list010368 transfered to SQL, done\n"
     ]
    },
    {
     "name": "stderr",
     "output_type": "stream",
     "text": [
      "/home/alien/anaconda2/lib/python2.7/site-packages/ipykernel/__main__.py:95: Warning: Unknown table 'diktiScraperdb.list010368'\n"
     ]
    },
    {
     "name": "stdout",
     "output_type": "stream",
     "text": [
      "Get Text Faculty ScrapeHTML Object\n",
      "list010369 transfered to SQL, done\n"
     ]
    },
    {
     "name": "stderr",
     "output_type": "stream",
     "text": [
      "/home/alien/anaconda2/lib/python2.7/site-packages/ipykernel/__main__.py:95: Warning: Unknown table 'diktiScraperdb.list010369'\n"
     ]
    },
    {
     "name": "stdout",
     "output_type": "stream",
     "text": [
      "Get Text Faculty ScrapeHTML Object\n",
      "list010370 transfered to SQL, done\n"
     ]
    },
    {
     "name": "stderr",
     "output_type": "stream",
     "text": [
      "/home/alien/anaconda2/lib/python2.7/site-packages/ipykernel/__main__.py:95: Warning: Unknown table 'diktiScraperdb.list010370'\n"
     ]
    },
    {
     "name": "stdout",
     "output_type": "stream",
     "text": [
      "Get Text Faculty ScrapeHTML Object\n",
      "list010371 transfered to SQL, done\n"
     ]
    },
    {
     "name": "stderr",
     "output_type": "stream",
     "text": [
      "/home/alien/anaconda2/lib/python2.7/site-packages/ipykernel/__main__.py:95: Warning: Unknown table 'diktiScraperdb.list010371'\n"
     ]
    },
    {
     "name": "stdout",
     "output_type": "stream",
     "text": [
      "Get Text Faculty ScrapeHTML Object\n",
      "list010372 transfered to SQL, done\n"
     ]
    },
    {
     "name": "stderr",
     "output_type": "stream",
     "text": [
      "/home/alien/anaconda2/lib/python2.7/site-packages/ipykernel/__main__.py:95: Warning: Unknown table 'diktiScraperdb.list010372'\n"
     ]
    },
    {
     "name": "stdout",
     "output_type": "stream",
     "text": [
      "Get Text Faculty ScrapeHTML Object\n",
      "list010373 transfered to SQL, done\n"
     ]
    },
    {
     "name": "stderr",
     "output_type": "stream",
     "text": [
      "/home/alien/anaconda2/lib/python2.7/site-packages/ipykernel/__main__.py:95: Warning: Unknown table 'diktiScraperdb.list010373'\n"
     ]
    },
    {
     "name": "stdout",
     "output_type": "stream",
     "text": [
      "Get Text Faculty ScrapeHTML Object\n"
     ]
    },
    {
     "name": "stderr",
     "output_type": "stream",
     "text": [
      "/home/alien/anaconda2/lib/python2.7/site-packages/ipykernel/__main__.py:95: Warning: Unknown table 'diktiScraperdb.list010374'\n"
     ]
    },
    {
     "name": "stdout",
     "output_type": "stream",
     "text": [
      "list010374 transfered to SQL, done\n",
      "Get Text Faculty ScrapeHTML Object\n"
     ]
    },
    {
     "name": "stderr",
     "output_type": "stream",
     "text": [
      "/home/alien/anaconda2/lib/python2.7/site-packages/ipykernel/__main__.py:95: Warning: Unknown table 'diktiScraperdb.list010375'\n"
     ]
    },
    {
     "name": "stdout",
     "output_type": "stream",
     "text": [
      "list010375 transfered to SQL, done\n",
      "Get Text Faculty ScrapeHTML Object\n",
      "list010376 transfered to SQL, done\n"
     ]
    },
    {
     "name": "stderr",
     "output_type": "stream",
     "text": [
      "/home/alien/anaconda2/lib/python2.7/site-packages/ipykernel/__main__.py:95: Warning: Unknown table 'diktiScraperdb.list010376'\n"
     ]
    },
    {
     "name": "stdout",
     "output_type": "stream",
     "text": [
      "Get Text Faculty ScrapeHTML Object\n"
     ]
    },
    {
     "name": "stderr",
     "output_type": "stream",
     "text": [
      "/home/alien/anaconda2/lib/python2.7/site-packages/ipykernel/__main__.py:95: Warning: Unknown table 'diktiScraperdb.list010377'\n"
     ]
    },
    {
     "name": "stdout",
     "output_type": "stream",
     "text": [
      "list010377 transfered to SQL, done\n",
      "Get Text Faculty ScrapeHTML Object\n"
     ]
    },
    {
     "name": "stderr",
     "output_type": "stream",
     "text": [
      "/home/alien/anaconda2/lib/python2.7/site-packages/ipykernel/__main__.py:95: Warning: Unknown table 'diktiScraperdb.list010378'\n"
     ]
    },
    {
     "name": "stdout",
     "output_type": "stream",
     "text": [
      "list010378 transfered to SQL, done\n",
      "Get Text Faculty ScrapeHTML Object\n",
      "list010379 transfered to SQL, done\n"
     ]
    },
    {
     "name": "stderr",
     "output_type": "stream",
     "text": [
      "/home/alien/anaconda2/lib/python2.7/site-packages/ipykernel/__main__.py:95: Warning: Unknown table 'diktiScraperdb.list010379'\n"
     ]
    },
    {
     "name": "stdout",
     "output_type": "stream",
     "text": [
      "Get Text Faculty ScrapeHTML Object\n",
      "list010380 transfered to SQL, done\n"
     ]
    },
    {
     "name": "stderr",
     "output_type": "stream",
     "text": [
      "/home/alien/anaconda2/lib/python2.7/site-packages/ipykernel/__main__.py:95: Warning: Unknown table 'diktiScraperdb.list010380'\n"
     ]
    },
    {
     "name": "stdout",
     "output_type": "stream",
     "text": [
      "Get Text Faculty ScrapeHTML Object\n"
     ]
    },
    {
     "name": "stderr",
     "output_type": "stream",
     "text": [
      "/home/alien/anaconda2/lib/python2.7/site-packages/ipykernel/__main__.py:95: Warning: Unknown table 'diktiScraperdb.list010381'\n"
     ]
    },
    {
     "name": "stdout",
     "output_type": "stream",
     "text": [
      "list010381 transfered to SQL, done\n",
      "Get Text Faculty ScrapeHTML Object\n",
      "list010382 transfered to SQL, done\n"
     ]
    },
    {
     "name": "stderr",
     "output_type": "stream",
     "text": [
      "/home/alien/anaconda2/lib/python2.7/site-packages/ipykernel/__main__.py:95: Warning: Unknown table 'diktiScraperdb.list010382'\n"
     ]
    },
    {
     "name": "stdout",
     "output_type": "stream",
     "text": [
      "Get Text Faculty ScrapeHTML Object\n",
      "list010383 transfered to SQL, done\n"
     ]
    },
    {
     "name": "stderr",
     "output_type": "stream",
     "text": [
      "/home/alien/anaconda2/lib/python2.7/site-packages/ipykernel/__main__.py:95: Warning: Unknown table 'diktiScraperdb.list010383'\n"
     ]
    },
    {
     "name": "stdout",
     "output_type": "stream",
     "text": [
      "Get Text Faculty ScrapeHTML Object\n",
      "list010384 transfered to SQL, done\n"
     ]
    },
    {
     "name": "stderr",
     "output_type": "stream",
     "text": [
      "/home/alien/anaconda2/lib/python2.7/site-packages/ipykernel/__main__.py:95: Warning: Unknown table 'diktiScraperdb.list010384'\n"
     ]
    },
    {
     "name": "stdout",
     "output_type": "stream",
     "text": [
      "Get Text Faculty ScrapeHTML Object\n"
     ]
    },
    {
     "name": "stderr",
     "output_type": "stream",
     "text": [
      "/home/alien/anaconda2/lib/python2.7/site-packages/ipykernel/__main__.py:95: Warning: Unknown table 'diktiScraperdb.list010385'\n"
     ]
    },
    {
     "name": "stdout",
     "output_type": "stream",
     "text": [
      "list010385 transfered to SQL, done\n",
      "Get Text Faculty ScrapeHTML Object\n",
      "list010386 transfered to SQL, done\n"
     ]
    },
    {
     "name": "stderr",
     "output_type": "stream",
     "text": [
      "/home/alien/anaconda2/lib/python2.7/site-packages/ipykernel/__main__.py:95: Warning: Unknown table 'diktiScraperdb.list010386'\n"
     ]
    },
    {
     "name": "stdout",
     "output_type": "stream",
     "text": [
      "Get Text Faculty ScrapeHTML Object\n",
      "list010387 transfered to SQL, done\n"
     ]
    },
    {
     "name": "stderr",
     "output_type": "stream",
     "text": [
      "/home/alien/anaconda2/lib/python2.7/site-packages/ipykernel/__main__.py:95: Warning: Unknown table 'diktiScraperdb.list010387'\n"
     ]
    },
    {
     "name": "stdout",
     "output_type": "stream",
     "text": [
      "Get Text Faculty ScrapeHTML Object\n",
      "list010388 transfered to SQL, done\n"
     ]
    },
    {
     "name": "stderr",
     "output_type": "stream",
     "text": [
      "/home/alien/anaconda2/lib/python2.7/site-packages/ipykernel/__main__.py:95: Warning: Unknown table 'diktiScraperdb.list010388'\n"
     ]
    },
    {
     "name": "stdout",
     "output_type": "stream",
     "text": [
      "Get Text Faculty ScrapeHTML Object\n",
      "list010389 transfered to SQL, done\n"
     ]
    },
    {
     "name": "stderr",
     "output_type": "stream",
     "text": [
      "/home/alien/anaconda2/lib/python2.7/site-packages/ipykernel/__main__.py:95: Warning: Unknown table 'diktiScraperdb.list010389'\n"
     ]
    },
    {
     "name": "stdout",
     "output_type": "stream",
     "text": [
      "Get Text Faculty ScrapeHTML Object\n"
     ]
    },
    {
     "name": "stderr",
     "output_type": "stream",
     "text": [
      "/home/alien/anaconda2/lib/python2.7/site-packages/ipykernel/__main__.py:95: Warning: Unknown table 'diktiScraperdb.list010390'\n"
     ]
    },
    {
     "name": "stdout",
     "output_type": "stream",
     "text": [
      "list010390 transfered to SQL, done\n",
      "Get Text Faculty ScrapeHTML Object\n"
     ]
    },
    {
     "name": "stderr",
     "output_type": "stream",
     "text": [
      "/home/alien/anaconda2/lib/python2.7/site-packages/ipykernel/__main__.py:95: Warning: Unknown table 'diktiScraperdb.list010391'\n"
     ]
    },
    {
     "name": "stdout",
     "output_type": "stream",
     "text": [
      "list010391 transfered to SQL, done\n",
      "Get Text Faculty ScrapeHTML Object\n"
     ]
    },
    {
     "name": "stderr",
     "output_type": "stream",
     "text": [
      "/home/alien/anaconda2/lib/python2.7/site-packages/ipykernel/__main__.py:95: Warning: Unknown table 'diktiScraperdb.list010392'\n"
     ]
    },
    {
     "name": "stdout",
     "output_type": "stream",
     "text": [
      "list010392 transfered to SQL, done\n",
      "Get Text Faculty ScrapeHTML Object\n",
      "list010393 transfered to SQL, done\n"
     ]
    },
    {
     "name": "stderr",
     "output_type": "stream",
     "text": [
      "/home/alien/anaconda2/lib/python2.7/site-packages/ipykernel/__main__.py:95: Warning: Unknown table 'diktiScraperdb.list010393'\n"
     ]
    },
    {
     "name": "stdout",
     "output_type": "stream",
     "text": [
      "Get Text Faculty ScrapeHTML Object\n"
     ]
    },
    {
     "name": "stderr",
     "output_type": "stream",
     "text": [
      "/home/alien/anaconda2/lib/python2.7/site-packages/ipykernel/__main__.py:95: Warning: Unknown table 'diktiScraperdb.list010394'\n"
     ]
    },
    {
     "name": "stdout",
     "output_type": "stream",
     "text": [
      "list010394 transfered to SQL, done\n",
      "Get Text Faculty ScrapeHTML Object\n",
      "list010395 transfered to SQL, done\n"
     ]
    },
    {
     "name": "stderr",
     "output_type": "stream",
     "text": [
      "/home/alien/anaconda2/lib/python2.7/site-packages/ipykernel/__main__.py:95: Warning: Unknown table 'diktiScraperdb.list010395'\n"
     ]
    },
    {
     "name": "stdout",
     "output_type": "stream",
     "text": [
      "Get Text Faculty ScrapeHTML Object\n",
      "list010396 transfered to SQL, done\n"
     ]
    },
    {
     "name": "stderr",
     "output_type": "stream",
     "text": [
      "/home/alien/anaconda2/lib/python2.7/site-packages/ipykernel/__main__.py:95: Warning: Unknown table 'diktiScraperdb.list010396'\n"
     ]
    },
    {
     "name": "stdout",
     "output_type": "stream",
     "text": [
      "Get Text Faculty ScrapeHTML Object\n",
      "list010397 transfered to SQL, done\n"
     ]
    },
    {
     "name": "stderr",
     "output_type": "stream",
     "text": [
      "/home/alien/anaconda2/lib/python2.7/site-packages/ipykernel/__main__.py:95: Warning: Unknown table 'diktiScraperdb.list010397'\n"
     ]
    },
    {
     "name": "stdout",
     "output_type": "stream",
     "text": [
      "Get Text Faculty ScrapeHTML Object\n",
      "list010398 transfered to SQL, done\n"
     ]
    },
    {
     "name": "stderr",
     "output_type": "stream",
     "text": [
      "/home/alien/anaconda2/lib/python2.7/site-packages/ipykernel/__main__.py:95: Warning: Unknown table 'diktiScraperdb.list010398'\n"
     ]
    },
    {
     "name": "stdout",
     "output_type": "stream",
     "text": [
      "Get Text Faculty ScrapeHTML Object\n",
      "list010399 transfered to SQL, done\n"
     ]
    },
    {
     "name": "stderr",
     "output_type": "stream",
     "text": [
      "/home/alien/anaconda2/lib/python2.7/site-packages/ipykernel/__main__.py:95: Warning: Unknown table 'diktiScraperdb.list010399'\n"
     ]
    },
    {
     "name": "stdout",
     "output_type": "stream",
     "text": [
      "Get Text Faculty ScrapeHTML Object\n",
      "list0103100 transfered to SQL, done\n"
     ]
    },
    {
     "name": "stderr",
     "output_type": "stream",
     "text": [
      "/home/alien/anaconda2/lib/python2.7/site-packages/ipykernel/__main__.py:95: Warning: Unknown table 'diktiScraperdb.list0103100'\n"
     ]
    },
    {
     "name": "stdout",
     "output_type": "stream",
     "text": [
      "Get Text Faculty ScrapeHTML Object\n",
      "list0103101 transfered to SQL, done\n"
     ]
    },
    {
     "name": "stderr",
     "output_type": "stream",
     "text": [
      "/home/alien/anaconda2/lib/python2.7/site-packages/ipykernel/__main__.py:95: Warning: Unknown table 'diktiScraperdb.list0103101'\n"
     ]
    },
    {
     "name": "stdout",
     "output_type": "stream",
     "text": [
      "Get Text Faculty ScrapeHTML Object\n",
      "list0103102 transfered to SQL, done\n"
     ]
    },
    {
     "name": "stderr",
     "output_type": "stream",
     "text": [
      "/home/alien/anaconda2/lib/python2.7/site-packages/ipykernel/__main__.py:95: Warning: Unknown table 'diktiScraperdb.list0103102'\n"
     ]
    },
    {
     "name": "stdout",
     "output_type": "stream",
     "text": [
      "Get Text Faculty ScrapeHTML Object\n",
      "list0103103 transfered to SQL, done\n"
     ]
    },
    {
     "name": "stderr",
     "output_type": "stream",
     "text": [
      "/home/alien/anaconda2/lib/python2.7/site-packages/ipykernel/__main__.py:95: Warning: Unknown table 'diktiScraperdb.list0103103'\n"
     ]
    },
    {
     "name": "stdout",
     "output_type": "stream",
     "text": [
      "Get Text Faculty ScrapeHTML Object\n",
      "list0103104 transfered to SQL, done\n"
     ]
    },
    {
     "name": "stderr",
     "output_type": "stream",
     "text": [
      "/home/alien/anaconda2/lib/python2.7/site-packages/ipykernel/__main__.py:95: Warning: Unknown table 'diktiScraperdb.list0103104'\n"
     ]
    },
    {
     "name": "stdout",
     "output_type": "stream",
     "text": [
      "Get Text Faculty ScrapeHTML Object\n",
      "list0103105 transfered to SQL, done\n"
     ]
    },
    {
     "name": "stderr",
     "output_type": "stream",
     "text": [
      "/home/alien/anaconda2/lib/python2.7/site-packages/ipykernel/__main__.py:95: Warning: Unknown table 'diktiScraperdb.list0103105'\n"
     ]
    },
    {
     "name": "stdout",
     "output_type": "stream",
     "text": [
      "Get Text Faculty ScrapeHTML Object\n",
      "list0103106 transfered to SQL, done\n"
     ]
    },
    {
     "name": "stderr",
     "output_type": "stream",
     "text": [
      "/home/alien/anaconda2/lib/python2.7/site-packages/ipykernel/__main__.py:95: Warning: Unknown table 'diktiScraperdb.list0103106'\n"
     ]
    },
    {
     "name": "stdout",
     "output_type": "stream",
     "text": [
      "Get Text Faculty ScrapeHTML Object\n",
      "list0103107 transfered to SQL, done\n"
     ]
    },
    {
     "name": "stderr",
     "output_type": "stream",
     "text": [
      "/home/alien/anaconda2/lib/python2.7/site-packages/ipykernel/__main__.py:95: Warning: Unknown table 'diktiScraperdb.list0103107'\n"
     ]
    },
    {
     "name": "stdout",
     "output_type": "stream",
     "text": [
      "Get Text Faculty ScrapeHTML Object\n",
      "list0103108 transfered to SQL, done\n"
     ]
    },
    {
     "name": "stderr",
     "output_type": "stream",
     "text": [
      "/home/alien/anaconda2/lib/python2.7/site-packages/ipykernel/__main__.py:95: Warning: Unknown table 'diktiScraperdb.list0103108'\n"
     ]
    },
    {
     "name": "stdout",
     "output_type": "stream",
     "text": [
      "Get Text Faculty ScrapeHTML Object\n",
      "list0103109 transfered to SQL, done\n"
     ]
    },
    {
     "name": "stderr",
     "output_type": "stream",
     "text": [
      "/home/alien/anaconda2/lib/python2.7/site-packages/ipykernel/__main__.py:95: Warning: Unknown table 'diktiScraperdb.list0103109'\n"
     ]
    },
    {
     "name": "stdout",
     "output_type": "stream",
     "text": [
      "Get Text Faculty ScrapeHTML Object\n",
      "list0103110 transfered to SQL, done\n"
     ]
    },
    {
     "name": "stderr",
     "output_type": "stream",
     "text": [
      "/home/alien/anaconda2/lib/python2.7/site-packages/ipykernel/__main__.py:95: Warning: Unknown table 'diktiScraperdb.list0103110'\n"
     ]
    },
    {
     "name": "stdout",
     "output_type": "stream",
     "text": [
      "Get Text Faculty ScrapeHTML Object\n",
      "list0103111 transfered to SQL, done\n"
     ]
    },
    {
     "name": "stderr",
     "output_type": "stream",
     "text": [
      "/home/alien/anaconda2/lib/python2.7/site-packages/ipykernel/__main__.py:95: Warning: Unknown table 'diktiScraperdb.list0103111'\n"
     ]
    },
    {
     "name": "stdout",
     "output_type": "stream",
     "text": [
      "Get Text Faculty ScrapeHTML Object\n",
      "list0103112 transfered to SQL, done\n"
     ]
    },
    {
     "name": "stderr",
     "output_type": "stream",
     "text": [
      "/home/alien/anaconda2/lib/python2.7/site-packages/ipykernel/__main__.py:95: Warning: Unknown table 'diktiScraperdb.list0103112'\n"
     ]
    },
    {
     "name": "stdout",
     "output_type": "stream",
     "text": [
      "Get Text Faculty ScrapeHTML Object\n",
      "list0103113 transfered to SQL, done\n"
     ]
    },
    {
     "name": "stderr",
     "output_type": "stream",
     "text": [
      "/home/alien/anaconda2/lib/python2.7/site-packages/ipykernel/__main__.py:95: Warning: Unknown table 'diktiScraperdb.list0103113'\n"
     ]
    },
    {
     "name": "stdout",
     "output_type": "stream",
     "text": [
      "Get Text Faculty ScrapeHTML Object\n",
      "list0103114 transfered to SQL, done\n"
     ]
    },
    {
     "name": "stderr",
     "output_type": "stream",
     "text": [
      "/home/alien/anaconda2/lib/python2.7/site-packages/ipykernel/__main__.py:95: Warning: Unknown table 'diktiScraperdb.list0103114'\n"
     ]
    },
    {
     "name": "stdout",
     "output_type": "stream",
     "text": [
      "Get Text Faculty ScrapeHTML Object\n",
      "list0103115 transfered to SQL, done\n"
     ]
    },
    {
     "name": "stderr",
     "output_type": "stream",
     "text": [
      "/home/alien/anaconda2/lib/python2.7/site-packages/ipykernel/__main__.py:95: Warning: Unknown table 'diktiScraperdb.list0103115'\n"
     ]
    },
    {
     "name": "stdout",
     "output_type": "stream",
     "text": [
      "Get Text Faculty ScrapeHTML Object\n"
     ]
    },
    {
     "name": "stderr",
     "output_type": "stream",
     "text": [
      "/home/alien/anaconda2/lib/python2.7/site-packages/ipykernel/__main__.py:95: Warning: Unknown table 'diktiScraperdb.list0103116'\n"
     ]
    },
    {
     "name": "stdout",
     "output_type": "stream",
     "text": [
      "list0103116 transfered to SQL, done\n",
      "Get Text Faculty ScrapeHTML Object\n",
      "list0103117 transfered to SQL, done\n"
     ]
    },
    {
     "name": "stderr",
     "output_type": "stream",
     "text": [
      "/home/alien/anaconda2/lib/python2.7/site-packages/ipykernel/__main__.py:95: Warning: Unknown table 'diktiScraperdb.list0103117'\n"
     ]
    },
    {
     "name": "stdout",
     "output_type": "stream",
     "text": [
      "Get Text Faculty ScrapeHTML Object\n",
      "list0103118 transfered to SQL, done\n"
     ]
    },
    {
     "name": "stderr",
     "output_type": "stream",
     "text": [
      "/home/alien/anaconda2/lib/python2.7/site-packages/ipykernel/__main__.py:95: Warning: Unknown table 'diktiScraperdb.list0103118'\n"
     ]
    },
    {
     "name": "stdout",
     "output_type": "stream",
     "text": [
      "Get Text Faculty ScrapeHTML Object\n",
      "list0103119 transfered to SQL, done\n"
     ]
    },
    {
     "name": "stderr",
     "output_type": "stream",
     "text": [
      "/home/alien/anaconda2/lib/python2.7/site-packages/ipykernel/__main__.py:95: Warning: Unknown table 'diktiScraperdb.list0103119'\n"
     ]
    },
    {
     "name": "stdout",
     "output_type": "stream",
     "text": [
      "Get Text Faculty ScrapeHTML Object\n"
     ]
    },
    {
     "name": "stderr",
     "output_type": "stream",
     "text": [
      "/home/alien/anaconda2/lib/python2.7/site-packages/ipykernel/__main__.py:95: Warning: Unknown table 'diktiScraperdb.list0103120'\n"
     ]
    },
    {
     "name": "stdout",
     "output_type": "stream",
     "text": [
      "list0103120 transfered to SQL, done\n",
      "Get Text Faculty ScrapeHTML Object\n"
     ]
    },
    {
     "name": "stderr",
     "output_type": "stream",
     "text": [
      "/home/alien/anaconda2/lib/python2.7/site-packages/ipykernel/__main__.py:95: Warning: Unknown table 'diktiScraperdb.list0103121'\n"
     ]
    },
    {
     "name": "stdout",
     "output_type": "stream",
     "text": [
      "list0103121 transfered to SQL, done\n",
      "Get Text Faculty ScrapeHTML Object\n"
     ]
    },
    {
     "name": "stderr",
     "output_type": "stream",
     "text": [
      "/home/alien/anaconda2/lib/python2.7/site-packages/ipykernel/__main__.py:95: Warning: Unknown table 'diktiScraperdb.list0103122'\n"
     ]
    },
    {
     "name": "stdout",
     "output_type": "stream",
     "text": [
      "list0103122 transfered to SQL, done\n",
      "Get Text Faculty ScrapeHTML Object\n"
     ]
    },
    {
     "name": "stderr",
     "output_type": "stream",
     "text": [
      "/home/alien/anaconda2/lib/python2.7/site-packages/ipykernel/__main__.py:95: Warning: Unknown table 'diktiScraperdb.list0103123'\n"
     ]
    },
    {
     "name": "stdout",
     "output_type": "stream",
     "text": [
      "list0103123 transfered to SQL, done\n",
      "Get Text Faculty ScrapeHTML Object\n",
      "list0103124 transfered to SQL, done\n"
     ]
    },
    {
     "name": "stderr",
     "output_type": "stream",
     "text": [
      "/home/alien/anaconda2/lib/python2.7/site-packages/ipykernel/__main__.py:95: Warning: Unknown table 'diktiScraperdb.list0103124'\n"
     ]
    },
    {
     "name": "stdout",
     "output_type": "stream",
     "text": [
      "Get Text Faculty ScrapeHTML Object\n",
      "list0103125 transfered to SQL, done\n"
     ]
    },
    {
     "name": "stderr",
     "output_type": "stream",
     "text": [
      "/home/alien/anaconda2/lib/python2.7/site-packages/ipykernel/__main__.py:95: Warning: Unknown table 'diktiScraperdb.list0103125'\n"
     ]
    },
    {
     "name": "stdout",
     "output_type": "stream",
     "text": [
      "Get Text Faculty ScrapeHTML Object\n",
      "list0103126 transfered to SQL, done\n"
     ]
    },
    {
     "name": "stderr",
     "output_type": "stream",
     "text": [
      "/home/alien/anaconda2/lib/python2.7/site-packages/ipykernel/__main__.py:95: Warning: Unknown table 'diktiScraperdb.list0103126'\n"
     ]
    },
    {
     "name": "stdout",
     "output_type": "stream",
     "text": [
      "Get Text Faculty ScrapeHTML Object\n"
     ]
    },
    {
     "name": "stderr",
     "output_type": "stream",
     "text": [
      "/home/alien/anaconda2/lib/python2.7/site-packages/ipykernel/__main__.py:95: Warning: Unknown table 'diktiScraperdb.list0103127'\n"
     ]
    },
    {
     "name": "stdout",
     "output_type": "stream",
     "text": [
      "list0103127 transfered to SQL, done\n",
      "Get Text Faculty ScrapeHTML Object\n",
      "list0103128 transfered to SQL, done\n"
     ]
    },
    {
     "name": "stderr",
     "output_type": "stream",
     "text": [
      "/home/alien/anaconda2/lib/python2.7/site-packages/ipykernel/__main__.py:95: Warning: Unknown table 'diktiScraperdb.list0103128'\n"
     ]
    },
    {
     "name": "stdout",
     "output_type": "stream",
     "text": [
      "Get Text Faculty ScrapeHTML Object\n"
     ]
    },
    {
     "name": "stderr",
     "output_type": "stream",
     "text": [
      "/home/alien/anaconda2/lib/python2.7/site-packages/ipykernel/__main__.py:95: Warning: Unknown table 'diktiScraperdb.list0103129'\n"
     ]
    },
    {
     "name": "stdout",
     "output_type": "stream",
     "text": [
      "list0103129 transfered to SQL, done\n",
      "Get Text Faculty ScrapeHTML Object\n"
     ]
    },
    {
     "name": "stderr",
     "output_type": "stream",
     "text": [
      "/home/alien/anaconda2/lib/python2.7/site-packages/ipykernel/__main__.py:95: Warning: Unknown table 'diktiScraperdb.list0103130'\n"
     ]
    },
    {
     "name": "stdout",
     "output_type": "stream",
     "text": [
      "list0103130 transfered to SQL, done\n",
      "Get Text Faculty ScrapeHTML Object\n"
     ]
    },
    {
     "name": "stderr",
     "output_type": "stream",
     "text": [
      "/home/alien/anaconda2/lib/python2.7/site-packages/ipykernel/__main__.py:95: Warning: Unknown table 'diktiScraperdb.list0103131'\n"
     ]
    },
    {
     "name": "stdout",
     "output_type": "stream",
     "text": [
      "list0103131 transfered to SQL, done\n",
      "Get Text Faculty ScrapeHTML Object\n"
     ]
    },
    {
     "name": "stderr",
     "output_type": "stream",
     "text": [
      "/home/alien/anaconda2/lib/python2.7/site-packages/ipykernel/__main__.py:95: Warning: Unknown table 'diktiScraperdb.list0103132'\n"
     ]
    },
    {
     "name": "stdout",
     "output_type": "stream",
     "text": [
      "list0103132 transfered to SQL, done\n",
      "Get Text Faculty ScrapeHTML Object\n",
      "list0103133 transfered to SQL, done\n"
     ]
    },
    {
     "name": "stderr",
     "output_type": "stream",
     "text": [
      "/home/alien/anaconda2/lib/python2.7/site-packages/ipykernel/__main__.py:95: Warning: Unknown table 'diktiScraperdb.list0103133'\n"
     ]
    },
    {
     "name": "stdout",
     "output_type": "stream",
     "text": [
      "Get Text Faculty ScrapeHTML Object\n",
      "list0103134 transfered to SQL, done\n"
     ]
    },
    {
     "name": "stderr",
     "output_type": "stream",
     "text": [
      "/home/alien/anaconda2/lib/python2.7/site-packages/ipykernel/__main__.py:95: Warning: Unknown table 'diktiScraperdb.list0103134'\n"
     ]
    },
    {
     "name": "stdout",
     "output_type": "stream",
     "text": [
      "Get Text Faculty ScrapeHTML Object\n",
      "list0103135 transfered to SQL, done\n"
     ]
    },
    {
     "name": "stderr",
     "output_type": "stream",
     "text": [
      "/home/alien/anaconda2/lib/python2.7/site-packages/ipykernel/__main__.py:95: Warning: Unknown table 'diktiScraperdb.list0103135'\n"
     ]
    },
    {
     "name": "stdout",
     "output_type": "stream",
     "text": [
      "Get Text Faculty ScrapeHTML Object\n",
      "list0103136 transfered to SQL, done\n"
     ]
    },
    {
     "name": "stderr",
     "output_type": "stream",
     "text": [
      "/home/alien/anaconda2/lib/python2.7/site-packages/ipykernel/__main__.py:95: Warning: Unknown table 'diktiScraperdb.list0103136'\n"
     ]
    },
    {
     "name": "stdout",
     "output_type": "stream",
     "text": [
      "Get Text Faculty ScrapeHTML Object\n",
      "list0103137 transfered to SQL, done\n"
     ]
    },
    {
     "name": "stderr",
     "output_type": "stream",
     "text": [
      "/home/alien/anaconda2/lib/python2.7/site-packages/ipykernel/__main__.py:95: Warning: Unknown table 'diktiScraperdb.list0103137'\n"
     ]
    },
    {
     "name": "stdout",
     "output_type": "stream",
     "text": [
      "Get Text Faculty ScrapeHTML Object\n",
      "list0103138 transfered to SQL, done\n"
     ]
    },
    {
     "name": "stderr",
     "output_type": "stream",
     "text": [
      "/home/alien/anaconda2/lib/python2.7/site-packages/ipykernel/__main__.py:95: Warning: Unknown table 'diktiScraperdb.list0103138'\n"
     ]
    },
    {
     "name": "stdout",
     "output_type": "stream",
     "text": [
      "Get Text Faculty ScrapeHTML Object\n",
      "list0103139 transfered to SQL, done\n"
     ]
    },
    {
     "name": "stderr",
     "output_type": "stream",
     "text": [
      "/home/alien/anaconda2/lib/python2.7/site-packages/ipykernel/__main__.py:95: Warning: Unknown table 'diktiScraperdb.list0103139'\n"
     ]
    },
    {
     "name": "stdout",
     "output_type": "stream",
     "text": [
      "Get Text Faculty ScrapeHTML Object\n",
      "list0103140 transfered to SQL, done\n"
     ]
    },
    {
     "name": "stderr",
     "output_type": "stream",
     "text": [
      "/home/alien/anaconda2/lib/python2.7/site-packages/ipykernel/__main__.py:95: Warning: Unknown table 'diktiScraperdb.list0103140'\n"
     ]
    },
    {
     "name": "stdout",
     "output_type": "stream",
     "text": [
      "Get Text Faculty ScrapeHTML Object\n",
      "list0103141 transfered to SQL, done\n"
     ]
    },
    {
     "name": "stderr",
     "output_type": "stream",
     "text": [
      "/home/alien/anaconda2/lib/python2.7/site-packages/ipykernel/__main__.py:95: Warning: Unknown table 'diktiScraperdb.list0103141'\n"
     ]
    },
    {
     "name": "stdout",
     "output_type": "stream",
     "text": [
      "Get Text Faculty ScrapeHTML Object\n",
      "list0103142 transfered to SQL, done\n"
     ]
    },
    {
     "name": "stderr",
     "output_type": "stream",
     "text": [
      "/home/alien/anaconda2/lib/python2.7/site-packages/ipykernel/__main__.py:95: Warning: Unknown table 'diktiScraperdb.list0103142'\n"
     ]
    },
    {
     "name": "stdout",
     "output_type": "stream",
     "text": [
      "Get Text Faculty ScrapeHTML Object\n",
      "list0103143 transfered to SQL, done\n"
     ]
    },
    {
     "name": "stderr",
     "output_type": "stream",
     "text": [
      "/home/alien/anaconda2/lib/python2.7/site-packages/ipykernel/__main__.py:95: Warning: Unknown table 'diktiScraperdb.list0103143'\n"
     ]
    },
    {
     "name": "stdout",
     "output_type": "stream",
     "text": [
      "Get Text Faculty ScrapeHTML Object\n",
      "list0103144 transfered to SQL, done\n"
     ]
    },
    {
     "name": "stderr",
     "output_type": "stream",
     "text": [
      "/home/alien/anaconda2/lib/python2.7/site-packages/ipykernel/__main__.py:95: Warning: Unknown table 'diktiScraperdb.list0103144'\n"
     ]
    },
    {
     "name": "stdout",
     "output_type": "stream",
     "text": [
      "Get Text Faculty ScrapeHTML Object\n",
      "list0103145 transfered to SQL, done\n"
     ]
    },
    {
     "name": "stderr",
     "output_type": "stream",
     "text": [
      "/home/alien/anaconda2/lib/python2.7/site-packages/ipykernel/__main__.py:95: Warning: Unknown table 'diktiScraperdb.list0103145'\n"
     ]
    },
    {
     "name": "stdout",
     "output_type": "stream",
     "text": [
      "Get Text Faculty ScrapeHTML Object\n",
      "list0103146 transfered to SQL, done\n"
     ]
    },
    {
     "name": "stderr",
     "output_type": "stream",
     "text": [
      "/home/alien/anaconda2/lib/python2.7/site-packages/ipykernel/__main__.py:95: Warning: Unknown table 'diktiScraperdb.list0103146'\n"
     ]
    },
    {
     "name": "stdout",
     "output_type": "stream",
     "text": [
      "Get Text Faculty ScrapeHTML Object\n",
      "list0103147 transfered to SQL, done\n"
     ]
    },
    {
     "name": "stderr",
     "output_type": "stream",
     "text": [
      "/home/alien/anaconda2/lib/python2.7/site-packages/ipykernel/__main__.py:95: Warning: Unknown table 'diktiScraperdb.list0103147'\n"
     ]
    },
    {
     "name": "stdout",
     "output_type": "stream",
     "text": [
      "Get Text Faculty ScrapeHTML Object\n",
      "list0103148 transfered to SQL, done\n"
     ]
    },
    {
     "name": "stderr",
     "output_type": "stream",
     "text": [
      "/home/alien/anaconda2/lib/python2.7/site-packages/ipykernel/__main__.py:95: Warning: Unknown table 'diktiScraperdb.list0103148'\n"
     ]
    },
    {
     "name": "stdout",
     "output_type": "stream",
     "text": [
      "Get Text Faculty ScrapeHTML Object\n",
      "list0103149 transfered to SQL, done\n"
     ]
    },
    {
     "name": "stderr",
     "output_type": "stream",
     "text": [
      "/home/alien/anaconda2/lib/python2.7/site-packages/ipykernel/__main__.py:95: Warning: Unknown table 'diktiScraperdb.list0103149'\n"
     ]
    },
    {
     "name": "stdout",
     "output_type": "stream",
     "text": [
      "Get Text Faculty ScrapeHTML Object\n",
      "list0103150 transfered to SQL, done\n"
     ]
    },
    {
     "name": "stderr",
     "output_type": "stream",
     "text": [
      "/home/alien/anaconda2/lib/python2.7/site-packages/ipykernel/__main__.py:95: Warning: Unknown table 'diktiScraperdb.list0103150'\n"
     ]
    },
    {
     "name": "stdout",
     "output_type": "stream",
     "text": [
      "Get Text Faculty ScrapeHTML Object\n",
      "list0103151 transfered to SQL, done\n"
     ]
    },
    {
     "name": "stderr",
     "output_type": "stream",
     "text": [
      "/home/alien/anaconda2/lib/python2.7/site-packages/ipykernel/__main__.py:95: Warning: Unknown table 'diktiScraperdb.list0103151'\n"
     ]
    },
    {
     "name": "stdout",
     "output_type": "stream",
     "text": [
      "Get Text Faculty ScrapeHTML Object\n",
      "list0103152 transfered to SQL, done\n"
     ]
    },
    {
     "name": "stderr",
     "output_type": "stream",
     "text": [
      "/home/alien/anaconda2/lib/python2.7/site-packages/ipykernel/__main__.py:95: Warning: Unknown table 'diktiScraperdb.list0103152'\n"
     ]
    },
    {
     "name": "stdout",
     "output_type": "stream",
     "text": [
      "Get Text Faculty ScrapeHTML Object\n",
      "list0103153 transfered to SQL, done\n"
     ]
    },
    {
     "name": "stderr",
     "output_type": "stream",
     "text": [
      "/home/alien/anaconda2/lib/python2.7/site-packages/ipykernel/__main__.py:95: Warning: Unknown table 'diktiScraperdb.list0103153'\n"
     ]
    },
    {
     "name": "stdout",
     "output_type": "stream",
     "text": [
      "Get Text Faculty ScrapeHTML Object\n",
      "list0103154 transfered to SQL, done\n"
     ]
    },
    {
     "name": "stderr",
     "output_type": "stream",
     "text": [
      "/home/alien/anaconda2/lib/python2.7/site-packages/ipykernel/__main__.py:95: Warning: Unknown table 'diktiScraperdb.list0103154'\n"
     ]
    },
    {
     "name": "stdout",
     "output_type": "stream",
     "text": [
      "Get Text Faculty ScrapeHTML Object\n",
      "list0103155 transfered to SQL, done\n"
     ]
    },
    {
     "name": "stderr",
     "output_type": "stream",
     "text": [
      "/home/alien/anaconda2/lib/python2.7/site-packages/ipykernel/__main__.py:95: Warning: Unknown table 'diktiScraperdb.list0103155'\n"
     ]
    },
    {
     "name": "stdout",
     "output_type": "stream",
     "text": [
      "Get Text Faculty ScrapeHTML Object\n",
      "list0103156 transfered to SQL, done\n"
     ]
    },
    {
     "name": "stderr",
     "output_type": "stream",
     "text": [
      "/home/alien/anaconda2/lib/python2.7/site-packages/ipykernel/__main__.py:95: Warning: Unknown table 'diktiScraperdb.list0103156'\n"
     ]
    },
    {
     "name": "stdout",
     "output_type": "stream",
     "text": [
      "Get Text Faculty ScrapeHTML Object\n",
      "list0103157 transfered to SQL, done\n"
     ]
    },
    {
     "name": "stderr",
     "output_type": "stream",
     "text": [
      "/home/alien/anaconda2/lib/python2.7/site-packages/ipykernel/__main__.py:95: Warning: Unknown table 'diktiScraperdb.list0103157'\n"
     ]
    },
    {
     "name": "stdout",
     "output_type": "stream",
     "text": [
      "Get Text Faculty ScrapeHTML Object\n",
      "list0103158 transfered to SQL, done\n"
     ]
    },
    {
     "name": "stderr",
     "output_type": "stream",
     "text": [
      "/home/alien/anaconda2/lib/python2.7/site-packages/ipykernel/__main__.py:95: Warning: Unknown table 'diktiScraperdb.list0103158'\n"
     ]
    },
    {
     "name": "stdout",
     "output_type": "stream",
     "text": [
      "Get Text Faculty ScrapeHTML Object\n",
      "list0103159 transfered to SQL, done\n"
     ]
    },
    {
     "name": "stderr",
     "output_type": "stream",
     "text": [
      "/home/alien/anaconda2/lib/python2.7/site-packages/ipykernel/__main__.py:95: Warning: Unknown table 'diktiScraperdb.list0103159'\n"
     ]
    },
    {
     "name": "stdout",
     "output_type": "stream",
     "text": [
      "Get Text Faculty ScrapeHTML Object\n",
      "list0103160 transfered to SQL, done\n"
     ]
    },
    {
     "name": "stderr",
     "output_type": "stream",
     "text": [
      "/home/alien/anaconda2/lib/python2.7/site-packages/ipykernel/__main__.py:95: Warning: Unknown table 'diktiScraperdb.list0103160'\n"
     ]
    },
    {
     "name": "stdout",
     "output_type": "stream",
     "text": [
      "Get Text Faculty ScrapeHTML Object\n",
      "list0103161 transfered to SQL, done\n"
     ]
    },
    {
     "name": "stderr",
     "output_type": "stream",
     "text": [
      "/home/alien/anaconda2/lib/python2.7/site-packages/ipykernel/__main__.py:95: Warning: Unknown table 'diktiScraperdb.list0103161'\n"
     ]
    },
    {
     "name": "stdout",
     "output_type": "stream",
     "text": [
      "Get Text Faculty ScrapeHTML Object\n",
      "list0103162 transfered to SQL, done\n"
     ]
    },
    {
     "name": "stderr",
     "output_type": "stream",
     "text": [
      "/home/alien/anaconda2/lib/python2.7/site-packages/ipykernel/__main__.py:95: Warning: Unknown table 'diktiScraperdb.list0103162'\n"
     ]
    },
    {
     "name": "stdout",
     "output_type": "stream",
     "text": [
      "Get Text Faculty ScrapeHTML Object\n",
      "list0103163 transfered to SQL, done\n"
     ]
    },
    {
     "name": "stderr",
     "output_type": "stream",
     "text": [
      "/home/alien/anaconda2/lib/python2.7/site-packages/ipykernel/__main__.py:95: Warning: Unknown table 'diktiScraperdb.list0103163'\n"
     ]
    },
    {
     "name": "stdout",
     "output_type": "stream",
     "text": [
      "Get Text Faculty ScrapeHTML Object\n",
      "list0103164 transfered to SQL, done\n"
     ]
    },
    {
     "name": "stderr",
     "output_type": "stream",
     "text": [
      "/home/alien/anaconda2/lib/python2.7/site-packages/ipykernel/__main__.py:95: Warning: Unknown table 'diktiScraperdb.list0103164'\n"
     ]
    },
    {
     "name": "stdout",
     "output_type": "stream",
     "text": [
      "Get Text Faculty ScrapeHTML Object\n",
      "list0103165 transfered to SQL, done\n"
     ]
    },
    {
     "name": "stderr",
     "output_type": "stream",
     "text": [
      "/home/alien/anaconda2/lib/python2.7/site-packages/ipykernel/__main__.py:95: Warning: Unknown table 'diktiScraperdb.list0103165'\n"
     ]
    },
    {
     "name": "stdout",
     "output_type": "stream",
     "text": [
      "Get Text Faculty ScrapeHTML Object\n",
      "list0103166 transfered to SQL, done\n"
     ]
    },
    {
     "name": "stderr",
     "output_type": "stream",
     "text": [
      "/home/alien/anaconda2/lib/python2.7/site-packages/ipykernel/__main__.py:95: Warning: Unknown table 'diktiScraperdb.list0103166'\n"
     ]
    },
    {
     "name": "stdout",
     "output_type": "stream",
     "text": [
      "Get Text Faculty ScrapeHTML Object\n",
      "list0103167 transfered to SQL, done\n"
     ]
    },
    {
     "name": "stderr",
     "output_type": "stream",
     "text": [
      "/home/alien/anaconda2/lib/python2.7/site-packages/ipykernel/__main__.py:95: Warning: Unknown table 'diktiScraperdb.list0103167'\n"
     ]
    },
    {
     "name": "stdout",
     "output_type": "stream",
     "text": [
      "Get Text Faculty ScrapeHTML Object\n",
      "list0103168 transfered to SQL, done\n"
     ]
    },
    {
     "name": "stderr",
     "output_type": "stream",
     "text": [
      "/home/alien/anaconda2/lib/python2.7/site-packages/ipykernel/__main__.py:95: Warning: Unknown table 'diktiScraperdb.list0103168'\n"
     ]
    },
    {
     "name": "stdout",
     "output_type": "stream",
     "text": [
      "Get Text Faculty ScrapeHTML Object\n",
      "list0103169 transfered to SQL, done\n"
     ]
    },
    {
     "name": "stderr",
     "output_type": "stream",
     "text": [
      "/home/alien/anaconda2/lib/python2.7/site-packages/ipykernel/__main__.py:95: Warning: Unknown table 'diktiScraperdb.list0103169'\n"
     ]
    },
    {
     "name": "stdout",
     "output_type": "stream",
     "text": [
      "Get Text Faculty ScrapeHTML Object\n"
     ]
    },
    {
     "name": "stderr",
     "output_type": "stream",
     "text": [
      "/home/alien/anaconda2/lib/python2.7/site-packages/ipykernel/__main__.py:95: Warning: Unknown table 'diktiScraperdb.list0103170'\n"
     ]
    },
    {
     "name": "stdout",
     "output_type": "stream",
     "text": [
      "list0103170 transfered to SQL, done\n",
      "Get Text Faculty ScrapeHTML Object\n",
      "list0103171 transfered to SQL, done\n"
     ]
    },
    {
     "name": "stderr",
     "output_type": "stream",
     "text": [
      "/home/alien/anaconda2/lib/python2.7/site-packages/ipykernel/__main__.py:95: Warning: Unknown table 'diktiScraperdb.list0103171'\n"
     ]
    },
    {
     "name": "stdout",
     "output_type": "stream",
     "text": [
      "Get Text Faculty ScrapeHTML Object\n",
      "list0103172 transfered to SQL, done\n"
     ]
    },
    {
     "name": "stderr",
     "output_type": "stream",
     "text": [
      "/home/alien/anaconda2/lib/python2.7/site-packages/ipykernel/__main__.py:95: Warning: Unknown table 'diktiScraperdb.list0103172'\n"
     ]
    },
    {
     "name": "stdout",
     "output_type": "stream",
     "text": [
      "Get Text Faculty ScrapeHTML Object\n",
      "list0103173 transfered to SQL, done\n"
     ]
    },
    {
     "name": "stderr",
     "output_type": "stream",
     "text": [
      "/home/alien/anaconda2/lib/python2.7/site-packages/ipykernel/__main__.py:95: Warning: Unknown table 'diktiScraperdb.list0103173'\n"
     ]
    },
    {
     "name": "stdout",
     "output_type": "stream",
     "text": [
      "Get Text Faculty ScrapeHTML Object\n",
      "list0103174 transfered to SQL, done\n"
     ]
    },
    {
     "name": "stderr",
     "output_type": "stream",
     "text": [
      "/home/alien/anaconda2/lib/python2.7/site-packages/ipykernel/__main__.py:95: Warning: Unknown table 'diktiScraperdb.list0103174'\n"
     ]
    },
    {
     "name": "stdout",
     "output_type": "stream",
     "text": [
      "Get Text Faculty ScrapeHTML Object\n",
      "list0103175 transfered to SQL, done\n"
     ]
    },
    {
     "name": "stderr",
     "output_type": "stream",
     "text": [
      "/home/alien/anaconda2/lib/python2.7/site-packages/ipykernel/__main__.py:95: Warning: Unknown table 'diktiScraperdb.list0103175'\n"
     ]
    },
    {
     "name": "stdout",
     "output_type": "stream",
     "text": [
      "Get Text Faculty ScrapeHTML Object\n",
      "list0103176 transfered to SQL, done\n"
     ]
    },
    {
     "name": "stderr",
     "output_type": "stream",
     "text": [
      "/home/alien/anaconda2/lib/python2.7/site-packages/ipykernel/__main__.py:95: Warning: Unknown table 'diktiScraperdb.list0103176'\n"
     ]
    },
    {
     "name": "stdout",
     "output_type": "stream",
     "text": [
      "Get Text Faculty ScrapeHTML Object\n",
      "list0103177 transfered to SQL, done\n"
     ]
    },
    {
     "name": "stderr",
     "output_type": "stream",
     "text": [
      "/home/alien/anaconda2/lib/python2.7/site-packages/ipykernel/__main__.py:95: Warning: Unknown table 'diktiScraperdb.list0103177'\n"
     ]
    },
    {
     "name": "stdout",
     "output_type": "stream",
     "text": [
      "Get Text Faculty ScrapeHTML Object\n",
      "list0103178 transfered to SQL, done\n"
     ]
    },
    {
     "name": "stderr",
     "output_type": "stream",
     "text": [
      "/home/alien/anaconda2/lib/python2.7/site-packages/ipykernel/__main__.py:95: Warning: Unknown table 'diktiScraperdb.list0103178'\n"
     ]
    },
    {
     "name": "stdout",
     "output_type": "stream",
     "text": [
      "Get Text Faculty ScrapeHTML Object\n",
      "list0103179 transfered to SQL, done\n"
     ]
    },
    {
     "name": "stderr",
     "output_type": "stream",
     "text": [
      "/home/alien/anaconda2/lib/python2.7/site-packages/ipykernel/__main__.py:95: Warning: Unknown table 'diktiScraperdb.list0103179'\n"
     ]
    },
    {
     "name": "stdout",
     "output_type": "stream",
     "text": [
      "Get Text Faculty ScrapeHTML Object\n",
      "list0103180 transfered to SQL, done\n"
     ]
    },
    {
     "name": "stderr",
     "output_type": "stream",
     "text": [
      "/home/alien/anaconda2/lib/python2.7/site-packages/ipykernel/__main__.py:95: Warning: Unknown table 'diktiScraperdb.list0103180'\n"
     ]
    },
    {
     "name": "stdout",
     "output_type": "stream",
     "text": [
      "Get Text Faculty ScrapeHTML Object\n",
      "list0103181 transfered to SQL, done\n"
     ]
    },
    {
     "name": "stderr",
     "output_type": "stream",
     "text": [
      "/home/alien/anaconda2/lib/python2.7/site-packages/ipykernel/__main__.py:95: Warning: Unknown table 'diktiScraperdb.list0103181'\n"
     ]
    },
    {
     "name": "stdout",
     "output_type": "stream",
     "text": [
      "Get Text Faculty ScrapeHTML Object\n",
      "list0103182 transfered to SQL, done\n"
     ]
    },
    {
     "name": "stderr",
     "output_type": "stream",
     "text": [
      "/home/alien/anaconda2/lib/python2.7/site-packages/ipykernel/__main__.py:95: Warning: Unknown table 'diktiScraperdb.list0103182'\n"
     ]
    },
    {
     "name": "stdout",
     "output_type": "stream",
     "text": [
      "Get Text Faculty ScrapeHTML Object\n",
      "list0103183 transfered to SQL, done\n"
     ]
    },
    {
     "name": "stderr",
     "output_type": "stream",
     "text": [
      "/home/alien/anaconda2/lib/python2.7/site-packages/ipykernel/__main__.py:95: Warning: Unknown table 'diktiScraperdb.list0103183'\n"
     ]
    },
    {
     "name": "stdout",
     "output_type": "stream",
     "text": [
      "Get Text Faculty ScrapeHTML Object\n",
      "list0103184 transfered to SQL, done\n"
     ]
    },
    {
     "name": "stderr",
     "output_type": "stream",
     "text": [
      "/home/alien/anaconda2/lib/python2.7/site-packages/ipykernel/__main__.py:95: Warning: Unknown table 'diktiScraperdb.list0103184'\n"
     ]
    },
    {
     "name": "stdout",
     "output_type": "stream",
     "text": [
      "Get Text Faculty ScrapeHTML Object\n",
      "list0103185 transfered to SQL, done\n"
     ]
    },
    {
     "name": "stderr",
     "output_type": "stream",
     "text": [
      "/home/alien/anaconda2/lib/python2.7/site-packages/ipykernel/__main__.py:95: Warning: Unknown table 'diktiScraperdb.list0103185'\n"
     ]
    },
    {
     "name": "stdout",
     "output_type": "stream",
     "text": [
      "Get Text Faculty ScrapeHTML Object\n",
      "list0103186 transfered to SQL, done\n"
     ]
    },
    {
     "name": "stderr",
     "output_type": "stream",
     "text": [
      "/home/alien/anaconda2/lib/python2.7/site-packages/ipykernel/__main__.py:95: Warning: Unknown table 'diktiScraperdb.list0103186'\n"
     ]
    },
    {
     "name": "stdout",
     "output_type": "stream",
     "text": [
      "Get Text Faculty ScrapeHTML Object\n",
      "list0103187 transfered to SQL, done\n"
     ]
    },
    {
     "name": "stderr",
     "output_type": "stream",
     "text": [
      "/home/alien/anaconda2/lib/python2.7/site-packages/ipykernel/__main__.py:95: Warning: Unknown table 'diktiScraperdb.list0103187'\n"
     ]
    },
    {
     "name": "stdout",
     "output_type": "stream",
     "text": [
      "Get Text Faculty ScrapeHTML Object\n",
      "list0103188 transfered to SQL, done\n"
     ]
    },
    {
     "name": "stderr",
     "output_type": "stream",
     "text": [
      "/home/alien/anaconda2/lib/python2.7/site-packages/ipykernel/__main__.py:95: Warning: Unknown table 'diktiScraperdb.list0103188'\n"
     ]
    },
    {
     "name": "stdout",
     "output_type": "stream",
     "text": [
      "Get Text Faculty ScrapeHTML Object\n",
      "list0103189 transfered to SQL, done\n"
     ]
    },
    {
     "name": "stderr",
     "output_type": "stream",
     "text": [
      "/home/alien/anaconda2/lib/python2.7/site-packages/ipykernel/__main__.py:95: Warning: Unknown table 'diktiScraperdb.list0103189'\n"
     ]
    },
    {
     "name": "stdout",
     "output_type": "stream",
     "text": [
      "Get Text Faculty ScrapeHTML Object\n",
      "list0103190 transfered to SQL, done\n"
     ]
    },
    {
     "name": "stderr",
     "output_type": "stream",
     "text": [
      "/home/alien/anaconda2/lib/python2.7/site-packages/ipykernel/__main__.py:95: Warning: Unknown table 'diktiScraperdb.list0103190'\n"
     ]
    },
    {
     "name": "stdout",
     "output_type": "stream",
     "text": [
      "Get Text Faculty ScrapeHTML Object\n",
      "list0103191 transfered to SQL, done\n"
     ]
    },
    {
     "name": "stderr",
     "output_type": "stream",
     "text": [
      "/home/alien/anaconda2/lib/python2.7/site-packages/ipykernel/__main__.py:95: Warning: Unknown table 'diktiScraperdb.list0103191'\n"
     ]
    },
    {
     "name": "stdout",
     "output_type": "stream",
     "text": [
      "Get Text Faculty ScrapeHTML Object\n",
      "list0103192 transfered to SQL, done\n"
     ]
    },
    {
     "name": "stderr",
     "output_type": "stream",
     "text": [
      "/home/alien/anaconda2/lib/python2.7/site-packages/ipykernel/__main__.py:95: Warning: Unknown table 'diktiScraperdb.list0103192'\n"
     ]
    },
    {
     "name": "stdout",
     "output_type": "stream",
     "text": [
      "Get Text Faculty ScrapeHTML Object\n",
      "list0103193 transfered to SQL, done\n"
     ]
    },
    {
     "name": "stderr",
     "output_type": "stream",
     "text": [
      "/home/alien/anaconda2/lib/python2.7/site-packages/ipykernel/__main__.py:95: Warning: Unknown table 'diktiScraperdb.list0103193'\n"
     ]
    },
    {
     "name": "stdout",
     "output_type": "stream",
     "text": [
      "Get Text Faculty ScrapeHTML Object\n",
      "list0103194 transfered to SQL, done\n"
     ]
    },
    {
     "name": "stderr",
     "output_type": "stream",
     "text": [
      "/home/alien/anaconda2/lib/python2.7/site-packages/ipykernel/__main__.py:95: Warning: Unknown table 'diktiScraperdb.list0103194'\n"
     ]
    },
    {
     "name": "stdout",
     "output_type": "stream",
     "text": [
      "Get Text Faculty ScrapeHTML Object\n",
      "list0103195 transfered to SQL, done\n"
     ]
    },
    {
     "name": "stderr",
     "output_type": "stream",
     "text": [
      "/home/alien/anaconda2/lib/python2.7/site-packages/ipykernel/__main__.py:95: Warning: Unknown table 'diktiScraperdb.list0103195'\n"
     ]
    },
    {
     "name": "stdout",
     "output_type": "stream",
     "text": [
      "Get Text Faculty ScrapeHTML Object\n",
      "list0103196 transfered to SQL, done\n"
     ]
    },
    {
     "name": "stderr",
     "output_type": "stream",
     "text": [
      "/home/alien/anaconda2/lib/python2.7/site-packages/ipykernel/__main__.py:95: Warning: Unknown table 'diktiScraperdb.list0103196'\n"
     ]
    },
    {
     "name": "stdout",
     "output_type": "stream",
     "text": [
      "Get Text Faculty ScrapeHTML Object\n",
      "list0103197 transfered to SQL, done\n"
     ]
    },
    {
     "name": "stderr",
     "output_type": "stream",
     "text": [
      "/home/alien/anaconda2/lib/python2.7/site-packages/ipykernel/__main__.py:95: Warning: Unknown table 'diktiScraperdb.list0103197'\n"
     ]
    },
    {
     "name": "stdout",
     "output_type": "stream",
     "text": [
      "Get Text Faculty ScrapeHTML Object\n",
      "list0103198 transfered to SQL, done\n"
     ]
    },
    {
     "name": "stderr",
     "output_type": "stream",
     "text": [
      "/home/alien/anaconda2/lib/python2.7/site-packages/ipykernel/__main__.py:95: Warning: Unknown table 'diktiScraperdb.list0103198'\n"
     ]
    },
    {
     "name": "stdout",
     "output_type": "stream",
     "text": [
      "Get Text Faculty ScrapeHTML Object\n",
      "list0103199 transfered to SQL, done\n"
     ]
    },
    {
     "name": "stderr",
     "output_type": "stream",
     "text": [
      "/home/alien/anaconda2/lib/python2.7/site-packages/ipykernel/__main__.py:95: Warning: Unknown table 'diktiScraperdb.list0103199'\n"
     ]
    },
    {
     "name": "stdout",
     "output_type": "stream",
     "text": [
      "Get Text Faculty ScrapeHTML Object\n",
      "list0103200 transfered to SQL, done\n"
     ]
    },
    {
     "name": "stderr",
     "output_type": "stream",
     "text": [
      "/home/alien/anaconda2/lib/python2.7/site-packages/ipykernel/__main__.py:95: Warning: Unknown table 'diktiScraperdb.list0103200'\n"
     ]
    },
    {
     "name": "stdout",
     "output_type": "stream",
     "text": [
      "Get Text Faculty ScrapeHTML Object\n",
      "list0103201 transfered to SQL, done\n"
     ]
    },
    {
     "name": "stderr",
     "output_type": "stream",
     "text": [
      "/home/alien/anaconda2/lib/python2.7/site-packages/ipykernel/__main__.py:95: Warning: Unknown table 'diktiScraperdb.list0103201'\n"
     ]
    },
    {
     "name": "stdout",
     "output_type": "stream",
     "text": [
      "Get Text Faculty ScrapeHTML Object\n",
      "list0103202 transfered to SQL, done\n"
     ]
    },
    {
     "name": "stderr",
     "output_type": "stream",
     "text": [
      "/home/alien/anaconda2/lib/python2.7/site-packages/ipykernel/__main__.py:95: Warning: Unknown table 'diktiScraperdb.list0103202'\n"
     ]
    },
    {
     "name": "stdout",
     "output_type": "stream",
     "text": [
      "Get Text Faculty ScrapeHTML Object\n"
     ]
    },
    {
     "name": "stderr",
     "output_type": "stream",
     "text": [
      "/home/alien/anaconda2/lib/python2.7/site-packages/ipykernel/__main__.py:95: Warning: Unknown table 'diktiScraperdb.list0103203'\n"
     ]
    },
    {
     "name": "stdout",
     "output_type": "stream",
     "text": [
      "list0103203 transfered to SQL, done\n",
      "Get Text Faculty ScrapeHTML Object\n",
      "list0103204 transfered to SQL, done\n"
     ]
    },
    {
     "name": "stderr",
     "output_type": "stream",
     "text": [
      "/home/alien/anaconda2/lib/python2.7/site-packages/ipykernel/__main__.py:95: Warning: Unknown table 'diktiScraperdb.list0103204'\n"
     ]
    },
    {
     "name": "stdout",
     "output_type": "stream",
     "text": [
      "Get Text Faculty ScrapeHTML Object\n",
      "list0103205 transfered to SQL, done\n"
     ]
    },
    {
     "name": "stderr",
     "output_type": "stream",
     "text": [
      "/home/alien/anaconda2/lib/python2.7/site-packages/ipykernel/__main__.py:95: Warning: Unknown table 'diktiScraperdb.list0103205'\n"
     ]
    },
    {
     "name": "stdout",
     "output_type": "stream",
     "text": [
      "Get Text Faculty ScrapeHTML Object\n",
      "list0103206 transfered to SQL, done\n"
     ]
    },
    {
     "name": "stderr",
     "output_type": "stream",
     "text": [
      "/home/alien/anaconda2/lib/python2.7/site-packages/ipykernel/__main__.py:95: Warning: Unknown table 'diktiScraperdb.list0103206'\n"
     ]
    },
    {
     "name": "stdout",
     "output_type": "stream",
     "text": [
      "Get Text Faculty ScrapeHTML Object\n",
      "list0103207 transfered to SQL, done\n"
     ]
    },
    {
     "name": "stderr",
     "output_type": "stream",
     "text": [
      "/home/alien/anaconda2/lib/python2.7/site-packages/ipykernel/__main__.py:95: Warning: Unknown table 'diktiScraperdb.list0103207'\n"
     ]
    },
    {
     "name": "stdout",
     "output_type": "stream",
     "text": [
      "Get Text Faculty ScrapeHTML Object\n",
      "list0103208 transfered to SQL, done\n"
     ]
    },
    {
     "name": "stderr",
     "output_type": "stream",
     "text": [
      "/home/alien/anaconda2/lib/python2.7/site-packages/ipykernel/__main__.py:95: Warning: Unknown table 'diktiScraperdb.list0103208'\n"
     ]
    },
    {
     "name": "stdout",
     "output_type": "stream",
     "text": [
      "Get Text Faculty ScrapeHTML Object\n",
      "list0103209 transfered to SQL, done\n"
     ]
    },
    {
     "name": "stderr",
     "output_type": "stream",
     "text": [
      "/home/alien/anaconda2/lib/python2.7/site-packages/ipykernel/__main__.py:95: Warning: Unknown table 'diktiScraperdb.list0103209'\n"
     ]
    },
    {
     "name": "stdout",
     "output_type": "stream",
     "text": [
      "Get Text Faculty ScrapeHTML Object\n",
      "list0103210 transfered to SQL, done\n"
     ]
    },
    {
     "name": "stderr",
     "output_type": "stream",
     "text": [
      "/home/alien/anaconda2/lib/python2.7/site-packages/ipykernel/__main__.py:95: Warning: Unknown table 'diktiScraperdb.list0103210'\n"
     ]
    },
    {
     "name": "stdout",
     "output_type": "stream",
     "text": [
      "Get Text Faculty ScrapeHTML Object\n",
      "list0103211 transfered to SQL, done\n"
     ]
    },
    {
     "name": "stderr",
     "output_type": "stream",
     "text": [
      "/home/alien/anaconda2/lib/python2.7/site-packages/ipykernel/__main__.py:95: Warning: Unknown table 'diktiScraperdb.list0103211'\n"
     ]
    },
    {
     "name": "stdout",
     "output_type": "stream",
     "text": [
      "Get Text Faculty ScrapeHTML Object\n",
      "list0103212 transfered to SQL, done\n"
     ]
    },
    {
     "name": "stderr",
     "output_type": "stream",
     "text": [
      "/home/alien/anaconda2/lib/python2.7/site-packages/ipykernel/__main__.py:95: Warning: Unknown table 'diktiScraperdb.list0103212'\n"
     ]
    },
    {
     "name": "stdout",
     "output_type": "stream",
     "text": [
      "Get Text Faculty ScrapeHTML Object\n",
      "list0103213 transfered to SQL, done\n"
     ]
    },
    {
     "name": "stderr",
     "output_type": "stream",
     "text": [
      "/home/alien/anaconda2/lib/python2.7/site-packages/ipykernel/__main__.py:95: Warning: Unknown table 'diktiScraperdb.list0103213'\n"
     ]
    },
    {
     "name": "stdout",
     "output_type": "stream",
     "text": [
      "Get Text Faculty ScrapeHTML Object\n",
      "list0103214 transfered to SQL, done\n"
     ]
    },
    {
     "name": "stderr",
     "output_type": "stream",
     "text": [
      "/home/alien/anaconda2/lib/python2.7/site-packages/ipykernel/__main__.py:95: Warning: Unknown table 'diktiScraperdb.list0103214'\n"
     ]
    },
    {
     "name": "stdout",
     "output_type": "stream",
     "text": [
      "Get Text Faculty ScrapeHTML Object\n",
      "list0103215 transfered to SQL, done\n"
     ]
    },
    {
     "name": "stderr",
     "output_type": "stream",
     "text": [
      "/home/alien/anaconda2/lib/python2.7/site-packages/ipykernel/__main__.py:95: Warning: Unknown table 'diktiScraperdb.list0103215'\n"
     ]
    },
    {
     "name": "stdout",
     "output_type": "stream",
     "text": [
      "Get Text Faculty ScrapeHTML Object\n",
      "list0103216 transfered to SQL, done\n"
     ]
    },
    {
     "name": "stderr",
     "output_type": "stream",
     "text": [
      "/home/alien/anaconda2/lib/python2.7/site-packages/ipykernel/__main__.py:95: Warning: Unknown table 'diktiScraperdb.list0103216'\n"
     ]
    },
    {
     "name": "stdout",
     "output_type": "stream",
     "text": [
      "Get DataLink Scrape HTML Object\n",
      "list0104 transfered to SQL, done\n",
      "Data load from SQL list0104\n"
     ]
    },
    {
     "name": "stderr",
     "output_type": "stream",
     "text": [
      "/home/alien/anaconda2/lib/python2.7/site-packages/ipykernel/__main__.py:69: Warning: Unknown table 'diktiScraperdb.list0104'\n"
     ]
    },
    {
     "name": "stdout",
     "output_type": "stream",
     "text": [
      "Get Text Faculty ScrapeHTML Object\n",
      "list010400 transfered to SQL, done\n"
     ]
    },
    {
     "name": "stderr",
     "output_type": "stream",
     "text": [
      "/home/alien/anaconda2/lib/python2.7/site-packages/ipykernel/__main__.py:95: Warning: Unknown table 'diktiScraperdb.list010400'\n"
     ]
    },
    {
     "name": "stdout",
     "output_type": "stream",
     "text": [
      "Get Text Faculty ScrapeHTML Object\n",
      "list010401 transfered to SQL, done\n"
     ]
    },
    {
     "name": "stderr",
     "output_type": "stream",
     "text": [
      "/home/alien/anaconda2/lib/python2.7/site-packages/ipykernel/__main__.py:95: Warning: Unknown table 'diktiScraperdb.list010401'\n"
     ]
    },
    {
     "name": "stdout",
     "output_type": "stream",
     "text": [
      "Get Text Faculty ScrapeHTML Object\n",
      "list010402 transfered to SQL, done\n"
     ]
    },
    {
     "name": "stderr",
     "output_type": "stream",
     "text": [
      "/home/alien/anaconda2/lib/python2.7/site-packages/ipykernel/__main__.py:95: Warning: Unknown table 'diktiScraperdb.list010402'\n"
     ]
    },
    {
     "name": "stdout",
     "output_type": "stream",
     "text": [
      "Get Text Faculty ScrapeHTML Object\n",
      "list010403 transfered to SQL, done\n"
     ]
    },
    {
     "name": "stderr",
     "output_type": "stream",
     "text": [
      "/home/alien/anaconda2/lib/python2.7/site-packages/ipykernel/__main__.py:95: Warning: Unknown table 'diktiScraperdb.list010403'\n"
     ]
    }
   ],
   "source": [
    "urlServer = \"/home/alien/diktiScraper\" #server program host\n",
    "urlTarget = \"http://forlap.dikti.go.id/perguruantinggi/homerekap\" #home rekap\n",
    "dataGet = {\n",
    "    'addt' : [],\n",
    "    'link' : []\n",
    "} #dictionary for data that got from scraper\n",
    "scraperLayer0 = scrape('layer0_df')\n",
    "dataGet = scraperLayer0.getLink(urlTarget)\n",
    "layer0_df = pandas.DataFrame(dataGet, columns=['addt', 'link'])\n",
    "layer0_df.index.name = 'institutionId'\n",
    "#print layer0_df\n",
    "cur = db.cursor()\n",
    "cur.execute('USE diktiScraperdb;') #menggunakan db\n",
    "cur.execute('DROP TABLE IF EXISTS institusi;') #mengecek tablenya sudah ada atau belum\n",
    "cur.execute('CREATE TABLE institusi (institutionId INT NOT NULL PRIMARY KEY, addt VARCHAR(255),link VARCHAR(255));') #buat table\n",
    "layer0_df.to_sql(con=db,\n",
    "                 name='institusi', \n",
    "                 if_exists='append', \n",
    "                 flavor='mysql',              \n",
    "                ) #mencetak ke mySQL\n",
    "print \"Data Layer 0 transfered to SQL, done\"\n",
    "layer0_df = pandas.read_sql(\"SELECT link FROM institusi;\" ,db)\n",
    "print \"Data load from SQL layer0_df\"\n",
    "i = 0\n",
    "#layer = 1\n",
    "for link in layer0_df['link']:\n",
    "    urlTarget0 = link\n",
    "    #print urlTarget\n",
    "    if i/10 < 1:\n",
    "        nameDb1 = 'list0' + str(i)\n",
    "    else :\n",
    "        nameDb1 = 'list' + str(i)\n",
    "    nameDb1 = str(nameDb1)\n",
    "    query0 = 'USE diktiScraperdb;'\n",
    "    query1 = \"DROP TABLE IF EXISTS \" + nameDb1\n",
    "    query2 = \"CREATE TABLE \"+ nameDb1 +\" (institutionId INT NOT NULL PRIMARY KEY, addt VARCHAR(255),link VARCHAR(255));\"\n",
    "    scraper1 = scrape('df1')\n",
    "    dataGet1 = scraper1.getLink(urlTarget0)\n",
    "    df1 = pandas.DataFrame(dataGet1, columns=['addt', 'link'])\n",
    "    df1.index.name = 'institutionId'\n",
    "    #print df\n",
    "    cur.execute(query0)\n",
    "    cur.execute(query1)\n",
    "    cur.execute(query2)\n",
    "    df1.to_sql(con=db,\n",
    "            name= nameDb1, \n",
    "            if_exists='append', \n",
    "            flavor='mysql',\n",
    "            ) #mencetak ke mySQL\n",
    "    print nameDb1 +\" transfered to SQL, done\"\n",
    "    query3 = \"SELECT link FROM \"+ nameDb1 +\";\"\n",
    "    layer1_df = pandas.read_sql(query3 ,db)\n",
    "    print \"Data load from SQL \" + nameDb1\n",
    "    j = 0\n",
    "    for link1 in  layer1_df['link']:\n",
    "        urlTarget1 = link1\n",
    "        if j/10 < 1:\n",
    "            nameDb2 = nameDb1 + \"0\" + str(j)\n",
    "        else :\n",
    "            nameDb2 = nameDb1 + str(j)\n",
    "        nameDb2 = str(nameDb2)\n",
    "        query4 = \"DROP TABLE IF EXISTS \" + nameDb2\n",
    "        query5 = \"CREATE TABLE \"+ nameDb2 +\" (institutionId INT NOT NULL PRIMARY KEY, addt VARCHAR(255),link VARCHAR(255));\"\n",
    "        scraper2 = scrape('df2')\n",
    "        dataGet2 = scraper2.getLink(urlTarget1)\n",
    "        df2 = pandas.DataFrame(dataGet2, columns=['addt', 'link'])\n",
    "        df2.index.name = 'institutionId'\n",
    "        cur.execute(query0)\n",
    "        cur.execute(query4)\n",
    "        cur.execute(query5)\n",
    "        df2.to_sql(con=db,\n",
    "                  name = nameDb2,\n",
    "                  if_exists=\"append\",\n",
    "                  flavor=\"mysql\",\n",
    "                  )\n",
    "        print nameDb2 +\" transfered to SQL, done\"\n",
    "        query6 = \"SELECT link FROM \"+ nameDb2 +\";\"\n",
    "        layer2_df = pandas.read_sql(query6 ,db)\n",
    "        print \"Data load from SQL \" + nameDb2\n",
    "        k = 0\n",
    "        for link2 in  layer2_df['link']:\n",
    "            urlTarget2 = link2\n",
    "            if k/10 < 1:\n",
    "                nameDb3 = nameDb2 + \"0\" + str(k)\n",
    "            else :\n",
    "                nameDb3 = nameDb2 + str(k)\n",
    "            nameDb3 = str(nameDb3)\n",
    "            query7 = \"DROP TABLE IF EXISTS \" + nameDb3 +\";\"\n",
    "            query8 = \"CREATE TABLE \"+ nameDb3 +\" (institutionId INT NOT NULL PRIMARY KEY, addt VARCHAR(255));\"\n",
    "            scraper3 = scrape('df3')\n",
    "            dataGet3 = scraper3.getTextOnly(urlTarget2)\n",
    "            df3 = pandas.DataFrame(dataGet3, columns=['addt'])\n",
    "            df3.index.name = 'institutionId'\n",
    "            cur.execute(query0)\n",
    "            cur.execute(query7)\n",
    "            cur.execute(query8)\n",
    "            df3.to_sql(con=db,\n",
    "                      name = nameDb3,\n",
    "                      if_exists=\"append\",\n",
    "                      flavor=\"mysql\",\n",
    "                      )\n",
    "            print nameDb3 +\" transfered to SQL, done\"\n",
    "            k = k+1\n",
    "        j = j+1\n",
    "    i = i+1"
   ]
  }
 ],
 "metadata": {
  "anaconda-cloud": {},
  "kernelspec": {
   "display_name": "Python [default]",
   "language": "python",
   "name": "python2"
  },
  "language_info": {
   "codemirror_mode": {
    "name": "ipython",
    "version": 2
   },
   "file_extension": ".py",
   "mimetype": "text/x-python",
   "name": "python",
   "nbconvert_exporter": "python",
   "pygments_lexer": "ipython2",
   "version": "2.7.12"
  }
 },
 "nbformat": 4,
 "nbformat_minor": 1
}
