{
 "cells": [
  {
   "cell_type": "markdown",
   "metadata": {},
   "source": [
    "# Dikti Scraper 0.1"
   ]
  },
  {
   "cell_type": "markdown",
   "metadata": {},
   "source": [
    "## melakukan pengambilan data unstructure dari halaman web"
   ]
  },
  {
   "cell_type": "markdown",
   "metadata": {},
   "source": [
    "##### membuat objek scrape"
   ]
  },
  {
   "cell_type": "code",
   "execution_count": 40,
   "metadata": {
    "collapsed": false
   },
   "outputs": [],
   "source": [
    "from bs4 import BeautifulSoup\n",
    "import urllib\n",
    "import pandas\n",
    "import MySQLdb\n",
    "import sqlalchemy\n",
    "import os\n",
    "\n",
    "db = MySQLdb.connect(\n",
    "    host = '127.0.0.1',\n",
    "    user = 'root',\n",
    "    passwd = '310116',\n",
    "    db = 'diktiScraperdb'\n",
    ")\n",
    "\n",
    "class scrape(object): #membuat objek scrape\n",
    "\n",
    "    def __init__(self, nameOfMachine): #inisiasi objek\n",
    "        self.nameOfMachine = nameOfMachine #pemberian atribut objek pada inisiasi\n",
    "\n",
    "    def getLink(self, addr): #membuat fungsi getLink\n",
    "        dataLink = {  #membuat dictionary\n",
    "        'addt' : [], #teks untuk penambahan\n",
    "        'link' : [] #link yang ada di halaman\n",
    "        }\n",
    "        def scrapePage(addr):\n",
    "            scrapeData = BeautifulSoup(urllib.urlopen(addr), \"html.parser\")\n",
    "            return scrapeData\n",
    "        data = scrapePage(addr)\n",
    "        for recordRow in data.findAll('tr'):\n",
    "            addtText = \"\"\n",
    "            for recordLink in recordRow.findAll('a', href=True):\n",
    "                tempData = recordLink.text.split()\n",
    "                for listOfTempData in tempData:\n",
    "                    addtText = addtText + listOfTempData + \" \"\n",
    "                dataLink['addt'].append(str(addtText))\n",
    "                dataLink['link'].append(str(recordLink['href']))\n",
    "                \n",
    "        return dataLink\n"
   ]
  },
  {
   "cell_type": "code",
   "execution_count": 41,
   "metadata": {
    "collapsed": false
   },
   "outputs": [
    {
     "ename": "AttributeError",
     "evalue": "'DataFrame' object has no attribute 'header'",
     "output_type": "error",
     "traceback": [
      "\u001b[0;31m---------------------------------------------------------------------------\u001b[0m",
      "\u001b[0;31mAttributeError\u001b[0m                            Traceback (most recent call last)",
      "\u001b[0;32m<ipython-input-41-ea7e0500b1a1>\u001b[0m in \u001b[0;36m<module>\u001b[0;34m()\u001b[0m\n\u001b[1;32m      9\u001b[0m \u001b[0mlayer0_df\u001b[0m \u001b[0;34m=\u001b[0m \u001b[0mpandas\u001b[0m\u001b[0;34m.\u001b[0m\u001b[0mDataFrame\u001b[0m\u001b[0;34m(\u001b[0m\u001b[0mdataGet\u001b[0m\u001b[0;34m,\u001b[0m \u001b[0mcolumns\u001b[0m\u001b[0;34m=\u001b[0m\u001b[0;34m[\u001b[0m\u001b[0;34m'addt'\u001b[0m\u001b[0;34m,\u001b[0m \u001b[0;34m'link'\u001b[0m\u001b[0;34m]\u001b[0m\u001b[0;34m)\u001b[0m\u001b[0;34m\u001b[0m\u001b[0m\n\u001b[1;32m     10\u001b[0m \u001b[0mlayer0_df\u001b[0m\u001b[0;34m.\u001b[0m\u001b[0mindex\u001b[0m\u001b[0;34m.\u001b[0m\u001b[0mname\u001b[0m \u001b[0;34m=\u001b[0m \u001b[0;34m'institutionId'\u001b[0m\u001b[0;34m\u001b[0m\u001b[0m\n\u001b[0;32m---> 11\u001b[0;31m \u001b[0;32mprint\u001b[0m \u001b[0mlayer0_df\u001b[0m\u001b[0;34m.\u001b[0m\u001b[0mheader\u001b[0m\u001b[0;34m\u001b[0m\u001b[0m\n\u001b[0m\u001b[1;32m     12\u001b[0m \u001b[0;31m#print layer0_df\u001b[0m\u001b[0;34m\u001b[0m\u001b[0;34m\u001b[0m\u001b[0m\n\u001b[1;32m     13\u001b[0m \"\"\"\n",
      "\u001b[0;32m/home/alien/anaconda2/lib/python2.7/site-packages/pandas/core/generic.pyc\u001b[0m in \u001b[0;36m__getattr__\u001b[0;34m(self, name)\u001b[0m\n\u001b[1;32m   2670\u001b[0m             \u001b[0;32mif\u001b[0m \u001b[0mname\u001b[0m \u001b[0;32min\u001b[0m \u001b[0mself\u001b[0m\u001b[0;34m.\u001b[0m\u001b[0m_info_axis\u001b[0m\u001b[0;34m:\u001b[0m\u001b[0;34m\u001b[0m\u001b[0m\n\u001b[1;32m   2671\u001b[0m                 \u001b[0;32mreturn\u001b[0m \u001b[0mself\u001b[0m\u001b[0;34m[\u001b[0m\u001b[0mname\u001b[0m\u001b[0;34m]\u001b[0m\u001b[0;34m\u001b[0m\u001b[0m\n\u001b[0;32m-> 2672\u001b[0;31m             \u001b[0;32mreturn\u001b[0m \u001b[0mobject\u001b[0m\u001b[0;34m.\u001b[0m\u001b[0m__getattribute__\u001b[0m\u001b[0;34m(\u001b[0m\u001b[0mself\u001b[0m\u001b[0;34m,\u001b[0m \u001b[0mname\u001b[0m\u001b[0;34m)\u001b[0m\u001b[0;34m\u001b[0m\u001b[0m\n\u001b[0m\u001b[1;32m   2673\u001b[0m \u001b[0;34m\u001b[0m\u001b[0m\n\u001b[1;32m   2674\u001b[0m     \u001b[0;32mdef\u001b[0m \u001b[0m__setattr__\u001b[0m\u001b[0;34m(\u001b[0m\u001b[0mself\u001b[0m\u001b[0;34m,\u001b[0m \u001b[0mname\u001b[0m\u001b[0;34m,\u001b[0m \u001b[0mvalue\u001b[0m\u001b[0;34m)\u001b[0m\u001b[0;34m:\u001b[0m\u001b[0;34m\u001b[0m\u001b[0m\n",
      "\u001b[0;31mAttributeError\u001b[0m: 'DataFrame' object has no attribute 'header'"
     ]
    }
   ],
   "source": [
    "urlServer = \"/home/alien/diktiScraper\" #server program host\n",
    "urlTarget = \"http://forlap.dikti.go.id/perguruantinggi/homerekap\" #home rekap\n",
    "dataGet = {\n",
    "    'addt' : [],\n",
    "    'link' : []\n",
    "} #dictionary for data that got from scraper\n",
    "scraperLayer0 = scrape('layer0_df')\n",
    "dataGet = scraperLayer0.getLink(urlTarget)\n",
    "layer0_df = pandas.DataFrame(dataGet, columns=['addt', 'link'])\n",
    "layer0_df.index.name = 'institutionId'\n",
    "#print layer0_df\n",
    "\"\"\"\n",
    "layer0_df.to_sql(con=db,\n",
    "                 name='institusi', \n",
    "                 if_exists='replace', \n",
    "                 flavor='mysql',\n",
    "                )\n",
    "\"\"\"\n",
    "\n",
    "\n"
   ]
  }
 ],
 "metadata": {
  "anaconda-cloud": {},
  "kernelspec": {
   "display_name": "Python [default]",
   "language": "python",
   "name": "python2"
  },
  "language_info": {
   "codemirror_mode": {
    "name": "ipython",
    "version": 2
   },
   "file_extension": ".py",
   "mimetype": "text/x-python",
   "name": "python",
   "nbconvert_exporter": "python",
   "pygments_lexer": "ipython2",
   "version": "2.7.12"
  }
 },
 "nbformat": 4,
 "nbformat_minor": 1
}
