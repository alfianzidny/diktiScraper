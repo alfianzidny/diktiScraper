{
 "cells": [
  {
   "cell_type": "code",
   "execution_count": null,
   "metadata": {
    "collapsed": true
   },
   "outputs": [],
   "source": [
    "from bs4 import BeautifulSoup\n",
    "import urllib\n",
    "import pandas\n",
    "\n",
    "url = \"http://forlap.dikti.go.id/prodi/detail/NzAwQjZFODItOTAwQi00MTMwLTlBNEEtNkM2RTZGODc5OTI4/0\"\n",
    "scrape = BeautifulSoup(urllib.urlopen(url), \"html.parser\")\n",
    "#print scrape\n",
    "listInfoProd = []\n",
    "listDosen = []\n",
    "listTemp = []\n",
    "for record in scrape.findAll('table', {\"class\": \"table1\"}):\n",
    "    i = 1\n",
    "    for record2 in record.findAll('td'):\n",
    "        if i % 3 == 0 and i <= 24:\n",
    "            #print record2.text\n",
    "            listTemp.append(record2.text)\n",
    "        i = i+1\n",
    "    i = 1\n",
    "    for item in listTemp:\n",
    "        if i == 1 or i == 3 or i == 5 or i == 6:\n",
    "            #print item\n",
    "            listInfoProd.append(item)\n",
    "        i=i+1\n",
    "print listInfoProd\n",
    "listTemp = []\n",
    "for record in scrape.findAll('div', {\"id\": \"dosen\"}):\n",
    "    #print record\n",
    "    for record2 in record.findAll('td'):\n",
    "        listTemp.append(record2.text)\n",
    "        #print listTemp\n",
    "for item in listTemp[3::5]:\n",
    "    #print item\n",
    "    listDosen.append(item)\n",
    "print listDosen\n",
    "S2 = 0\n",
    "S3 = 0\n",
    "for item in listDosen:\n",
    "    if item == 'S2':\n",
    "        S2 = S2 +1\n",
    "    elif item == 'S3':\n",
    "        S3 = S3 +1\n",
    "print \"S2 = \",S2\n",
    "print \"S3 = \",S3\n"
   ]
  }
 ],
 "metadata": {
  "anaconda-cloud": {},
  "kernelspec": {
   "display_name": "Python [default]",
   "language": "python",
   "name": "python2"
  },
  "language_info": {
   "codemirror_mode": {
    "name": "ipython",
    "version": 2
   },
   "file_extension": ".py",
   "mimetype": "text/x-python",
   "name": "python",
   "nbconvert_exporter": "python",
   "pygments_lexer": "ipython2",
   "version": "2.7.12"
  }
 },
 "nbformat": 4,
 "nbformat_minor": 1
}
